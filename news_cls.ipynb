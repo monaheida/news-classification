{
  "nbformat": 4,
  "nbformat_minor": 0,
  "metadata": {
    "colab": {
      "provenance": []
    },
    "kernelspec": {
      "name": "python3",
      "display_name": "Python 3"
    },
    "language_info": {
      "name": "python"
    }
  },
  "cells": [
    {
      "cell_type": "code",
      "execution_count": 11,
      "metadata": {
        "colab": {
          "base_uri": "https://localhost:8080/"
        },
        "id": "FxpXzniT-XNf",
        "outputId": "9dad2c6c-f3e1-4f8a-e472-819fd92744f4"
      },
      "outputs": [
        {
          "output_type": "stream",
          "name": "stdout",
          "text": [
            "Drive already mounted at /content/drive/; to attempt to forcibly remount, call drive.mount(\"/content/drive/\", force_remount=True).\n"
          ]
        }
      ],
      "source": [
        "from google.colab import drive\n",
        "drive.mount('/content/drive/')"
      ]
    },
    {
      "cell_type": "code",
      "source": [
        "import numpy as np\n",
        "import pandas as pd\n",
        "import matplotlib.pyplot as plt\n",
        "import os\n",
        "from sklearn.feature_extraction.text import TfidfVectorizer"
      ],
      "metadata": {
        "id": "LRv8WKiF-bVP"
      },
      "execution_count": 12,
      "outputs": []
    },
    {
      "cell_type": "code",
      "source": [
        "df_train = pd.read_json('/content/drive/My Drive/train.jsonl', lines=True)\n",
        "\n",
        "df_train.head()"
      ],
      "metadata": {
        "colab": {
          "base_uri": "https://localhost:8080/",
          "height": 289
        },
        "id": "vWNKIf9a-pmg",
        "outputId": "65e99142-1c31-4274-d968-b6345fd14854"
      },
      "execution_count": 13,
      "outputs": [
        {
          "output_type": "execute_result",
          "data": {
            "text/plain": [
              "   category                                           headline  \\\n",
              "0  WELLNESS                Pain's Long Reach and Powerful Grip   \n",
              "1  POLITICS  Runaway Trump Train Picks Up Speed As Aides Ca...   \n",
              "2   PARENTS  Why Parental Praise Doesn't Create Narcissists...   \n",
              "3  BUSINESS  A New Deal For Farmers - How Founding Farmers ...   \n",
              "4  POLITICS                       The GOP Targets Entitlements   \n",
              "\n",
              "                                             authors  \\\n",
              "0  Jim Moret, Contributor\\nChief Correspondent, I...   \n",
              "1                       Howard Fineman and S.V. Date   \n",
              "2  Dr. Craig Malkin, ContributorAuthor, Clinical ...   \n",
              "3                            AJ Agrawal, Contributor   \n",
              "4  Joe Peyronnin, ContributorHofstra Journalism P...   \n",
              "\n",
              "                                                link  \\\n",
              "0  https://www.huffingtonpost.com/entry/dealing-w...   \n",
              "1  https://www.huffingtonpost.com/entry/runaway-t...   \n",
              "2  https://www.huffingtonpost.com/entry/why-paren...   \n",
              "3  https://www.huffingtonpost.com/entry/a-new-dea...   \n",
              "4  https://www.huffingtonpost.com/entry/the-gop-t...   \n",
              "\n",
              "                                   short_description       date  \n",
              "0  Ask our son about pain. He will tell you about... 2013-09-09  \n",
              "1  Paul Manafort isn’t quitting, but is said to b... 2016-08-03  \n",
              "2  Go ahead and tell your kids they're special as... 2015-05-14  \n",
              "3                                                    2016-09-18  \n",
              "4  House and Senate Republicans are committed to ... 2017-12-08  "
            ],
            "text/html": [
              "\n",
              "  <div id=\"df-83a2a12b-8805-4122-a19b-b36132ba1a25\" class=\"colab-df-container\">\n",
              "    <div>\n",
              "<style scoped>\n",
              "    .dataframe tbody tr th:only-of-type {\n",
              "        vertical-align: middle;\n",
              "    }\n",
              "\n",
              "    .dataframe tbody tr th {\n",
              "        vertical-align: top;\n",
              "    }\n",
              "\n",
              "    .dataframe thead th {\n",
              "        text-align: right;\n",
              "    }\n",
              "</style>\n",
              "<table border=\"1\" class=\"dataframe\">\n",
              "  <thead>\n",
              "    <tr style=\"text-align: right;\">\n",
              "      <th></th>\n",
              "      <th>category</th>\n",
              "      <th>headline</th>\n",
              "      <th>authors</th>\n",
              "      <th>link</th>\n",
              "      <th>short_description</th>\n",
              "      <th>date</th>\n",
              "    </tr>\n",
              "  </thead>\n",
              "  <tbody>\n",
              "    <tr>\n",
              "      <th>0</th>\n",
              "      <td>WELLNESS</td>\n",
              "      <td>Pain's Long Reach and Powerful Grip</td>\n",
              "      <td>Jim Moret, Contributor\\nChief Correspondent, I...</td>\n",
              "      <td>https://www.huffingtonpost.com/entry/dealing-w...</td>\n",
              "      <td>Ask our son about pain. He will tell you about...</td>\n",
              "      <td>2013-09-09</td>\n",
              "    </tr>\n",
              "    <tr>\n",
              "      <th>1</th>\n",
              "      <td>POLITICS</td>\n",
              "      <td>Runaway Trump Train Picks Up Speed As Aides Ca...</td>\n",
              "      <td>Howard Fineman and S.V. Date</td>\n",
              "      <td>https://www.huffingtonpost.com/entry/runaway-t...</td>\n",
              "      <td>Paul Manafort isn’t quitting, but is said to b...</td>\n",
              "      <td>2016-08-03</td>\n",
              "    </tr>\n",
              "    <tr>\n",
              "      <th>2</th>\n",
              "      <td>PARENTS</td>\n",
              "      <td>Why Parental Praise Doesn't Create Narcissists...</td>\n",
              "      <td>Dr. Craig Malkin, ContributorAuthor, Clinical ...</td>\n",
              "      <td>https://www.huffingtonpost.com/entry/why-paren...</td>\n",
              "      <td>Go ahead and tell your kids they're special as...</td>\n",
              "      <td>2015-05-14</td>\n",
              "    </tr>\n",
              "    <tr>\n",
              "      <th>3</th>\n",
              "      <td>BUSINESS</td>\n",
              "      <td>A New Deal For Farmers - How Founding Farmers ...</td>\n",
              "      <td>AJ Agrawal, Contributor</td>\n",
              "      <td>https://www.huffingtonpost.com/entry/a-new-dea...</td>\n",
              "      <td></td>\n",
              "      <td>2016-09-18</td>\n",
              "    </tr>\n",
              "    <tr>\n",
              "      <th>4</th>\n",
              "      <td>POLITICS</td>\n",
              "      <td>The GOP Targets Entitlements</td>\n",
              "      <td>Joe Peyronnin, ContributorHofstra Journalism P...</td>\n",
              "      <td>https://www.huffingtonpost.com/entry/the-gop-t...</td>\n",
              "      <td>House and Senate Republicans are committed to ...</td>\n",
              "      <td>2017-12-08</td>\n",
              "    </tr>\n",
              "  </tbody>\n",
              "</table>\n",
              "</div>\n",
              "    <div class=\"colab-df-buttons\">\n",
              "\n",
              "  <div class=\"colab-df-container\">\n",
              "    <button class=\"colab-df-convert\" onclick=\"convertToInteractive('df-83a2a12b-8805-4122-a19b-b36132ba1a25')\"\n",
              "            title=\"Convert this dataframe to an interactive table.\"\n",
              "            style=\"display:none;\">\n",
              "\n",
              "  <svg xmlns=\"http://www.w3.org/2000/svg\" height=\"24px\" viewBox=\"0 -960 960 960\">\n",
              "    <path d=\"M120-120v-720h720v720H120Zm60-500h600v-160H180v160Zm220 220h160v-160H400v160Zm0 220h160v-160H400v160ZM180-400h160v-160H180v160Zm440 0h160v-160H620v160ZM180-180h160v-160H180v160Zm440 0h160v-160H620v160Z\"/>\n",
              "  </svg>\n",
              "    </button>\n",
              "\n",
              "  <style>\n",
              "    .colab-df-container {\n",
              "      display:flex;\n",
              "      gap: 12px;\n",
              "    }\n",
              "\n",
              "    .colab-df-convert {\n",
              "      background-color: #E8F0FE;\n",
              "      border: none;\n",
              "      border-radius: 50%;\n",
              "      cursor: pointer;\n",
              "      display: none;\n",
              "      fill: #1967D2;\n",
              "      height: 32px;\n",
              "      padding: 0 0 0 0;\n",
              "      width: 32px;\n",
              "    }\n",
              "\n",
              "    .colab-df-convert:hover {\n",
              "      background-color: #E2EBFA;\n",
              "      box-shadow: 0px 1px 2px rgba(60, 64, 67, 0.3), 0px 1px 3px 1px rgba(60, 64, 67, 0.15);\n",
              "      fill: #174EA6;\n",
              "    }\n",
              "\n",
              "    .colab-df-buttons div {\n",
              "      margin-bottom: 4px;\n",
              "    }\n",
              "\n",
              "    [theme=dark] .colab-df-convert {\n",
              "      background-color: #3B4455;\n",
              "      fill: #D2E3FC;\n",
              "    }\n",
              "\n",
              "    [theme=dark] .colab-df-convert:hover {\n",
              "      background-color: #434B5C;\n",
              "      box-shadow: 0px 1px 3px 1px rgba(0, 0, 0, 0.15);\n",
              "      filter: drop-shadow(0px 1px 2px rgba(0, 0, 0, 0.3));\n",
              "      fill: #FFFFFF;\n",
              "    }\n",
              "  </style>\n",
              "\n",
              "    <script>\n",
              "      const buttonEl =\n",
              "        document.querySelector('#df-83a2a12b-8805-4122-a19b-b36132ba1a25 button.colab-df-convert');\n",
              "      buttonEl.style.display =\n",
              "        google.colab.kernel.accessAllowed ? 'block' : 'none';\n",
              "\n",
              "      async function convertToInteractive(key) {\n",
              "        const element = document.querySelector('#df-83a2a12b-8805-4122-a19b-b36132ba1a25');\n",
              "        const dataTable =\n",
              "          await google.colab.kernel.invokeFunction('convertToInteractive',\n",
              "                                                    [key], {});\n",
              "        if (!dataTable) return;\n",
              "\n",
              "        const docLinkHtml = 'Like what you see? Visit the ' +\n",
              "          '<a target=\"_blank\" href=https://colab.research.google.com/notebooks/data_table.ipynb>data table notebook</a>'\n",
              "          + ' to learn more about interactive tables.';\n",
              "        element.innerHTML = '';\n",
              "        dataTable['output_type'] = 'display_data';\n",
              "        await google.colab.output.renderOutput(dataTable, element);\n",
              "        const docLink = document.createElement('div');\n",
              "        docLink.innerHTML = docLinkHtml;\n",
              "        element.appendChild(docLink);\n",
              "      }\n",
              "    </script>\n",
              "  </div>\n",
              "\n",
              "\n",
              "<div id=\"df-6380f8c8-0de6-493c-81b3-7f69433e5f62\">\n",
              "  <button class=\"colab-df-quickchart\" onclick=\"quickchart('df-6380f8c8-0de6-493c-81b3-7f69433e5f62')\"\n",
              "            title=\"Suggest charts\"\n",
              "            style=\"display:none;\">\n",
              "\n",
              "<svg xmlns=\"http://www.w3.org/2000/svg\" height=\"24px\"viewBox=\"0 0 24 24\"\n",
              "     width=\"24px\">\n",
              "    <g>\n",
              "        <path d=\"M19 3H5c-1.1 0-2 .9-2 2v14c0 1.1.9 2 2 2h14c1.1 0 2-.9 2-2V5c0-1.1-.9-2-2-2zM9 17H7v-7h2v7zm4 0h-2V7h2v10zm4 0h-2v-4h2v4z\"/>\n",
              "    </g>\n",
              "</svg>\n",
              "  </button>\n",
              "\n",
              "<style>\n",
              "  .colab-df-quickchart {\n",
              "      --bg-color: #E8F0FE;\n",
              "      --fill-color: #1967D2;\n",
              "      --hover-bg-color: #E2EBFA;\n",
              "      --hover-fill-color: #174EA6;\n",
              "      --disabled-fill-color: #AAA;\n",
              "      --disabled-bg-color: #DDD;\n",
              "  }\n",
              "\n",
              "  [theme=dark] .colab-df-quickchart {\n",
              "      --bg-color: #3B4455;\n",
              "      --fill-color: #D2E3FC;\n",
              "      --hover-bg-color: #434B5C;\n",
              "      --hover-fill-color: #FFFFFF;\n",
              "      --disabled-bg-color: #3B4455;\n",
              "      --disabled-fill-color: #666;\n",
              "  }\n",
              "\n",
              "  .colab-df-quickchart {\n",
              "    background-color: var(--bg-color);\n",
              "    border: none;\n",
              "    border-radius: 50%;\n",
              "    cursor: pointer;\n",
              "    display: none;\n",
              "    fill: var(--fill-color);\n",
              "    height: 32px;\n",
              "    padding: 0;\n",
              "    width: 32px;\n",
              "  }\n",
              "\n",
              "  .colab-df-quickchart:hover {\n",
              "    background-color: var(--hover-bg-color);\n",
              "    box-shadow: 0 1px 2px rgba(60, 64, 67, 0.3), 0 1px 3px 1px rgba(60, 64, 67, 0.15);\n",
              "    fill: var(--button-hover-fill-color);\n",
              "  }\n",
              "\n",
              "  .colab-df-quickchart-complete:disabled,\n",
              "  .colab-df-quickchart-complete:disabled:hover {\n",
              "    background-color: var(--disabled-bg-color);\n",
              "    fill: var(--disabled-fill-color);\n",
              "    box-shadow: none;\n",
              "  }\n",
              "\n",
              "  .colab-df-spinner {\n",
              "    border: 2px solid var(--fill-color);\n",
              "    border-color: transparent;\n",
              "    border-bottom-color: var(--fill-color);\n",
              "    animation:\n",
              "      spin 1s steps(1) infinite;\n",
              "  }\n",
              "\n",
              "  @keyframes spin {\n",
              "    0% {\n",
              "      border-color: transparent;\n",
              "      border-bottom-color: var(--fill-color);\n",
              "      border-left-color: var(--fill-color);\n",
              "    }\n",
              "    20% {\n",
              "      border-color: transparent;\n",
              "      border-left-color: var(--fill-color);\n",
              "      border-top-color: var(--fill-color);\n",
              "    }\n",
              "    30% {\n",
              "      border-color: transparent;\n",
              "      border-left-color: var(--fill-color);\n",
              "      border-top-color: var(--fill-color);\n",
              "      border-right-color: var(--fill-color);\n",
              "    }\n",
              "    40% {\n",
              "      border-color: transparent;\n",
              "      border-right-color: var(--fill-color);\n",
              "      border-top-color: var(--fill-color);\n",
              "    }\n",
              "    60% {\n",
              "      border-color: transparent;\n",
              "      border-right-color: var(--fill-color);\n",
              "    }\n",
              "    80% {\n",
              "      border-color: transparent;\n",
              "      border-right-color: var(--fill-color);\n",
              "      border-bottom-color: var(--fill-color);\n",
              "    }\n",
              "    90% {\n",
              "      border-color: transparent;\n",
              "      border-bottom-color: var(--fill-color);\n",
              "    }\n",
              "  }\n",
              "</style>\n",
              "\n",
              "  <script>\n",
              "    async function quickchart(key) {\n",
              "      const quickchartButtonEl =\n",
              "        document.querySelector('#' + key + ' button');\n",
              "      quickchartButtonEl.disabled = true;  // To prevent multiple clicks.\n",
              "      quickchartButtonEl.classList.add('colab-df-spinner');\n",
              "      try {\n",
              "        const charts = await google.colab.kernel.invokeFunction(\n",
              "            'suggestCharts', [key], {});\n",
              "      } catch (error) {\n",
              "        console.error('Error during call to suggestCharts:', error);\n",
              "      }\n",
              "      quickchartButtonEl.classList.remove('colab-df-spinner');\n",
              "      quickchartButtonEl.classList.add('colab-df-quickchart-complete');\n",
              "    }\n",
              "    (() => {\n",
              "      let quickchartButtonEl =\n",
              "        document.querySelector('#df-6380f8c8-0de6-493c-81b3-7f69433e5f62 button');\n",
              "      quickchartButtonEl.style.display =\n",
              "        google.colab.kernel.accessAllowed ? 'block' : 'none';\n",
              "    })();\n",
              "  </script>\n",
              "</div>\n",
              "    </div>\n",
              "  </div>\n"
            ],
            "application/vnd.google.colaboratory.intrinsic+json": {
              "type": "dataframe",
              "variable_name": "df_train",
              "summary": "{\n  \"name\": \"df_train\",\n  \"rows\": 10000,\n  \"fields\": [\n    {\n      \"column\": \"category\",\n      \"properties\": {\n        \"dtype\": \"category\",\n        \"num_unique_values\": 42,\n        \"samples\": [\n          \"MONEY\",\n          \"FOOD & DRINK\",\n          \"QUEER VOICES\"\n        ],\n        \"semantic_type\": \"\",\n        \"description\": \"\"\n      }\n    },\n    {\n      \"column\": \"headline\",\n      \"properties\": {\n        \"dtype\": \"string\",\n        \"num_unique_values\": 9967,\n        \"samples\": [\n          \"Putin Would Probably Prefer Clinton, But Not for the Reasons Trump Thinks\",\n          \"Europe's New Co-Pilot Rule To Prevent Pilot Suicide Is Misguided, Experts Say\",\n          \"Kale And Sweet Potato Soup\"\n        ],\n        \"semantic_type\": \"\",\n        \"description\": \"\"\n      }\n    },\n    {\n      \"column\": \"authors\",\n      \"properties\": {\n        \"dtype\": \"category\",\n        \"num_unique_values\": 3541,\n        \"samples\": [\n          \"Randi Weingarten, ContributorPresident, American Federation of Teachers\",\n          \"Nick Knudsen, ContributorWriter, Thinker, Agitator\",\n          \"Lawrence Hurley 4 MIN READ, Reuters\"\n        ],\n        \"semantic_type\": \"\",\n        \"description\": \"\"\n      }\n    },\n    {\n      \"column\": \"link\",\n      \"properties\": {\n        \"dtype\": \"string\",\n        \"num_unique_values\": 10000,\n        \"samples\": [\n          \"https://www.huffingtonpost.com/entry/adult-bedtime_us_5b9b47e7e4b03a1dcc7644c3\",\n          \"https://www.huffingtonpost.com/entry/medicare-for-all-the-next-step-in-the-new-deal_us_59b6d9e7e4b02bebae75f06e\",\n          \"https://www.huffingtonpost.com/entry/the-revolutions-indispensable-man-as-iranians-head_us_5915f0b1e4b02d6199b2eeb1\"\n        ],\n        \"semantic_type\": \"\",\n        \"description\": \"\"\n      }\n    },\n    {\n      \"column\": \"short_description\",\n      \"properties\": {\n        \"dtype\": \"string\",\n        \"num_unique_values\": 9010,\n        \"samples\": [\n          \"They're better than you, and their fingers let you know it ...\",\n          \"\\u201cIt's a hard thing to do, but it makes women who feel inferior ... feel comfortable,\\u201d Clarkson said of Underwood.\",\n          \"In this week\\u2019s episode of \\u201cScheer Intelligence,\\u201d Robert Scheer interviews Dr. Paul Song, a radiation oncologist and an outspoken\"\n        ],\n        \"semantic_type\": \"\",\n        \"description\": \"\"\n      }\n    },\n    {\n      \"column\": \"date\",\n      \"properties\": {\n        \"dtype\": \"date\",\n        \"min\": \"2012-01-28 00:00:00\",\n        \"max\": \"2022-09-23 00:00:00\",\n        \"num_unique_values\": 2630,\n        \"samples\": [\n          \"2017-01-31 00:00:00\",\n          \"2016-05-25 00:00:00\",\n          \"2012-02-26 00:00:00\"\n        ],\n        \"semantic_type\": \"\",\n        \"description\": \"\"\n      }\n    }\n  ]\n}"
            }
          },
          "metadata": {},
          "execution_count": 13
        }
      ]
    },
    {
      "cell_type": "code",
      "source": [
        "df_train['category_id'] = df_train['category'].factorize()[0]"
      ],
      "metadata": {
        "id": "nB_yNkV4_H99"
      },
      "execution_count": 14,
      "outputs": []
    },
    {
      "cell_type": "markdown",
      "source": [
        "### first 10 entries of category_id"
      ],
      "metadata": {
        "id": "xlzyEjNJh0qO"
      }
    },
    {
      "cell_type": "code",
      "source": [
        "df_train['category_id'][0:10]"
      ],
      "metadata": {
        "colab": {
          "base_uri": "https://localhost:8080/"
        },
        "id": "BY-DPDkC_UY-",
        "outputId": "cab25b77-0575-47f2-88e9-f48080b367eb"
      },
      "execution_count": 15,
      "outputs": [
        {
          "output_type": "execute_result",
          "data": {
            "text/plain": [
              "0    0\n",
              "1    1\n",
              "2    2\n",
              "3    3\n",
              "4    1\n",
              "5    4\n",
              "6    2\n",
              "7    5\n",
              "8    0\n",
              "9    6\n",
              "Name: category_id, dtype: int64"
            ]
          },
          "metadata": {},
          "execution_count": 15
        }
      ]
    },
    {
      "cell_type": "markdown",
      "source": [
        "### new df \"category_id_df\", only with unique categories"
      ],
      "metadata": {
        "id": "SXf8kp6pjGwI"
      }
    },
    {
      "cell_type": "code",
      "source": [
        "category_id_df = df_train[['category', 'category_id']].drop_duplicates().sort_values('category_id')"
      ],
      "metadata": {
        "id": "eqNCJZ4SACe9"
      },
      "execution_count": 16,
      "outputs": []
    },
    {
      "cell_type": "code",
      "source": [
        "category_id_df"
      ],
      "metadata": {
        "colab": {
          "base_uri": "https://localhost:8080/",
          "height": 1000
        },
        "id": "OkoxtoOsAIOE",
        "outputId": "c111fffc-69e8-4da6-9b06-b67462b9c468"
      },
      "execution_count": 17,
      "outputs": [
        {
          "output_type": "execute_result",
          "data": {
            "text/plain": [
              "           category  category_id\n",
              "0          WELLNESS            0\n",
              "1          POLITICS            1\n",
              "2           PARENTS            2\n",
              "3          BUSINESS            3\n",
              "5         WORLDPOST            4\n",
              "7     HOME & LIVING            5\n",
              "9    HEALTHY LIVING            6\n",
              "11            CRIME            7\n",
              "13     QUEER VOICES            8\n",
              "14           SPORTS            9\n",
              "15   STYLE & BEAUTY           10\n",
              "16         WEDDINGS           11\n",
              "18           IMPACT           12\n",
              "21     FOOD & DRINK           13\n",
              "22           COMEDY           14\n",
              "23        PARENTING           15\n",
              "28    ENTERTAINMENT           16\n",
              "31      ENVIRONMENT           17\n",
              "33       WORLD NEWS           18\n",
              "36          COLLEGE           19\n",
              "37             TECH           20\n",
              "42         RELIGION           21\n",
              "43          DIVORCE           22\n",
              "48    THE WORLDPOST           23\n",
              "59            WOMEN           24\n",
              "67            MONEY           25\n",
              "72   ARTS & CULTURE           26\n",
              "83     BLACK VOICES           27\n",
              "85           TRAVEL           28\n",
              "86        GOOD NEWS           29\n",
              "92            MEDIA           30\n",
              "98          SCIENCE           31\n",
              "114      WEIRD NEWS           32\n",
              "146            ARTS           33\n",
              "172       EDUCATION           34\n",
              "174   LATINO VOICES           35\n",
              "177           TASTE           36\n",
              "191           GREEN           37\n",
              "209           STYLE           38\n",
              "317       U.S. NEWS           39\n",
              "431  CULTURE & ARTS           40\n",
              "568           FIFTY           41"
            ],
            "text/html": [
              "\n",
              "  <div id=\"df-f761c6f5-ce71-4bc1-bbd9-ed690dba87bc\" class=\"colab-df-container\">\n",
              "    <div>\n",
              "<style scoped>\n",
              "    .dataframe tbody tr th:only-of-type {\n",
              "        vertical-align: middle;\n",
              "    }\n",
              "\n",
              "    .dataframe tbody tr th {\n",
              "        vertical-align: top;\n",
              "    }\n",
              "\n",
              "    .dataframe thead th {\n",
              "        text-align: right;\n",
              "    }\n",
              "</style>\n",
              "<table border=\"1\" class=\"dataframe\">\n",
              "  <thead>\n",
              "    <tr style=\"text-align: right;\">\n",
              "      <th></th>\n",
              "      <th>category</th>\n",
              "      <th>category_id</th>\n",
              "    </tr>\n",
              "  </thead>\n",
              "  <tbody>\n",
              "    <tr>\n",
              "      <th>0</th>\n",
              "      <td>WELLNESS</td>\n",
              "      <td>0</td>\n",
              "    </tr>\n",
              "    <tr>\n",
              "      <th>1</th>\n",
              "      <td>POLITICS</td>\n",
              "      <td>1</td>\n",
              "    </tr>\n",
              "    <tr>\n",
              "      <th>2</th>\n",
              "      <td>PARENTS</td>\n",
              "      <td>2</td>\n",
              "    </tr>\n",
              "    <tr>\n",
              "      <th>3</th>\n",
              "      <td>BUSINESS</td>\n",
              "      <td>3</td>\n",
              "    </tr>\n",
              "    <tr>\n",
              "      <th>5</th>\n",
              "      <td>WORLDPOST</td>\n",
              "      <td>4</td>\n",
              "    </tr>\n",
              "    <tr>\n",
              "      <th>7</th>\n",
              "      <td>HOME &amp; LIVING</td>\n",
              "      <td>5</td>\n",
              "    </tr>\n",
              "    <tr>\n",
              "      <th>9</th>\n",
              "      <td>HEALTHY LIVING</td>\n",
              "      <td>6</td>\n",
              "    </tr>\n",
              "    <tr>\n",
              "      <th>11</th>\n",
              "      <td>CRIME</td>\n",
              "      <td>7</td>\n",
              "    </tr>\n",
              "    <tr>\n",
              "      <th>13</th>\n",
              "      <td>QUEER VOICES</td>\n",
              "      <td>8</td>\n",
              "    </tr>\n",
              "    <tr>\n",
              "      <th>14</th>\n",
              "      <td>SPORTS</td>\n",
              "      <td>9</td>\n",
              "    </tr>\n",
              "    <tr>\n",
              "      <th>15</th>\n",
              "      <td>STYLE &amp; BEAUTY</td>\n",
              "      <td>10</td>\n",
              "    </tr>\n",
              "    <tr>\n",
              "      <th>16</th>\n",
              "      <td>WEDDINGS</td>\n",
              "      <td>11</td>\n",
              "    </tr>\n",
              "    <tr>\n",
              "      <th>18</th>\n",
              "      <td>IMPACT</td>\n",
              "      <td>12</td>\n",
              "    </tr>\n",
              "    <tr>\n",
              "      <th>21</th>\n",
              "      <td>FOOD &amp; DRINK</td>\n",
              "      <td>13</td>\n",
              "    </tr>\n",
              "    <tr>\n",
              "      <th>22</th>\n",
              "      <td>COMEDY</td>\n",
              "      <td>14</td>\n",
              "    </tr>\n",
              "    <tr>\n",
              "      <th>23</th>\n",
              "      <td>PARENTING</td>\n",
              "      <td>15</td>\n",
              "    </tr>\n",
              "    <tr>\n",
              "      <th>28</th>\n",
              "      <td>ENTERTAINMENT</td>\n",
              "      <td>16</td>\n",
              "    </tr>\n",
              "    <tr>\n",
              "      <th>31</th>\n",
              "      <td>ENVIRONMENT</td>\n",
              "      <td>17</td>\n",
              "    </tr>\n",
              "    <tr>\n",
              "      <th>33</th>\n",
              "      <td>WORLD NEWS</td>\n",
              "      <td>18</td>\n",
              "    </tr>\n",
              "    <tr>\n",
              "      <th>36</th>\n",
              "      <td>COLLEGE</td>\n",
              "      <td>19</td>\n",
              "    </tr>\n",
              "    <tr>\n",
              "      <th>37</th>\n",
              "      <td>TECH</td>\n",
              "      <td>20</td>\n",
              "    </tr>\n",
              "    <tr>\n",
              "      <th>42</th>\n",
              "      <td>RELIGION</td>\n",
              "      <td>21</td>\n",
              "    </tr>\n",
              "    <tr>\n",
              "      <th>43</th>\n",
              "      <td>DIVORCE</td>\n",
              "      <td>22</td>\n",
              "    </tr>\n",
              "    <tr>\n",
              "      <th>48</th>\n",
              "      <td>THE WORLDPOST</td>\n",
              "      <td>23</td>\n",
              "    </tr>\n",
              "    <tr>\n",
              "      <th>59</th>\n",
              "      <td>WOMEN</td>\n",
              "      <td>24</td>\n",
              "    </tr>\n",
              "    <tr>\n",
              "      <th>67</th>\n",
              "      <td>MONEY</td>\n",
              "      <td>25</td>\n",
              "    </tr>\n",
              "    <tr>\n",
              "      <th>72</th>\n",
              "      <td>ARTS &amp; CULTURE</td>\n",
              "      <td>26</td>\n",
              "    </tr>\n",
              "    <tr>\n",
              "      <th>83</th>\n",
              "      <td>BLACK VOICES</td>\n",
              "      <td>27</td>\n",
              "    </tr>\n",
              "    <tr>\n",
              "      <th>85</th>\n",
              "      <td>TRAVEL</td>\n",
              "      <td>28</td>\n",
              "    </tr>\n",
              "    <tr>\n",
              "      <th>86</th>\n",
              "      <td>GOOD NEWS</td>\n",
              "      <td>29</td>\n",
              "    </tr>\n",
              "    <tr>\n",
              "      <th>92</th>\n",
              "      <td>MEDIA</td>\n",
              "      <td>30</td>\n",
              "    </tr>\n",
              "    <tr>\n",
              "      <th>98</th>\n",
              "      <td>SCIENCE</td>\n",
              "      <td>31</td>\n",
              "    </tr>\n",
              "    <tr>\n",
              "      <th>114</th>\n",
              "      <td>WEIRD NEWS</td>\n",
              "      <td>32</td>\n",
              "    </tr>\n",
              "    <tr>\n",
              "      <th>146</th>\n",
              "      <td>ARTS</td>\n",
              "      <td>33</td>\n",
              "    </tr>\n",
              "    <tr>\n",
              "      <th>172</th>\n",
              "      <td>EDUCATION</td>\n",
              "      <td>34</td>\n",
              "    </tr>\n",
              "    <tr>\n",
              "      <th>174</th>\n",
              "      <td>LATINO VOICES</td>\n",
              "      <td>35</td>\n",
              "    </tr>\n",
              "    <tr>\n",
              "      <th>177</th>\n",
              "      <td>TASTE</td>\n",
              "      <td>36</td>\n",
              "    </tr>\n",
              "    <tr>\n",
              "      <th>191</th>\n",
              "      <td>GREEN</td>\n",
              "      <td>37</td>\n",
              "    </tr>\n",
              "    <tr>\n",
              "      <th>209</th>\n",
              "      <td>STYLE</td>\n",
              "      <td>38</td>\n",
              "    </tr>\n",
              "    <tr>\n",
              "      <th>317</th>\n",
              "      <td>U.S. NEWS</td>\n",
              "      <td>39</td>\n",
              "    </tr>\n",
              "    <tr>\n",
              "      <th>431</th>\n",
              "      <td>CULTURE &amp; ARTS</td>\n",
              "      <td>40</td>\n",
              "    </tr>\n",
              "    <tr>\n",
              "      <th>568</th>\n",
              "      <td>FIFTY</td>\n",
              "      <td>41</td>\n",
              "    </tr>\n",
              "  </tbody>\n",
              "</table>\n",
              "</div>\n",
              "    <div class=\"colab-df-buttons\">\n",
              "\n",
              "  <div class=\"colab-df-container\">\n",
              "    <button class=\"colab-df-convert\" onclick=\"convertToInteractive('df-f761c6f5-ce71-4bc1-bbd9-ed690dba87bc')\"\n",
              "            title=\"Convert this dataframe to an interactive table.\"\n",
              "            style=\"display:none;\">\n",
              "\n",
              "  <svg xmlns=\"http://www.w3.org/2000/svg\" height=\"24px\" viewBox=\"0 -960 960 960\">\n",
              "    <path d=\"M120-120v-720h720v720H120Zm60-500h600v-160H180v160Zm220 220h160v-160H400v160Zm0 220h160v-160H400v160ZM180-400h160v-160H180v160Zm440 0h160v-160H620v160ZM180-180h160v-160H180v160Zm440 0h160v-160H620v160Z\"/>\n",
              "  </svg>\n",
              "    </button>\n",
              "\n",
              "  <style>\n",
              "    .colab-df-container {\n",
              "      display:flex;\n",
              "      gap: 12px;\n",
              "    }\n",
              "\n",
              "    .colab-df-convert {\n",
              "      background-color: #E8F0FE;\n",
              "      border: none;\n",
              "      border-radius: 50%;\n",
              "      cursor: pointer;\n",
              "      display: none;\n",
              "      fill: #1967D2;\n",
              "      height: 32px;\n",
              "      padding: 0 0 0 0;\n",
              "      width: 32px;\n",
              "    }\n",
              "\n",
              "    .colab-df-convert:hover {\n",
              "      background-color: #E2EBFA;\n",
              "      box-shadow: 0px 1px 2px rgba(60, 64, 67, 0.3), 0px 1px 3px 1px rgba(60, 64, 67, 0.15);\n",
              "      fill: #174EA6;\n",
              "    }\n",
              "\n",
              "    .colab-df-buttons div {\n",
              "      margin-bottom: 4px;\n",
              "    }\n",
              "\n",
              "    [theme=dark] .colab-df-convert {\n",
              "      background-color: #3B4455;\n",
              "      fill: #D2E3FC;\n",
              "    }\n",
              "\n",
              "    [theme=dark] .colab-df-convert:hover {\n",
              "      background-color: #434B5C;\n",
              "      box-shadow: 0px 1px 3px 1px rgba(0, 0, 0, 0.15);\n",
              "      filter: drop-shadow(0px 1px 2px rgba(0, 0, 0, 0.3));\n",
              "      fill: #FFFFFF;\n",
              "    }\n",
              "  </style>\n",
              "\n",
              "    <script>\n",
              "      const buttonEl =\n",
              "        document.querySelector('#df-f761c6f5-ce71-4bc1-bbd9-ed690dba87bc button.colab-df-convert');\n",
              "      buttonEl.style.display =\n",
              "        google.colab.kernel.accessAllowed ? 'block' : 'none';\n",
              "\n",
              "      async function convertToInteractive(key) {\n",
              "        const element = document.querySelector('#df-f761c6f5-ce71-4bc1-bbd9-ed690dba87bc');\n",
              "        const dataTable =\n",
              "          await google.colab.kernel.invokeFunction('convertToInteractive',\n",
              "                                                    [key], {});\n",
              "        if (!dataTable) return;\n",
              "\n",
              "        const docLinkHtml = 'Like what you see? Visit the ' +\n",
              "          '<a target=\"_blank\" href=https://colab.research.google.com/notebooks/data_table.ipynb>data table notebook</a>'\n",
              "          + ' to learn more about interactive tables.';\n",
              "        element.innerHTML = '';\n",
              "        dataTable['output_type'] = 'display_data';\n",
              "        await google.colab.output.renderOutput(dataTable, element);\n",
              "        const docLink = document.createElement('div');\n",
              "        docLink.innerHTML = docLinkHtml;\n",
              "        element.appendChild(docLink);\n",
              "      }\n",
              "    </script>\n",
              "  </div>\n",
              "\n",
              "\n",
              "<div id=\"df-c54073d4-c97d-4d67-8425-e3acb1211de4\">\n",
              "  <button class=\"colab-df-quickchart\" onclick=\"quickchart('df-c54073d4-c97d-4d67-8425-e3acb1211de4')\"\n",
              "            title=\"Suggest charts\"\n",
              "            style=\"display:none;\">\n",
              "\n",
              "<svg xmlns=\"http://www.w3.org/2000/svg\" height=\"24px\"viewBox=\"0 0 24 24\"\n",
              "     width=\"24px\">\n",
              "    <g>\n",
              "        <path d=\"M19 3H5c-1.1 0-2 .9-2 2v14c0 1.1.9 2 2 2h14c1.1 0 2-.9 2-2V5c0-1.1-.9-2-2-2zM9 17H7v-7h2v7zm4 0h-2V7h2v10zm4 0h-2v-4h2v4z\"/>\n",
              "    </g>\n",
              "</svg>\n",
              "  </button>\n",
              "\n",
              "<style>\n",
              "  .colab-df-quickchart {\n",
              "      --bg-color: #E8F0FE;\n",
              "      --fill-color: #1967D2;\n",
              "      --hover-bg-color: #E2EBFA;\n",
              "      --hover-fill-color: #174EA6;\n",
              "      --disabled-fill-color: #AAA;\n",
              "      --disabled-bg-color: #DDD;\n",
              "  }\n",
              "\n",
              "  [theme=dark] .colab-df-quickchart {\n",
              "      --bg-color: #3B4455;\n",
              "      --fill-color: #D2E3FC;\n",
              "      --hover-bg-color: #434B5C;\n",
              "      --hover-fill-color: #FFFFFF;\n",
              "      --disabled-bg-color: #3B4455;\n",
              "      --disabled-fill-color: #666;\n",
              "  }\n",
              "\n",
              "  .colab-df-quickchart {\n",
              "    background-color: var(--bg-color);\n",
              "    border: none;\n",
              "    border-radius: 50%;\n",
              "    cursor: pointer;\n",
              "    display: none;\n",
              "    fill: var(--fill-color);\n",
              "    height: 32px;\n",
              "    padding: 0;\n",
              "    width: 32px;\n",
              "  }\n",
              "\n",
              "  .colab-df-quickchart:hover {\n",
              "    background-color: var(--hover-bg-color);\n",
              "    box-shadow: 0 1px 2px rgba(60, 64, 67, 0.3), 0 1px 3px 1px rgba(60, 64, 67, 0.15);\n",
              "    fill: var(--button-hover-fill-color);\n",
              "  }\n",
              "\n",
              "  .colab-df-quickchart-complete:disabled,\n",
              "  .colab-df-quickchart-complete:disabled:hover {\n",
              "    background-color: var(--disabled-bg-color);\n",
              "    fill: var(--disabled-fill-color);\n",
              "    box-shadow: none;\n",
              "  }\n",
              "\n",
              "  .colab-df-spinner {\n",
              "    border: 2px solid var(--fill-color);\n",
              "    border-color: transparent;\n",
              "    border-bottom-color: var(--fill-color);\n",
              "    animation:\n",
              "      spin 1s steps(1) infinite;\n",
              "  }\n",
              "\n",
              "  @keyframes spin {\n",
              "    0% {\n",
              "      border-color: transparent;\n",
              "      border-bottom-color: var(--fill-color);\n",
              "      border-left-color: var(--fill-color);\n",
              "    }\n",
              "    20% {\n",
              "      border-color: transparent;\n",
              "      border-left-color: var(--fill-color);\n",
              "      border-top-color: var(--fill-color);\n",
              "    }\n",
              "    30% {\n",
              "      border-color: transparent;\n",
              "      border-left-color: var(--fill-color);\n",
              "      border-top-color: var(--fill-color);\n",
              "      border-right-color: var(--fill-color);\n",
              "    }\n",
              "    40% {\n",
              "      border-color: transparent;\n",
              "      border-right-color: var(--fill-color);\n",
              "      border-top-color: var(--fill-color);\n",
              "    }\n",
              "    60% {\n",
              "      border-color: transparent;\n",
              "      border-right-color: var(--fill-color);\n",
              "    }\n",
              "    80% {\n",
              "      border-color: transparent;\n",
              "      border-right-color: var(--fill-color);\n",
              "      border-bottom-color: var(--fill-color);\n",
              "    }\n",
              "    90% {\n",
              "      border-color: transparent;\n",
              "      border-bottom-color: var(--fill-color);\n",
              "    }\n",
              "  }\n",
              "</style>\n",
              "\n",
              "  <script>\n",
              "    async function quickchart(key) {\n",
              "      const quickchartButtonEl =\n",
              "        document.querySelector('#' + key + ' button');\n",
              "      quickchartButtonEl.disabled = true;  // To prevent multiple clicks.\n",
              "      quickchartButtonEl.classList.add('colab-df-spinner');\n",
              "      try {\n",
              "        const charts = await google.colab.kernel.invokeFunction(\n",
              "            'suggestCharts', [key], {});\n",
              "      } catch (error) {\n",
              "        console.error('Error during call to suggestCharts:', error);\n",
              "      }\n",
              "      quickchartButtonEl.classList.remove('colab-df-spinner');\n",
              "      quickchartButtonEl.classList.add('colab-df-quickchart-complete');\n",
              "    }\n",
              "    (() => {\n",
              "      let quickchartButtonEl =\n",
              "        document.querySelector('#df-c54073d4-c97d-4d67-8425-e3acb1211de4 button');\n",
              "      quickchartButtonEl.style.display =\n",
              "        google.colab.kernel.accessAllowed ? 'block' : 'none';\n",
              "    })();\n",
              "  </script>\n",
              "</div>\n",
              "    </div>\n",
              "  </div>\n"
            ],
            "application/vnd.google.colaboratory.intrinsic+json": {
              "type": "dataframe",
              "variable_name": "category_id_df",
              "summary": "{\n  \"name\": \"category_id_df\",\n  \"rows\": 42,\n  \"fields\": [\n    {\n      \"column\": \"category\",\n      \"properties\": {\n        \"dtype\": \"string\",\n        \"num_unique_values\": 42,\n        \"samples\": [\n          \"MONEY\",\n          \"FOOD & DRINK\",\n          \"QUEER VOICES\"\n        ],\n        \"semantic_type\": \"\",\n        \"description\": \"\"\n      }\n    },\n    {\n      \"column\": \"category_id\",\n      \"properties\": {\n        \"dtype\": \"number\",\n        \"std\": 12,\n        \"min\": 0,\n        \"max\": 41,\n        \"num_unique_values\": 42,\n        \"samples\": [\n          25,\n          13,\n          8\n        ],\n        \"semantic_type\": \"\",\n        \"description\": \"\"\n      }\n    }\n  ]\n}"
            }
          },
          "metadata": {},
          "execution_count": 17
        }
      ]
    },
    {
      "cell_type": "markdown",
      "source": [
        "### Dict to convert category names into category_ids and vice-versa"
      ],
      "metadata": {
        "id": "eqHZHH-jjtI2"
      }
    },
    {
      "cell_type": "code",
      "source": [
        "category_to_id = dict(category_id_df.values)\n",
        "id_to_category = dict(category_id_df[['category_id', 'category']].values)"
      ],
      "metadata": {
        "id": "SvVkVF0lAKYc"
      },
      "execution_count": 18,
      "outputs": []
    },
    {
      "cell_type": "code",
      "source": [
        "id_to_category"
      ],
      "metadata": {
        "colab": {
          "base_uri": "https://localhost:8080/"
        },
        "id": "OpJi4YRZAYr7",
        "outputId": "cf33f3eb-cc26-4342-f1d1-ffc120f26799"
      },
      "execution_count": 19,
      "outputs": [
        {
          "output_type": "execute_result",
          "data": {
            "text/plain": [
              "{0: 'WELLNESS',\n",
              " 1: 'POLITICS',\n",
              " 2: 'PARENTS',\n",
              " 3: 'BUSINESS',\n",
              " 4: 'WORLDPOST',\n",
              " 5: 'HOME & LIVING',\n",
              " 6: 'HEALTHY LIVING',\n",
              " 7: 'CRIME',\n",
              " 8: 'QUEER VOICES',\n",
              " 9: 'SPORTS',\n",
              " 10: 'STYLE & BEAUTY',\n",
              " 11: 'WEDDINGS',\n",
              " 12: 'IMPACT',\n",
              " 13: 'FOOD & DRINK',\n",
              " 14: 'COMEDY',\n",
              " 15: 'PARENTING',\n",
              " 16: 'ENTERTAINMENT',\n",
              " 17: 'ENVIRONMENT',\n",
              " 18: 'WORLD NEWS',\n",
              " 19: 'COLLEGE',\n",
              " 20: 'TECH',\n",
              " 21: 'RELIGION',\n",
              " 22: 'DIVORCE',\n",
              " 23: 'THE WORLDPOST',\n",
              " 24: 'WOMEN',\n",
              " 25: 'MONEY',\n",
              " 26: 'ARTS & CULTURE',\n",
              " 27: 'BLACK VOICES',\n",
              " 28: 'TRAVEL',\n",
              " 29: 'GOOD NEWS',\n",
              " 30: 'MEDIA',\n",
              " 31: 'SCIENCE',\n",
              " 32: 'WEIRD NEWS',\n",
              " 33: 'ARTS',\n",
              " 34: 'EDUCATION',\n",
              " 35: 'LATINO VOICES',\n",
              " 36: 'TASTE',\n",
              " 37: 'GREEN',\n",
              " 38: 'STYLE',\n",
              " 39: 'U.S. NEWS',\n",
              " 40: 'CULTURE & ARTS',\n",
              " 41: 'FIFTY'}"
            ]
          },
          "metadata": {},
          "execution_count": 19
        }
      ]
    },
    {
      "cell_type": "code",
      "source": [
        "df_train.sample(5, random_state=0)"
      ],
      "metadata": {
        "colab": {
          "base_uri": "https://localhost:8080/",
          "height": 306
        },
        "id": "-cQtrtRdAaiS",
        "outputId": "ec11e9de-a008-437d-b97f-f5a163bc8645"
      },
      "execution_count": 20,
      "outputs": [
        {
          "output_type": "execute_result",
          "data": {
            "text/plain": [
              "           category                                           headline  \\\n",
              "9394       POLITICS                              The Evil That Guns Do   \n",
              "898           WOMEN     There Is Still Work Ahead For Workplace Equity   \n",
              "2398   QUEER VOICES  After Being With My Partner For 28 Years, I'm ...   \n",
              "5906  HOME & LIVING  You're Wasting Thousands Of Dollars If You're ...   \n",
              "2343  ENTERTAINMENT  The Most Tear-Worthy Moments From 'This Is Us'...   \n",
              "\n",
              "                                                authors  \\\n",
              "9394  Michael Winship, ContributorFormer senior writ...   \n",
              "898   Linda A. Seabrook, ContributorGeneral Counsel,...   \n",
              "2398  David R. Morse, ContributorPresident & CEO, Ne...   \n",
              "5906  Joseph Polverari, Contributor\\nGeneral Manager...   \n",
              "2343                                     Lauren Moraski   \n",
              "\n",
              "                                                   link  \\\n",
              "9394  https://www.huffingtonpost.com/entry/the-evil-...   \n",
              "898   https://www.huffingtonpost.com/entry/there-is-...   \n",
              "2398  https://www.huffingtonpost.com/entry/im-gettin...   \n",
              "5906  https://www.huffingtonpost.com/entry/youre-was...   \n",
              "2343  https://www.huffingtonpost.com/entry/this-is-u...   \n",
              "\n",
              "                                      short_description       date  \\\n",
              "9394  Don't be fooled by the NRA's post-Las Vegas rh... 2017-10-10   \n",
              "898   Eight years ago today, landmark legislation wa... 2017-01-29   \n",
              "2398  \"It was a stunning achievement, something near... 2017-11-02   \n",
              "5906  Whether you're unsure if you can even afford t... 2014-04-08   \n",
              "2343                      We already miss the Pearsons. 2017-03-28   \n",
              "\n",
              "      category_id  \n",
              "9394            1  \n",
              "898            24  \n",
              "2398            8  \n",
              "5906            5  \n",
              "2343           16  "
            ],
            "text/html": [
              "\n",
              "  <div id=\"df-af0c343c-b44e-43a5-a464-196f46cb5461\" class=\"colab-df-container\">\n",
              "    <div>\n",
              "<style scoped>\n",
              "    .dataframe tbody tr th:only-of-type {\n",
              "        vertical-align: middle;\n",
              "    }\n",
              "\n",
              "    .dataframe tbody tr th {\n",
              "        vertical-align: top;\n",
              "    }\n",
              "\n",
              "    .dataframe thead th {\n",
              "        text-align: right;\n",
              "    }\n",
              "</style>\n",
              "<table border=\"1\" class=\"dataframe\">\n",
              "  <thead>\n",
              "    <tr style=\"text-align: right;\">\n",
              "      <th></th>\n",
              "      <th>category</th>\n",
              "      <th>headline</th>\n",
              "      <th>authors</th>\n",
              "      <th>link</th>\n",
              "      <th>short_description</th>\n",
              "      <th>date</th>\n",
              "      <th>category_id</th>\n",
              "    </tr>\n",
              "  </thead>\n",
              "  <tbody>\n",
              "    <tr>\n",
              "      <th>9394</th>\n",
              "      <td>POLITICS</td>\n",
              "      <td>The Evil That Guns Do</td>\n",
              "      <td>Michael Winship, ContributorFormer senior writ...</td>\n",
              "      <td>https://www.huffingtonpost.com/entry/the-evil-...</td>\n",
              "      <td>Don't be fooled by the NRA's post-Las Vegas rh...</td>\n",
              "      <td>2017-10-10</td>\n",
              "      <td>1</td>\n",
              "    </tr>\n",
              "    <tr>\n",
              "      <th>898</th>\n",
              "      <td>WOMEN</td>\n",
              "      <td>There Is Still Work Ahead For Workplace Equity</td>\n",
              "      <td>Linda A. Seabrook, ContributorGeneral Counsel,...</td>\n",
              "      <td>https://www.huffingtonpost.com/entry/there-is-...</td>\n",
              "      <td>Eight years ago today, landmark legislation wa...</td>\n",
              "      <td>2017-01-29</td>\n",
              "      <td>24</td>\n",
              "    </tr>\n",
              "    <tr>\n",
              "      <th>2398</th>\n",
              "      <td>QUEER VOICES</td>\n",
              "      <td>After Being With My Partner For 28 Years, I'm ...</td>\n",
              "      <td>David R. Morse, ContributorPresident &amp; CEO, Ne...</td>\n",
              "      <td>https://www.huffingtonpost.com/entry/im-gettin...</td>\n",
              "      <td>\"It was a stunning achievement, something near...</td>\n",
              "      <td>2017-11-02</td>\n",
              "      <td>8</td>\n",
              "    </tr>\n",
              "    <tr>\n",
              "      <th>5906</th>\n",
              "      <td>HOME &amp; LIVING</td>\n",
              "      <td>You're Wasting Thousands Of Dollars If You're ...</td>\n",
              "      <td>Joseph Polverari, Contributor\\nGeneral Manager...</td>\n",
              "      <td>https://www.huffingtonpost.com/entry/youre-was...</td>\n",
              "      <td>Whether you're unsure if you can even afford t...</td>\n",
              "      <td>2014-04-08</td>\n",
              "      <td>5</td>\n",
              "    </tr>\n",
              "    <tr>\n",
              "      <th>2343</th>\n",
              "      <td>ENTERTAINMENT</td>\n",
              "      <td>The Most Tear-Worthy Moments From 'This Is Us'...</td>\n",
              "      <td>Lauren Moraski</td>\n",
              "      <td>https://www.huffingtonpost.com/entry/this-is-u...</td>\n",
              "      <td>We already miss the Pearsons.</td>\n",
              "      <td>2017-03-28</td>\n",
              "      <td>16</td>\n",
              "    </tr>\n",
              "  </tbody>\n",
              "</table>\n",
              "</div>\n",
              "    <div class=\"colab-df-buttons\">\n",
              "\n",
              "  <div class=\"colab-df-container\">\n",
              "    <button class=\"colab-df-convert\" onclick=\"convertToInteractive('df-af0c343c-b44e-43a5-a464-196f46cb5461')\"\n",
              "            title=\"Convert this dataframe to an interactive table.\"\n",
              "            style=\"display:none;\">\n",
              "\n",
              "  <svg xmlns=\"http://www.w3.org/2000/svg\" height=\"24px\" viewBox=\"0 -960 960 960\">\n",
              "    <path d=\"M120-120v-720h720v720H120Zm60-500h600v-160H180v160Zm220 220h160v-160H400v160Zm0 220h160v-160H400v160ZM180-400h160v-160H180v160Zm440 0h160v-160H620v160ZM180-180h160v-160H180v160Zm440 0h160v-160H620v160Z\"/>\n",
              "  </svg>\n",
              "    </button>\n",
              "\n",
              "  <style>\n",
              "    .colab-df-container {\n",
              "      display:flex;\n",
              "      gap: 12px;\n",
              "    }\n",
              "\n",
              "    .colab-df-convert {\n",
              "      background-color: #E8F0FE;\n",
              "      border: none;\n",
              "      border-radius: 50%;\n",
              "      cursor: pointer;\n",
              "      display: none;\n",
              "      fill: #1967D2;\n",
              "      height: 32px;\n",
              "      padding: 0 0 0 0;\n",
              "      width: 32px;\n",
              "    }\n",
              "\n",
              "    .colab-df-convert:hover {\n",
              "      background-color: #E2EBFA;\n",
              "      box-shadow: 0px 1px 2px rgba(60, 64, 67, 0.3), 0px 1px 3px 1px rgba(60, 64, 67, 0.15);\n",
              "      fill: #174EA6;\n",
              "    }\n",
              "\n",
              "    .colab-df-buttons div {\n",
              "      margin-bottom: 4px;\n",
              "    }\n",
              "\n",
              "    [theme=dark] .colab-df-convert {\n",
              "      background-color: #3B4455;\n",
              "      fill: #D2E3FC;\n",
              "    }\n",
              "\n",
              "    [theme=dark] .colab-df-convert:hover {\n",
              "      background-color: #434B5C;\n",
              "      box-shadow: 0px 1px 3px 1px rgba(0, 0, 0, 0.15);\n",
              "      filter: drop-shadow(0px 1px 2px rgba(0, 0, 0, 0.3));\n",
              "      fill: #FFFFFF;\n",
              "    }\n",
              "  </style>\n",
              "\n",
              "    <script>\n",
              "      const buttonEl =\n",
              "        document.querySelector('#df-af0c343c-b44e-43a5-a464-196f46cb5461 button.colab-df-convert');\n",
              "      buttonEl.style.display =\n",
              "        google.colab.kernel.accessAllowed ? 'block' : 'none';\n",
              "\n",
              "      async function convertToInteractive(key) {\n",
              "        const element = document.querySelector('#df-af0c343c-b44e-43a5-a464-196f46cb5461');\n",
              "        const dataTable =\n",
              "          await google.colab.kernel.invokeFunction('convertToInteractive',\n",
              "                                                    [key], {});\n",
              "        if (!dataTable) return;\n",
              "\n",
              "        const docLinkHtml = 'Like what you see? Visit the ' +\n",
              "          '<a target=\"_blank\" href=https://colab.research.google.com/notebooks/data_table.ipynb>data table notebook</a>'\n",
              "          + ' to learn more about interactive tables.';\n",
              "        element.innerHTML = '';\n",
              "        dataTable['output_type'] = 'display_data';\n",
              "        await google.colab.output.renderOutput(dataTable, element);\n",
              "        const docLink = document.createElement('div');\n",
              "        docLink.innerHTML = docLinkHtml;\n",
              "        element.appendChild(docLink);\n",
              "      }\n",
              "    </script>\n",
              "  </div>\n",
              "\n",
              "\n",
              "<div id=\"df-ed76bc35-0367-4cb5-84c4-75ec5863b780\">\n",
              "  <button class=\"colab-df-quickchart\" onclick=\"quickchart('df-ed76bc35-0367-4cb5-84c4-75ec5863b780')\"\n",
              "            title=\"Suggest charts\"\n",
              "            style=\"display:none;\">\n",
              "\n",
              "<svg xmlns=\"http://www.w3.org/2000/svg\" height=\"24px\"viewBox=\"0 0 24 24\"\n",
              "     width=\"24px\">\n",
              "    <g>\n",
              "        <path d=\"M19 3H5c-1.1 0-2 .9-2 2v14c0 1.1.9 2 2 2h14c1.1 0 2-.9 2-2V5c0-1.1-.9-2-2-2zM9 17H7v-7h2v7zm4 0h-2V7h2v10zm4 0h-2v-4h2v4z\"/>\n",
              "    </g>\n",
              "</svg>\n",
              "  </button>\n",
              "\n",
              "<style>\n",
              "  .colab-df-quickchart {\n",
              "      --bg-color: #E8F0FE;\n",
              "      --fill-color: #1967D2;\n",
              "      --hover-bg-color: #E2EBFA;\n",
              "      --hover-fill-color: #174EA6;\n",
              "      --disabled-fill-color: #AAA;\n",
              "      --disabled-bg-color: #DDD;\n",
              "  }\n",
              "\n",
              "  [theme=dark] .colab-df-quickchart {\n",
              "      --bg-color: #3B4455;\n",
              "      --fill-color: #D2E3FC;\n",
              "      --hover-bg-color: #434B5C;\n",
              "      --hover-fill-color: #FFFFFF;\n",
              "      --disabled-bg-color: #3B4455;\n",
              "      --disabled-fill-color: #666;\n",
              "  }\n",
              "\n",
              "  .colab-df-quickchart {\n",
              "    background-color: var(--bg-color);\n",
              "    border: none;\n",
              "    border-radius: 50%;\n",
              "    cursor: pointer;\n",
              "    display: none;\n",
              "    fill: var(--fill-color);\n",
              "    height: 32px;\n",
              "    padding: 0;\n",
              "    width: 32px;\n",
              "  }\n",
              "\n",
              "  .colab-df-quickchart:hover {\n",
              "    background-color: var(--hover-bg-color);\n",
              "    box-shadow: 0 1px 2px rgba(60, 64, 67, 0.3), 0 1px 3px 1px rgba(60, 64, 67, 0.15);\n",
              "    fill: var(--button-hover-fill-color);\n",
              "  }\n",
              "\n",
              "  .colab-df-quickchart-complete:disabled,\n",
              "  .colab-df-quickchart-complete:disabled:hover {\n",
              "    background-color: var(--disabled-bg-color);\n",
              "    fill: var(--disabled-fill-color);\n",
              "    box-shadow: none;\n",
              "  }\n",
              "\n",
              "  .colab-df-spinner {\n",
              "    border: 2px solid var(--fill-color);\n",
              "    border-color: transparent;\n",
              "    border-bottom-color: var(--fill-color);\n",
              "    animation:\n",
              "      spin 1s steps(1) infinite;\n",
              "  }\n",
              "\n",
              "  @keyframes spin {\n",
              "    0% {\n",
              "      border-color: transparent;\n",
              "      border-bottom-color: var(--fill-color);\n",
              "      border-left-color: var(--fill-color);\n",
              "    }\n",
              "    20% {\n",
              "      border-color: transparent;\n",
              "      border-left-color: var(--fill-color);\n",
              "      border-top-color: var(--fill-color);\n",
              "    }\n",
              "    30% {\n",
              "      border-color: transparent;\n",
              "      border-left-color: var(--fill-color);\n",
              "      border-top-color: var(--fill-color);\n",
              "      border-right-color: var(--fill-color);\n",
              "    }\n",
              "    40% {\n",
              "      border-color: transparent;\n",
              "      border-right-color: var(--fill-color);\n",
              "      border-top-color: var(--fill-color);\n",
              "    }\n",
              "    60% {\n",
              "      border-color: transparent;\n",
              "      border-right-color: var(--fill-color);\n",
              "    }\n",
              "    80% {\n",
              "      border-color: transparent;\n",
              "      border-right-color: var(--fill-color);\n",
              "      border-bottom-color: var(--fill-color);\n",
              "    }\n",
              "    90% {\n",
              "      border-color: transparent;\n",
              "      border-bottom-color: var(--fill-color);\n",
              "    }\n",
              "  }\n",
              "</style>\n",
              "\n",
              "  <script>\n",
              "    async function quickchart(key) {\n",
              "      const quickchartButtonEl =\n",
              "        document.querySelector('#' + key + ' button');\n",
              "      quickchartButtonEl.disabled = true;  // To prevent multiple clicks.\n",
              "      quickchartButtonEl.classList.add('colab-df-spinner');\n",
              "      try {\n",
              "        const charts = await google.colab.kernel.invokeFunction(\n",
              "            'suggestCharts', [key], {});\n",
              "      } catch (error) {\n",
              "        console.error('Error during call to suggestCharts:', error);\n",
              "      }\n",
              "      quickchartButtonEl.classList.remove('colab-df-spinner');\n",
              "      quickchartButtonEl.classList.add('colab-df-quickchart-complete');\n",
              "    }\n",
              "    (() => {\n",
              "      let quickchartButtonEl =\n",
              "        document.querySelector('#df-ed76bc35-0367-4cb5-84c4-75ec5863b780 button');\n",
              "      quickchartButtonEl.style.display =\n",
              "        google.colab.kernel.accessAllowed ? 'block' : 'none';\n",
              "    })();\n",
              "  </script>\n",
              "</div>\n",
              "    </div>\n",
              "  </div>\n"
            ],
            "application/vnd.google.colaboratory.intrinsic+json": {
              "type": "dataframe",
              "summary": "{\n  \"name\": \"df_train\",\n  \"rows\": 5,\n  \"fields\": [\n    {\n      \"column\": \"category\",\n      \"properties\": {\n        \"dtype\": \"string\",\n        \"num_unique_values\": 5,\n        \"samples\": [\n          \"WOMEN\",\n          \"ENTERTAINMENT\",\n          \"QUEER VOICES\"\n        ],\n        \"semantic_type\": \"\",\n        \"description\": \"\"\n      }\n    },\n    {\n      \"column\": \"headline\",\n      \"properties\": {\n        \"dtype\": \"string\",\n        \"num_unique_values\": 5,\n        \"samples\": [\n          \"There Is Still Work Ahead For Workplace Equity\",\n          \"The Most Tear-Worthy Moments From 'This Is Us' Season 1, Ranked\",\n          \"After Being With My Partner For 28 Years, I'm Getting Married In The Morning\"\n        ],\n        \"semantic_type\": \"\",\n        \"description\": \"\"\n      }\n    },\n    {\n      \"column\": \"authors\",\n      \"properties\": {\n        \"dtype\": \"string\",\n        \"num_unique_values\": 5,\n        \"samples\": [\n          \"Linda A. Seabrook, ContributorGeneral Counsel, Futures Without Violence\",\n          \"Lauren Moraski\",\n          \"David R. Morse, ContributorPresident & CEO, New American Dimensions\"\n        ],\n        \"semantic_type\": \"\",\n        \"description\": \"\"\n      }\n    },\n    {\n      \"column\": \"link\",\n      \"properties\": {\n        \"dtype\": \"string\",\n        \"num_unique_values\": 5,\n        \"samples\": [\n          \"https://www.huffingtonpost.com/entry/there-is-still-work-ahead-for-workplace-equity_us_588cc84fe4b0b065cbbc3303\",\n          \"https://www.huffingtonpost.com/entry/this-is-us-moments-tear-worthy-moments_us_58da5d78e4b0f805b323aac2\",\n          \"https://www.huffingtonpost.com/entry/im-getting-married-in-the-morning_us_59fbac5de4b09887ad6f3ed9\"\n        ],\n        \"semantic_type\": \"\",\n        \"description\": \"\"\n      }\n    },\n    {\n      \"column\": \"short_description\",\n      \"properties\": {\n        \"dtype\": \"string\",\n        \"num_unique_values\": 5,\n        \"samples\": [\n          \"Eight years ago today, landmark legislation was enacted in the name of women\\u2019s equality activist Lilly Ledbetter to advance\",\n          \"We already miss the Pearsons.\",\n          \"\\\"It was a stunning achievement, something nearly unthinkable when I was a boy growing up in my blue-collar mill town in the \\u201970s.\\\"\"\n        ],\n        \"semantic_type\": \"\",\n        \"description\": \"\"\n      }\n    },\n    {\n      \"column\": \"date\",\n      \"properties\": {\n        \"dtype\": \"date\",\n        \"min\": \"2014-04-08 00:00:00\",\n        \"max\": \"2017-11-02 00:00:00\",\n        \"num_unique_values\": 5,\n        \"samples\": [\n          \"2017-01-29 00:00:00\",\n          \"2017-03-28 00:00:00\",\n          \"2017-11-02 00:00:00\"\n        ],\n        \"semantic_type\": \"\",\n        \"description\": \"\"\n      }\n    },\n    {\n      \"column\": \"category_id\",\n      \"properties\": {\n        \"dtype\": \"number\",\n        \"std\": 9,\n        \"min\": 1,\n        \"max\": 24,\n        \"num_unique_values\": 5,\n        \"samples\": [\n          24,\n          16,\n          8\n        ],\n        \"semantic_type\": \"\",\n        \"description\": \"\"\n      }\n    }\n  ]\n}"
            }
          },
          "metadata": {},
          "execution_count": 20
        }
      ]
    },
    {
      "cell_type": "code",
      "source": [
        "df_train.groupby('category').category_id.count()"
      ],
      "metadata": {
        "colab": {
          "base_uri": "https://localhost:8080/"
        },
        "id": "h0lgCnCTAhKq",
        "outputId": "07beeb59-5ec0-4bab-9b49-e4153acab09e"
      },
      "execution_count": 21,
      "outputs": [
        {
          "output_type": "execute_result",
          "data": {
            "text/plain": [
              "category\n",
              "ARTS                56\n",
              "ARTS & CULTURE      61\n",
              "BLACK VOICES       247\n",
              "BUSINESS           273\n",
              "COLLEGE             41\n",
              "COMEDY             251\n",
              "CRIME              169\n",
              "CULTURE & ARTS      51\n",
              "DIVORCE            161\n",
              "EDUCATION           50\n",
              "ENTERTAINMENT      852\n",
              "ENVIRONMENT         64\n",
              "FIFTY               75\n",
              "FOOD & DRINK       324\n",
              "GOOD NEWS           63\n",
              "GREEN              108\n",
              "HEALTHY LIVING     300\n",
              "HOME & LIVING      185\n",
              "IMPACT             177\n",
              "LATINO VOICES       46\n",
              "MEDIA              136\n",
              "MONEY               78\n",
              "PARENTING          433\n",
              "PARENTS            190\n",
              "POLITICS          1687\n",
              "QUEER VOICES       320\n",
              "RELIGION           128\n",
              "SCIENCE             99\n",
              "SPORTS             237\n",
              "STYLE              104\n",
              "STYLE & BEAUTY     447\n",
              "TASTE              112\n",
              "TECH               106\n",
              "THE WORLDPOST      162\n",
              "TRAVEL             460\n",
              "U.S. NEWS           72\n",
              "WEDDINGS           181\n",
              "WEIRD NEWS         111\n",
              "WELLNESS           923\n",
              "WOMEN              176\n",
              "WORLD NEWS         165\n",
              "WORLDPOST          119\n",
              "Name: category_id, dtype: int64"
            ]
          },
          "metadata": {},
          "execution_count": 21
        }
      ]
    },
    {
      "cell_type": "code",
      "source": [
        "df_train.groupby('category').category_id.count().plot.bar(ylim=0)"
      ],
      "metadata": {
        "colab": {
          "base_uri": "https://localhost:8080/",
          "height": 574
        },
        "id": "fkORag20AjjE",
        "outputId": "fba01289-e046-4124-ae1e-508c57db6862"
      },
      "execution_count": 22,
      "outputs": [
        {
          "output_type": "execute_result",
          "data": {
            "text/plain": [
              "<Axes: xlabel='category'>"
            ]
          },
          "metadata": {},
          "execution_count": 22
        },
        {
          "output_type": "display_data",
          "data": {
            "text/plain": [
              "<Figure size 640x480 with 1 Axes>"
            ],
            "image/png": "[encoded data removed]"
          },
          "metadata": {}
        }
      ]
    },
    {
      "cell_type": "code",
      "source": [
        "from sklearn.feature_extraction.text import TfidfVectorizer\n",
        "\n",
        "tfidf = TfidfVectorizer(sublinear_tf=True, min_df=5, norm='l2', encoding='latin-1', ngram_range=(1, 2), stop_words='english')\n",
        "features = tfidf.fit_transform(df_train['headline']).toarray()\n",
        "labels = df_train['category_id']"
      ],
      "metadata": {
        "id": "1MsXmQBKAojV"
      },
      "execution_count": 23,
      "outputs": []
    },
    {
      "cell_type": "code",
      "source": [
        "features.shape"
      ],
      "metadata": {
        "colab": {
          "base_uri": "https://localhost:8080/"
        },
        "id": "3zXUeCeBBpHf",
        "outputId": "bb99e465-3607-4a76-f1f5-1fd244fbf715"
      },
      "execution_count": 24,
      "outputs": [
        {
          "output_type": "execute_result",
          "data": {
            "text/plain": [
              "(10000, 3229)"
            ]
          },
          "metadata": {},
          "execution_count": 24
        }
      ]
    },
    {
      "cell_type": "code",
      "source": [
        "category_to_id.items()"
      ],
      "metadata": {
        "colab": {
          "base_uri": "https://localhost:8080/"
        },
        "id": "x_KgtEp_BvkM",
        "outputId": "7e75717c-0faf-43f0-9c5d-2d40d401b490"
      },
      "execution_count": 25,
      "outputs": [
        {
          "output_type": "execute_result",
          "data": {
            "text/plain": [
              "dict_items([('WELLNESS', 0), ('POLITICS', 1), ('PARENTS', 2), ('BUSINESS', 3), ('WORLDPOST', 4), ('HOME & LIVING', 5), ('HEALTHY LIVING', 6), ('CRIME', 7), ('QUEER VOICES', 8), ('SPORTS', 9), ('STYLE & BEAUTY', 10), ('WEDDINGS', 11), ('IMPACT', 12), ('FOOD & DRINK', 13), ('COMEDY', 14), ('PARENTING', 15), ('ENTERTAINMENT', 16), ('ENVIRONMENT', 17), ('WORLD NEWS', 18), ('COLLEGE', 19), ('TECH', 20), ('RELIGION', 21), ('DIVORCE', 22), ('THE WORLDPOST', 23), ('WOMEN', 24), ('MONEY', 25), ('ARTS & CULTURE', 26), ('BLACK VOICES', 27), ('TRAVEL', 28), ('GOOD NEWS', 29), ('MEDIA', 30), ('SCIENCE', 31), ('WEIRD NEWS', 32), ('ARTS', 33), ('EDUCATION', 34), ('LATINO VOICES', 35), ('TASTE', 36), ('GREEN', 37), ('STYLE', 38), ('U.S. NEWS', 39), ('CULTURE & ARTS', 40), ('FIFTY', 41)])"
            ]
          },
          "metadata": {},
          "execution_count": 25
        }
      ]
    },
    {
      "cell_type": "code",
      "source": [
        "sorted(category_to_id.items())"
      ],
      "metadata": {
        "colab": {
          "base_uri": "https://localhost:8080/"
        },
        "id": "9rFYF5JJB2rn",
        "outputId": "5b08d4e2-01bd-4391-a823-15fe3a8d5baf"
      },
      "execution_count": 26,
      "outputs": [
        {
          "output_type": "execute_result",
          "data": {
            "text/plain": [
              "[('ARTS', 33),\n",
              " ('ARTS & CULTURE', 26),\n",
              " ('BLACK VOICES', 27),\n",
              " ('BUSINESS', 3),\n",
              " ('COLLEGE', 19),\n",
              " ('COMEDY', 14),\n",
              " ('CRIME', 7),\n",
              " ('CULTURE & ARTS', 40),\n",
              " ('DIVORCE', 22),\n",
              " ('EDUCATION', 34),\n",
              " ('ENTERTAINMENT', 16),\n",
              " ('ENVIRONMENT', 17),\n",
              " ('FIFTY', 41),\n",
              " ('FOOD & DRINK', 13),\n",
              " ('GOOD NEWS', 29),\n",
              " ('GREEN', 37),\n",
              " ('HEALTHY LIVING', 6),\n",
              " ('HOME & LIVING', 5),\n",
              " ('IMPACT', 12),\n",
              " ('LATINO VOICES', 35),\n",
              " ('MEDIA', 30),\n",
              " ('MONEY', 25),\n",
              " ('PARENTING', 15),\n",
              " ('PARENTS', 2),\n",
              " ('POLITICS', 1),\n",
              " ('QUEER VOICES', 8),\n",
              " ('RELIGION', 21),\n",
              " ('SCIENCE', 31),\n",
              " ('SPORTS', 9),\n",
              " ('STYLE', 38),\n",
              " ('STYLE & BEAUTY', 10),\n",
              " ('TASTE', 36),\n",
              " ('TECH', 20),\n",
              " ('THE WORLDPOST', 23),\n",
              " ('TRAVEL', 28),\n",
              " ('U.S. NEWS', 39),\n",
              " ('WEDDINGS', 11),\n",
              " ('WEIRD NEWS', 32),\n",
              " ('WELLNESS', 0),\n",
              " ('WOMEN', 24),\n",
              " ('WORLD NEWS', 18),\n",
              " ('WORLDPOST', 4)]"
            ]
          },
          "metadata": {},
          "execution_count": 26
        }
      ]
    },
    {
      "cell_type": "markdown",
      "source": [
        "### chi-square analysis: corelation between features (importantce of words) and labels (news category)"
      ],
      "metadata": {
        "id": "DaK5R0tbAn2M"
      }
    },
    {
      "cell_type": "code",
      "source": [
        "from sklearn.feature_selection import chi2\n",
        "\n",
        "N = 10\n",
        "\n",
        "for Category, category_id in sorted(category_to_id.items()):\n",
        "    features_chi2 = chi2(features, labels == category_id)\n",
        "    indices = np.argsort(features_chi2[0])\n",
        "    feature_names = np.array(tfidf.get_feature_names_out())[indices]\n",
        "    unigrams = [v for v in feature_names if len(v.split(' ')) == 1]\n",
        "    bigrams = [v for v in feature_names if len(v.split(' ')) == 2]\n",
        "    print(\"# '{}':\".format(Category))\n",
        "    print(\"  . Most correlated unigrams:\\n       . {}\".format('\\n       . '.join(unigrams[-N:])))\n",
        "    print(\"  . Most correlated bigrams:\\n       . {}\".format('\\n       . '.join(bigrams[-N:])))\n"
      ],
      "metadata": {
        "colab": {
          "base_uri": "https://localhost:8080/"
        },
        "id": "MUzCirKJCZK7",
        "outputId": "f01c5c91-dd9a-4b21-bfa9-fe60ec35c0a0"
      },
      "execution_count": 27,
      "outputs": [
        {
          "output_type": "stream",
          "name": "stdout",
          "text": [
            "# 'ARTS':\n",
            "  . Most correlated unigrams:\n",
            "       . beware\n",
            "       . collaboration\n",
            "       . artist\n",
            "       . william\n",
            "       . broadway\n",
            "       . door\n",
            "       . gifs\n",
            "       . collection\n",
            "       . art\n",
            "       . gallery\n",
            "  . Most correlated bigrams:\n",
            "       . health care\n",
            "       . supreme court\n",
            "       . year old\n",
            "       . white house\n",
            "       . hillary clinton\n",
            "       . donald trump\n",
            "       . new york\n",
            "       . world cup\n",
            "       . new orleans\n",
            "       . middle east\n",
            "# 'ARTS & CULTURE':\n",
            "  . Most correlated unigrams:\n",
            "       . van\n",
            "       . books\n",
            "       . reality\n",
            "       . potter\n",
            "       . slam\n",
            "       . capitol\n",
            "       . feminist\n",
            "       . actors\n",
            "       . broadway\n",
            "       . genius\n",
            "  . Most correlated bigrams:\n",
            "       . donald trump\n",
            "       . mike pence\n",
            "       . las vegas\n",
            "       . years ago\n",
            "       . travel ban\n",
            "       . gop debate\n",
            "       . 30 years\n",
            "       . trump travel\n",
            "       . bruce springsteen\n",
            "       . harry potter\n",
            "# 'BLACK VOICES':\n",
            "  . Most correlated unigrams:\n",
            "       . atlanta\n",
            "       . biopic\n",
            "       . spread\n",
            "       . rouge\n",
            "       . african\n",
            "       . racist\n",
            "       . empire\n",
            "       . knowles\n",
            "       . chicago\n",
            "       . black\n",
            "  . Most correlated bigrams:\n",
            "       . martin luther\n",
            "       . nicki minaj\n",
            "       . idris elba\n",
            "       . colin kaepernick\n",
            "       . kerry washington\n",
            "       . black women\n",
            "       . black history\n",
            "       . black man\n",
            "       . lives matter\n",
            "       . black lives\n",
            "# 'BUSINESS':\n",
            "  . Most correlated unigrams:\n",
            "       . board\n",
            "       . profit\n",
            "       . sales\n",
            "       . krugman\n",
            "       . founder\n",
            "       . uber\n",
            "       . ceo\n",
            "       . marketing\n",
            "       . jobs\n",
            "       . business\n",
            "  . Most correlated bigrams:\n",
            "       . hurricane sandy\n",
            "       . single mom\n",
            "       . york city\n",
            "       . new york\n",
            "       . wall street\n",
            "       . elon musk\n",
            "       . black friday\n",
            "       . wall st\n",
            "       . 24 wall\n",
            "       . women business\n",
            "# 'COLLEGE':\n",
            "  . Most correlated unigrams:\n",
            "       . gap\n",
            "       . students\n",
            "       . professor\n",
            "       . complaining\n",
            "       . leadership\n",
            "       . twist\n",
            "       . university\n",
            "       . pakistan\n",
            "       . graduates\n",
            "       . college\n",
            "  . Most correlated bigrams:\n",
            "       . social media\n",
            "       . health care\n",
            "       . supreme court\n",
            "       . year old\n",
            "       . white house\n",
            "       . hillary clinton\n",
            "       . donald trump\n",
            "       . new york\n",
            "       . best way\n",
            "       . sexual assault\n",
            "# 'COMEDY':\n",
            "  . Most correlated unigrams:\n",
            "       . bee\n",
            "       . spoof\n",
            "       . seth\n",
            "       . samantha\n",
            "       . meyers\n",
            "       . conan\n",
            "       . stephen\n",
            "       . maher\n",
            "       . snl\n",
            "       . colbert\n",
            "  . Most correlated bigrams:\n",
            "       . jimmy fallon\n",
            "       . jon stewart\n",
            "       . john oliver\n",
            "       . donald trump\n",
            "       . conan brien\n",
            "       . late night\n",
            "       . jimmy kimmel\n",
            "       . samantha bee\n",
            "       . seth meyers\n",
            "       . stephen colbert\n",
            "# 'CRIME':\n",
            "  . Most correlated unigrams:\n",
            "       . killing\n",
            "       . cop\n",
            "       . shooting\n",
            "       . man\n",
            "       . fatally\n",
            "       . officer\n",
            "       . arrested\n",
            "       . charged\n",
            "       . police\n",
            "       . suspect\n",
            "  . Most correlated bigrams:\n",
            "       . sexual assault\n",
            "       . school shooting\n",
            "       . new jersey\n",
            "       . gun control\n",
            "       . new orleans\n",
            "       . video shows\n",
            "       . year old\n",
            "       . police officer\n",
            "       . old girl\n",
            "       . police say\n",
            "# 'CULTURE & ARTS':\n",
            "  . Most correlated unigrams:\n",
            "       . week\n",
            "       . san\n",
            "       . limbo\n",
            "       . bit\n",
            "       . doug\n",
            "       . theater\n",
            "       . artist\n",
            "       . artists\n",
            "       . explores\n",
            "       . imageblog\n",
            "  . Most correlated bigrams:\n",
            "       . new york\n",
            "       . hillary clinton\n",
            "       . donald trump\n",
            "       . star wars\n",
            "       . san francisco\n",
            "       . middle east\n",
            "       . black women\n",
            "       . mad men\n",
            "       . history month\n",
            "       . women history\n",
            "# 'DIVORCE':\n",
            "  . Most correlated unigrams:\n",
            "       . husband\n",
            "       . breakup\n",
            "       . readers\n",
            "       . single\n",
            "       . dating\n",
            "       . split\n",
            "       . infidelity\n",
            "       . cheating\n",
            "       . divorced\n",
            "       . divorce\n",
            "  . Most correlated bigrams:\n",
            "       . khloe kardashian\n",
            "       . look like\n",
            "       . survey finds\n",
            "       . best way\n",
            "       . gwyneth paltrow\n",
            "       . shades grey\n",
            "       . valentine day\n",
            "       . don let\n",
            "       . single mom\n",
            "       . dating divorce\n",
            "# 'EDUCATION':\n",
            "  . Most correlated unigrams:\n",
            "       . racial\n",
            "       . devos\n",
            "       . learning\n",
            "       . future\n",
            "       . schools\n",
            "       . betsy\n",
            "       . core\n",
            "       . school\n",
            "       . education\n",
            "       . teachers\n",
            "  . Most correlated bigrams:\n",
            "       . new york\n",
            "       . mental health\n",
            "       . puerto rico\n",
            "       . civil rights\n",
            "       . united states\n",
            "       . student loan\n",
            "       . gop tax\n",
            "       . scott walker\n",
            "       . south korea\n",
            "       . betsy devos\n",
            "# 'ENTERTAINMENT':\n",
            "  . Most correlated unigrams:\n",
            "       . box\n",
            "       . movies\n",
            "       . kardashian\n",
            "       . taylor\n",
            "       . swift\n",
            "       . kanye\n",
            "       . jenner\n",
            "       . thrones\n",
            "       . movie\n",
            "       . trailer\n",
            "  . Most correlated bigrams:\n",
            "       . selena gomez\n",
            "       . star wars\n",
            "       . kylie jenner\n",
            "       . american horror\n",
            "       . horror story\n",
            "       . new album\n",
            "       . kanye west\n",
            "       . taylor swift\n",
            "       . game thrones\n",
            "       . box office\n",
            "# 'ENVIRONMENT':\n",
            "  . Most correlated unigrams:\n",
            "       . winter\n",
            "       . bet\n",
            "       . oil\n",
            "       . green\n",
            "       . susan\n",
            "       . tornado\n",
            "       . animals\n",
            "       . energy\n",
            "       . animal\n",
            "       . spill\n",
            "  . Most correlated bigrams:\n",
            "       . new york\n",
            "       . climate change\n",
            "       . york city\n",
            "       . looks like\n",
            "       . new study\n",
            "       . ve seen\n",
            "       . new zealand\n",
            "       . make want\n",
            "       . didn know\n",
            "       . photos week\n",
            "# 'FIFTY':\n",
            "  . Most correlated unigrams:\n",
            "       . seek\n",
            "       . prepare\n",
            "       . loving\n",
            "       . smarter\n",
            "       . prove\n",
            "       . 50\n",
            "       . 60\n",
            "       . aging\n",
            "       . absolutely\n",
            "       . retirement\n",
            "  . Most correlated bigrams:\n",
            "       . look like\n",
            "       . father day\n",
            "       . year old\n",
            "       . real life\n",
            "       . survey finds\n",
            "       . just got\n",
            "       . 10 things\n",
            "       . easy ways\n",
            "       . things need\n",
            "       . gives birth\n",
            "# 'FOOD & DRINK':\n",
            "  . Most correlated unigrams:\n",
            "       . food\n",
            "       . cooking\n",
            "       . homemade\n",
            "       . chicken\n",
            "       . cheese\n",
            "       . bacon\n",
            "       . cook\n",
            "       . cocktail\n",
            "       . recipe\n",
            "       . recipes\n",
            "  . Most correlated bigrams:\n",
            "       . new zealand\n",
            "       . donald trump\n",
            "       . holiday season\n",
            "       . easy ways\n",
            "       . ice cream\n",
            "       . fast food\n",
            "       . taco bell\n",
            "       . cooking cuff\n",
            "       . recipe day\n",
            "       . recipes photos\n",
            "# 'GOOD NEWS':\n",
            "  . Most correlated unigrams:\n",
            "       . caught\n",
            "       . football\n",
            "       . donates\n",
            "       . matthew\n",
            "       . traffic\n",
            "       . homeless\n",
            "       . offering\n",
            "       . puppy\n",
            "       . fan\n",
            "       . camera\n",
            "  . Most correlated bigrams:\n",
            "       . new york\n",
            "       . hillary clinton\n",
            "       . donald trump\n",
            "       . year old\n",
            "       . super bowl\n",
            "       . jimmy fallon\n",
            "       . civil rights\n",
            "       . years ago\n",
            "       . star wars\n",
            "       . world series\n",
            "# 'GREEN':\n",
            "  . Most correlated unigrams:\n",
            "       . environment\n",
            "       . hurricane\n",
            "       . bridge\n",
            "       . climate\n",
            "       . bulls\n",
            "       . dog\n",
            "       . pollution\n",
            "       . california\n",
            "       . fossil\n",
            "       . pit\n",
            "  . Most correlated bigrams:\n",
            "       . donald trump\n",
            "       . hillary clinton\n",
            "       . puerto rico\n",
            "       . chris christie\n",
            "       . memorial day\n",
            "       . los angeles\n",
            "       . just got\n",
            "       . elon musk\n",
            "       . video shows\n",
            "       . climate change\n",
            "# 'HEALTHY LIVING':\n",
            "  . Most correlated unigrams:\n",
            "       . doctors\n",
            "       . infection\n",
            "       . transform\n",
            "       . illness\n",
            "       . health\n",
            "       . sleep\n",
            "       . habits\n",
            "       . mental\n",
            "       . zika\n",
            "       . disorder\n",
            "  . Most correlated bigrams:\n",
            "       . health care\n",
            "       . demi lovato\n",
            "       . 10 ways\n",
            "       . breast cancer\n",
            "       . don let\n",
            "       . things know\n",
            "       . mental illness\n",
            "       . healthy ways\n",
            "       . gps guide\n",
            "       . mental health\n",
            "# 'HOME & LIVING':\n",
            "  . Most correlated unigrams:\n",
            "       . bedroom\n",
            "       . unusual\n",
            "       . paint\n",
            "       . photos\n",
            "       . outdoor\n",
            "       . homes\n",
            "       . home\n",
            "       . ideas\n",
            "       . diy\n",
            "       . craft\n",
            "  . Most correlated bigrams:\n",
            "       . ellen degeneres\n",
            "       . best worst\n",
            "       . ryan gosling\n",
            "       . easy ways\n",
            "       . ebay vintage\n",
            "       . weekly roundup\n",
            "       . roundup ebay\n",
            "       . finds photos\n",
            "       . diy ideas\n",
            "       . craft day\n",
            "# 'IMPACT':\n",
            "  . Most correlated unigrams:\n",
            "       . touch\n",
            "       . donates\n",
            "       . global\n",
            "       . heroes\n",
            "       . poverty\n",
            "       . conflict\n",
            "       . giving\n",
            "       . homelessness\n",
            "       . refugees\n",
            "       . homeless\n",
            "  . Most correlated bigrams:\n",
            "       . state union\n",
            "       . day video\n",
            "       . luther king\n",
            "       . martin luther\n",
            "       . memorial day\n",
            "       . 20 years\n",
            "       . march madness\n",
            "       . high school\n",
            "       . sexual assault\n",
            "       . hurricane sandy\n",
            "# 'LATINO VOICES':\n",
            "  . Most correlated unigrams:\n",
            "       . grammys\n",
            "       . drake\n",
            "       . activists\n",
            "       . postpones\n",
            "       . speaking\n",
            "       . immigrant\n",
            "       . puerto\n",
            "       . ny\n",
            "       . latinos\n",
            "       . latino\n",
            "  . Most correlated bigrams:\n",
            "       . white house\n",
            "       . new york\n",
            "       . hillary clinton\n",
            "       . fashion week\n",
            "       . samantha bee\n",
            "       . history month\n",
            "       . black history\n",
            "       . wants make\n",
            "       . wants play\n",
            "       . puerto rico\n",
            "# 'MEDIA':\n",
            "  . Most correlated unigrams:\n",
            "       . host\n",
            "       . editor\n",
            "       . keith\n",
            "       . newspapers\n",
            "       . msnbc\n",
            "       . media\n",
            "       . cnn\n",
            "       . fox\n",
            "       . journalism\n",
            "       . news\n",
            "  . Most correlated bigrams:\n",
            "       . donald trump\n",
            "       . wall street\n",
            "       . gop debate\n",
            "       . wants make\n",
            "       . iran deal\n",
            "       . huffington post\n",
            "       . town hall\n",
            "       . anderson cooper\n",
            "       . york times\n",
            "       . fox news\n",
            "# 'MONEY':\n",
            "  . Most correlated unigrams:\n",
            "       . fiscal\n",
            "       . warning\n",
            "       . 200\n",
            "       . prices\n",
            "       . express\n",
            "       . money\n",
            "       . customers\n",
            "       . financial\n",
            "       . debt\n",
            "       . credit\n",
            "  . Most correlated bigrams:\n",
            "       . need know\n",
            "       . mental health\n",
            "       . study finds\n",
            "       . valentine day\n",
            "       . san francisco\n",
            "       . student loan\n",
            "       . health care\n",
            "       . black friday\n",
            "       . survey finds\n",
            "       . 10 best\n",
            "# 'PARENTING':\n",
            "  . Most correlated unigrams:\n",
            "       . mothers\n",
            "       . kid\n",
            "       . moms\n",
            "       . pregnancy\n",
            "       . parenting\n",
            "       . baby\n",
            "       . children\n",
            "       . mom\n",
            "       . parents\n",
            "       . kids\n",
            "  . Most correlated bigrams:\n",
            "       . tweets moms\n",
            "       . said twitter\n",
            "       . twitter week\n",
            "       . stay home\n",
            "       . moms dads\n",
            "       . open letter\n",
            "       . baby names\n",
            "       . note day\n",
            "       . cute kid\n",
            "       . kid note\n",
            "# 'PARENTS':\n",
            "  . Most correlated unigrams:\n",
            "       . parody\n",
            "       . parent\n",
            "       . daughter\n",
            "       . baby\n",
            "       . breastfeeding\n",
            "       . toddler\n",
            "       . parents\n",
            "       . parenting\n",
            "       . mom\n",
            "       . kids\n",
            "  . Most correlated bigrams:\n",
            "       . moms dads\n",
            "       . twitter week\n",
            "       . dads said\n",
            "       . tweets moms\n",
            "       . said twitter\n",
            "       . little girl\n",
            "       . women history\n",
            "       . parenting tweets\n",
            "       . father day\n",
            "       . baby names\n",
            "# 'POLITICS':\n",
            "  . Most correlated unigrams:\n",
            "       . senate\n",
            "       . house\n",
            "       . democrats\n",
            "       . obama\n",
            "       . republicans\n",
            "       . hillary\n",
            "       . clinton\n",
            "       . donald\n",
            "       . gop\n",
            "       . trump\n",
            "  . Most correlated bigrams:\n",
            "       . sunday roundup\n",
            "       . paul ryan\n",
            "       . huffpost hill\n",
            "       . morning email\n",
            "       . supreme court\n",
            "       . bernie sanders\n",
            "       . white house\n",
            "       . ted cruz\n",
            "       . hillary clinton\n",
            "       . donald trump\n",
            "# 'QUEER VOICES':\n",
            "  . Most correlated unigrams:\n",
            "       . rupaul\n",
            "       . pride\n",
            "       . drag\n",
            "       . lgbtq\n",
            "       . lesbian\n",
            "       . trans\n",
            "       . transgender\n",
            "       . queer\n",
            "       . lgbt\n",
            "       . gay\n",
            "  . Most correlated bigrams:\n",
            "       . north carolina\n",
            "       . mike pence\n",
            "       . gay marriage\n",
            "       . anti lgbtq\n",
            "       . caitlyn jenner\n",
            "       . rupaul drag\n",
            "       . lgbt rights\n",
            "       . marriage equality\n",
            "       . anti lgbt\n",
            "       . drag race\n",
            "# 'RELIGION':\n",
            "  . Most correlated unigrams:\n",
            "       . daily\n",
            "       . spiritual\n",
            "       . meditation\n",
            "       . god\n",
            "       . faith\n",
            "       . religious\n",
            "       . catholic\n",
            "       . francis\n",
            "       . church\n",
            "       . pope\n",
            "  . Most correlated bigrams:\n",
            "       . donald trump\n",
            "       . video shows\n",
            "       . middle east\n",
            "       . climate change\n",
            "       . father day\n",
            "       . memorial day\n",
            "       . holiday season\n",
            "       . gay marriage\n",
            "       . pope francis\n",
            "       . daily meditation\n",
            "# 'SCIENCE':\n",
            "  . Most correlated unigrams:\n",
            "       . challenger\n",
            "       . space\n",
            "       . mesmerizing\n",
            "       . science\n",
            "       . mars\n",
            "       . nasa\n",
            "       . planet\n",
            "       . sky\n",
            "       . moon\n",
            "       . earth\n",
            "  . Most correlated bigrams:\n",
            "       . new york\n",
            "       . hillary clinton\n",
            "       . donald trump\n",
            "       . don want\n",
            "       . study finds\n",
            "       . harry potter\n",
            "       . elon musk\n",
            "       . study suggests\n",
            "       . new study\n",
            "       . study shows\n",
            "# 'SPORTS':\n",
            "  . Most correlated unigrams:\n",
            "       . nba\n",
            "       . players\n",
            "       . lebron\n",
            "       . player\n",
            "       . sports\n",
            "       . coach\n",
            "       . league\n",
            "       . curry\n",
            "       . soccer\n",
            "       . nfl\n",
            "  . Most correlated bigrams:\n",
            "       . lives matter\n",
            "       . high school\n",
            "       . president obama\n",
            "       . march madness\n",
            "       . domestic violence\n",
            "       . hall fame\n",
            "       . world series\n",
            "       . lebron james\n",
            "       . super bowl\n",
            "       . world cup\n",
            "# 'STYLE':\n",
            "  . Most correlated unigrams:\n",
            "       . items\n",
            "       . gown\n",
            "       . william\n",
            "       . naomi\n",
            "       . beauty\n",
            "       . heels\n",
            "       . line\n",
            "       . chic\n",
            "       . style\n",
            "       . fashion\n",
            "  . Most correlated bigrams:\n",
            "       . best dressed\n",
            "       . caitlyn jenner\n",
            "       . dressed list\n",
            "       . year eve\n",
            "       . fashion week\n",
            "       . carrie underwood\n",
            "       . ariana grande\n",
            "       . worst dressed\n",
            "       . golden globes\n",
            "       . street style\n",
            "# 'STYLE & BEAUTY':\n",
            "  . Most correlated unigrams:\n",
            "       . photo\n",
            "       . makeup\n",
            "       . wear\n",
            "       . hair\n",
            "       . beauty\n",
            "       . middleton\n",
            "       . dress\n",
            "       . style\n",
            "       . fashion\n",
            "       . photos\n",
            "  . Most correlated bigrams:\n",
            "       . clothing finds\n",
            "       . vintage clothing\n",
            "       . week photos\n",
            "       . 2012 photos\n",
            "       . best dressed\n",
            "       . fall 2012\n",
            "       . style evolution\n",
            "       . kate middleton\n",
            "       . fashion week\n",
            "       . photos poll\n",
            "# 'TASTE':\n",
            "  . Most correlated unigrams:\n",
            "       . make\n",
            "       . taco\n",
            "       . pink\n",
            "       . breakfast\n",
            "       . cooking\n",
            "       . pizza\n",
            "       . recipes\n",
            "       . grill\n",
            "       . cuff\n",
            "       . pumpkin\n",
            "  . Most correlated bigrams:\n",
            "       . years ago\n",
            "       . didn know\n",
            "       . scott walker\n",
            "       . memorial day\n",
            "       . 10 ways\n",
            "       . look like\n",
            "       . gluten free\n",
            "       . taco bell\n",
            "       . ice cream\n",
            "       . cooking cuff\n",
            "# 'TECH':\n",
            "  . Most correlated unigrams:\n",
            "       . app\n",
            "       . google\n",
            "       . videos\n",
            "       . tech\n",
            "       . ipad\n",
            "       . online\n",
            "       . youtube\n",
            "       . facebook\n",
            "       . iphone\n",
            "       . apple\n",
            "  . Most correlated bigrams:\n",
            "       . hillary clinton\n",
            "       . social media\n",
            "       . donald trump\n",
            "       . need know\n",
            "       . climate change\n",
            "       . las vegas\n",
            "       . valentine day\n",
            "       . day video\n",
            "       . elon musk\n",
            "       . big deal\n",
            "# 'THE WORLDPOST':\n",
            "  . Most correlated unigrams:\n",
            "       . crackdown\n",
            "       . palestinian\n",
            "       . russia\n",
            "       . china\n",
            "       . refugee\n",
            "       . russian\n",
            "       . turkey\n",
            "       . france\n",
            "       . brexit\n",
            "       . aleppo\n",
            "  . Most correlated bigrams:\n",
            "       . trump presidency\n",
            "       . trump administration\n",
            "       . middle east\n",
            "       . fake news\n",
            "       . police say\n",
            "       . death toll\n",
            "       . north korea\n",
            "       . united states\n",
            "       . saudi arabia\n",
            "       . south korea\n",
            "# 'TRAVEL':\n",
            "  . Most correlated unigrams:\n",
            "       . islands\n",
            "       . tsa\n",
            "       . looney\n",
            "       . photos\n",
            "       . hotel\n",
            "       . vacation\n",
            "       . hotels\n",
            "       . traveling\n",
            "       . destinations\n",
            "       . travel\n",
            "  . Most correlated bigrams:\n",
            "       . san francisco\n",
            "       . road trip\n",
            "       . things learned\n",
            "       . things know\n",
            "       . 10 things\n",
            "       . new orleans\n",
            "       . instagram photos\n",
            "       . 10 best\n",
            "       . travel zen\n",
            "       . weekly travel\n",
            "# 'U.S. NEWS':\n",
            "  . Most correlated unigrams:\n",
            "       . delta\n",
            "       . homicide\n",
            "       . toll\n",
            "       . rises\n",
            "       . crime\n",
            "       . covid\n",
            "       . died\n",
            "       . miami\n",
            "       . migrants\n",
            "       . collapse\n",
            "  . Most correlated bigrams:\n",
            "       . north carolina\n",
            "       . right wing\n",
            "       . police officer\n",
            "       . britney spears\n",
            "       . gun control\n",
            "       . new jersey\n",
            "       . anti lgbtq\n",
            "       . san francisco\n",
            "       . death toll\n",
            "       . covid 19\n",
            "# 'WEDDINGS':\n",
            "  . Most correlated unigrams:\n",
            "       . engagement\n",
            "       . brides\n",
            "       . bridal\n",
            "       . proposal\n",
            "       . guests\n",
            "       . bride\n",
            "       . marry\n",
            "       . marriage\n",
            "       . weddings\n",
            "       . wedding\n",
            "  . Most correlated bigrams:\n",
            "       . 11 year\n",
            "       . day video\n",
            "       . social media\n",
            "       . john legend\n",
            "       . day photos\n",
            "       . survey finds\n",
            "       . don want\n",
            "       . say yes\n",
            "       . wedding guest\n",
            "       . big day\n",
            "# 'WEIRD NEWS':\n",
            "  . Most correlated unigrams:\n",
            "       . naked\n",
            "       . ride\n",
            "       . cops\n",
            "       . weed\n",
            "       . cat\n",
            "       . allegedly\n",
            "       . shark\n",
            "       . weird\n",
            "       . drunk\n",
            "       . subway\n",
            "  . Most correlated bigrams:\n",
            "       . little girl\n",
            "       . video shows\n",
            "       . look like\n",
            "       . federal judge\n",
            "       . new zealand\n",
            "       . 10 best\n",
            "       . big deal\n",
            "       . wedding guest\n",
            "       . holiday season\n",
            "       . real life\n",
            "# 'WELLNESS':\n",
            "  . Most correlated unigrams:\n",
            "       . heart\n",
            "       . yoga\n",
            "       . exercise\n",
            "       . linked\n",
            "       . fda\n",
            "       . fitness\n",
            "       . weight\n",
            "       . workout\n",
            "       . sleep\n",
            "       . study\n",
            "  . Most correlated bigrams:\n",
            "       . meditations healthy\n",
            "       . healthy sex\n",
            "       . weekly meditations\n",
            "       . study finds\n",
            "       . study suggests\n",
            "       . prostate cancer\n",
            "       . gps guide\n",
            "       . heart disease\n",
            "       . lost weight\n",
            "       . weight loss\n",
            "# 'WOMEN':\n",
            "  . Most correlated unigrams:\n",
            "       . woman\n",
            "       . sexism\n",
            "       . male\n",
            "       . harassment\n",
            "       . tweets\n",
            "       . feminist\n",
            "       . women\n",
            "       . funniest\n",
            "       . abortion\n",
            "       . feminism\n",
            "  . Most correlated bigrams:\n",
            "       . stay home\n",
            "       . joe biden\n",
            "       . planned parenthood\n",
            "       . anti abortion\n",
            "       . sexual harassment\n",
            "       . birth control\n",
            "       . 20 funniest\n",
            "       . funniest tweets\n",
            "       . women week\n",
            "       . tweets women\n",
            "# 'WORLD NEWS':\n",
            "  . Most correlated unigrams:\n",
            "       . india\n",
            "       . hong\n",
            "       . kong\n",
            "       . prime\n",
            "       . held\n",
            "       . brazil\n",
            "       . minister\n",
            "       . attack\n",
            "       . korea\n",
            "       . saudi\n",
            "  . Most correlated bigrams:\n",
            "       . world cup\n",
            "       . pope francis\n",
            "       . fidel castro\n",
            "       . new zealand\n",
            "       . middle east\n",
            "       . death toll\n",
            "       . saudi arabia\n",
            "       . hong kong\n",
            "       . north korea\n",
            "       . prime minister\n",
            "# 'WORLDPOST':\n",
            "  . Most correlated unigrams:\n",
            "       . brutal\n",
            "       . scotland\n",
            "       . capture\n",
            "       . military\n",
            "       . foreign\n",
            "       . troops\n",
            "       . asia\n",
            "       . isis\n",
            "       . iraq\n",
            "       . hamas\n",
            "  . Most correlated bigrams:\n",
            "       . new york\n",
            "       . hillary clinton\n",
            "       . donald trump\n",
            "       . 10 things\n",
            "       . north korea\n",
            "       . old girl\n",
            "       . 30 years\n",
            "       . look day\n",
            "       . week photos\n",
            "       . hong kong\n"
          ]
        }
      ]
    },
    {
      "cell_type": "code",
      "source": [
        "features_chi2"
      ],
      "metadata": {
        "colab": {
          "base_uri": "https://localhost:8080/"
        },
        "id": "6m6KXdmxDeBl",
        "outputId": "f49c9a18-66d9-4ecf-f579-ebc0a518690a"
      },
      "execution_count": 28,
      "outputs": [
        {
          "output_type": "execute_result",
          "data": {
            "text/plain": [
              "(array([0.12264962, 0.2066352 , 0.02989434, ..., 0.04952986, 0.03045369,\n",
              "        0.03470517]),\n",
              " array([0.72617834, 0.64941758, 0.86273019, ..., 0.82388338, 0.86146478,\n",
              "        0.8522148 ]))"
            ]
          },
          "metadata": {},
          "execution_count": 28
        }
      ]
    },
    {
      "cell_type": "code",
      "source": [
        "from sklearn.manifold import TSNE\n",
        "\n",
        "SAMPLE_SIZE = int(len(features) * 0.3)\n",
        "np.random.seed(0)\n",
        "indices = np.random.choice(range(len(features)), size=SAMPLE_SIZE, replace=False)\n",
        "projected_features = TSNE(n_components=2, random_state=0).fit_transform(features[indices])"
      ],
      "metadata": {
        "id": "Qvm6F5RuDhMe"
      },
      "execution_count": 29,
      "outputs": []
    },
    {
      "cell_type": "code",
      "source": [
        "my_id = 5\n",
        "projected_features[(labels[indices] == my_id).values]"
      ],
      "metadata": {
        "colab": {
          "base_uri": "https://localhost:8080/"
        },
        "id": "8jeIj_wNDo7R",
        "outputId": "dab77d17-9bf2-434e-f687-0babfcf174cf"
      },
      "execution_count": 32,
      "outputs": [
        {
          "output_type": "execute_result",
          "data": {
            "text/plain": [
              "array([[ -70.10586   ,   60.9619    ],\n",
              "       [ -14.207061  ,   26.898388  ],\n",
              "       [  62.409782  ,   46.075924  ],\n",
              "       [  84.195625  ,  -10.245682  ],\n",
              "       [  -4.9317923 ,    3.3331277 ],\n",
              "       [   1.0516225 ,   -2.5995033 ],\n",
              "       [  31.383001  , -100.578     ],\n",
              "       [  51.645     ,   16.635418  ],\n",
              "       [ -90.77549   ,  -40.453938  ],\n",
              "       [-101.15422   ,  -40.63915   ],\n",
              "       [  16.793423  ,   52.403183  ],\n",
              "       [   2.4856594 ,    7.9721336 ],\n",
              "       [ -37.643795  ,   48.417797  ],\n",
              "       [ -42.942543  ,  -53.731457  ],\n",
              "       [   0.56840545,   76.87155   ],\n",
              "       [  -4.933883  ,    3.3335304 ],\n",
              "       [  -6.5999627 ,   -8.232592  ],\n",
              "       [ -18.93162   ,   49.208744  ],\n",
              "       [  15.479867  ,    8.965191  ],\n",
              "       [  76.67587   ,  -59.99565   ],\n",
              "       [  83.948364  ,    7.194814  ],\n",
              "       [   4.8216963 ,    3.2777226 ],\n",
              "       [  10.401898  ,  -14.596484  ],\n",
              "       [ -92.47052   ,  -45.14028   ],\n",
              "       [ -37.946613  ,   24.37468   ],\n",
              "       [  81.34117   ,  -78.03625   ],\n",
              "       [   2.1772697 ,    4.404844  ],\n",
              "       [ -92.58779   ,  -27.368784  ],\n",
              "       [-100.43285   ,  -22.864553  ],\n",
              "       [  27.085938  ,   68.83315   ],\n",
              "       [   2.4855628 ,    7.974035  ],\n",
              "       [ -66.88374   ,   64.48109   ],\n",
              "       [ -36.69478   ,   65.988464  ],\n",
              "       [  32.576122  ,   92.971634  ],\n",
              "       [  97.18607   ,  -12.8767805 ],\n",
              "       [ -40.296154  ,  -51.449936  ],\n",
              "       [   1.7253647 ,    1.664014  ],\n",
              "       [ -48.98301   ,  -39.457146  ],\n",
              "       [ -53.52039   ,   57.15588   ],\n",
              "       [ -80.2675    ,  -12.042903  ],\n",
              "       [  71.80604   ,   27.090239  ],\n",
              "       [   1.7253647 ,    1.664014  ],\n",
              "       [  94.18897   ,   48.355392  ],\n",
              "       [ -70.863785  ,   52.66981   ],\n",
              "       [  44.417625  ,   24.60961   ],\n",
              "       [  58.431564  ,  -54.64433   ],\n",
              "       [   7.486588  ,   -7.2615395 ],\n",
              "       [ -18.800962  ,   45.14974   ],\n",
              "       [ -89.71759   ,  -49.4032    ],\n",
              "       [ -58.14896   ,   63.21094   ],\n",
              "       [  60.538364  ,  -85.7758    ],\n",
              "       [  43.106724  ,   -8.625569  ],\n",
              "       [  16.81889   ,  -10.088818  ],\n",
              "       [   1.0518446 ,   -2.598345  ],\n",
              "       [ -19.8135    ,   57.208576  ],\n",
              "       [ -93.10688   ,  -35.897892  ],\n",
              "       [ -50.81722   ,  -60.69807   ],\n",
              "       [ -98.496864  ,  -35.42115   ]], dtype=float32)"
            ]
          },
          "metadata": {},
          "execution_count": 32
        }
      ]
    },
    {
      "cell_type": "code",
      "source": [
        "import matplotlib.pyplot as plt\n",
        "import numpy as np\n",
        "\n",
        "num_categories = len(category_to_id)\n",
        "cmap = plt.get_cmap('tab10')\n",
        "\n",
        "for category, category_id in sorted(category_to_id.items()):\n",
        "    points = projected_features[(labels[indices] == category_id).values]\n",
        "    # Calculate the color index based on the category ID\n",
        "    color_index = category_id % num_categories\n",
        "    plt.scatter(points[:, 0], points[:, 1], s=30, c=[cmap(color_index)], label=category)\n",
        "\n",
        "plt.title(\"2 dimensional feature vector\")\n",
        "plt.legend()\n",
        "plt.show()\n"
      ],
      "metadata": {
        "colab": {
          "base_uri": "https://localhost:8080/",
          "height": 950
        },
        "id": "npmg32qiDw-5",
        "outputId": "558d3df3-8d39-411b-fdb4-64b14380b169"
      },
      "execution_count": 34,
      "outputs": [
        {
          "output_type": "display_data",
          "data": {
            "text/plain": [
              "<Figure size 640x480 with 1 Axes>"
            ],
            "image/png": "[encoded data removed]"
          },
          "metadata": {}
        }
      ]
    },
    {
      "cell_type": "code",
      "source": [
        "from sklearn.linear_model import LogisticRegression\n",
        "from sklearn.ensemble import RandomForestClassifier\n",
        "from sklearn.naive_bayes import MultinomialNB\n",
        "\n",
        "from sklearn.model_selection import cross_val_score\n",
        "\n",
        "\n",
        "models = [\n",
        "    RandomForestClassifier(n_estimators=200, max_depth=3, random_state=0),\n",
        "    MultinomialNB(),\n",
        "    LogisticRegression(random_state=0),\n",
        "]"
      ],
      "metadata": {
        "id": "SoTpO6j-D3PR"
      },
      "execution_count": 35,
      "outputs": []
    },
    {
      "cell_type": "code",
      "source": [
        "CV = 5\n",
        "\n",
        "cv_df = pd.DataFrame(index=range(CV * len(models)))\n",
        "entries = []"
      ],
      "metadata": {
        "id": "VUozuBF7GUfS"
      },
      "execution_count": 36,
      "outputs": []
    },
    {
      "cell_type": "code",
      "source": [
        "for model in models:\n",
        "  model_name = model.__class__.__name__\n",
        "  accuracies = cross_val_score(model, features, labels, scoring = 'accuracy', cv=CV)\n",
        "  for fold_idx, accuracy in enumerate(accuracies):\n",
        "    entries.append((model_name, fold_idx, accuracy))"
      ],
      "metadata": {
        "colab": {
          "base_uri": "https://localhost:8080/"
        },
        "id": "8a8hlAWnGk4t",
        "outputId": "96684c8a-6a25-43d4-f757-39521118c3cb"
      },
      "execution_count": 37,
      "outputs": [
        {
          "output_type": "stream",
          "name": "stderr",
          "text": [
            "/usr/local/lib/python3.10/dist-packages/sklearn/linear_model/_logistic.py:458: ConvergenceWarning: lbfgs failed to converge (status=1):\n",
            "STOP: TOTAL NO. of ITERATIONS REACHED LIMIT.\n",
            "\n",
            "Increase the number of iterations (max_iter) or scale the data as shown in:\n",
            "    https://scikit-learn.org/stable/modules/preprocessing.html\n",
            "Please also refer to the documentation for alternative solver options:\n",
            "    https://scikit-learn.org/stable/modules/linear_model.html#logistic-regression\n",
            "  n_iter_i = _check_optimize_result(\n",
            "/usr/local/lib/python3.10/dist-packages/sklearn/linear_model/_logistic.py:458: ConvergenceWarning: lbfgs failed to converge (status=1):\n",
            "STOP: TOTAL NO. of ITERATIONS REACHED LIMIT.\n",
            "\n",
            "Increase the number of iterations (max_iter) or scale the data as shown in:\n",
            "    https://scikit-learn.org/stable/modules/preprocessing.html\n",
            "Please also refer to the documentation for alternative solver options:\n",
            "    https://scikit-learn.org/stable/modules/linear_model.html#logistic-regression\n",
            "  n_iter_i = _check_optimize_result(\n",
            "/usr/local/lib/python3.10/dist-packages/sklearn/linear_model/_logistic.py:458: ConvergenceWarning: lbfgs failed to converge (status=1):\n",
            "STOP: TOTAL NO. of ITERATIONS REACHED LIMIT.\n",
            "\n",
            "Increase the number of iterations (max_iter) or scale the data as shown in:\n",
            "    https://scikit-learn.org/stable/modules/preprocessing.html\n",
            "Please also refer to the documentation for alternative solver options:\n",
            "    https://scikit-learn.org/stable/modules/linear_model.html#logistic-regression\n",
            "  n_iter_i = _check_optimize_result(\n",
            "/usr/local/lib/python3.10/dist-packages/sklearn/linear_model/_logistic.py:458: ConvergenceWarning: lbfgs failed to converge (status=1):\n",
            "STOP: TOTAL NO. of ITERATIONS REACHED LIMIT.\n",
            "\n",
            "Increase the number of iterations (max_iter) or scale the data as shown in:\n",
            "    https://scikit-learn.org/stable/modules/preprocessing.html\n",
            "Please also refer to the documentation for alternative solver options:\n",
            "    https://scikit-learn.org/stable/modules/linear_model.html#logistic-regression\n",
            "  n_iter_i = _check_optimize_result(\n"
          ]
        }
      ]
    },
    {
      "cell_type": "code",
      "source": [
        "cv_df = pd.DataFrame(entries, columns=['model_name', 'fold_idx', 'accuracy'])"
      ],
      "metadata": {
        "id": "hbnJkquvGt_Q"
      },
      "execution_count": 38,
      "outputs": []
    },
    {
      "cell_type": "code",
      "source": [
        "import seaborn as sns\n",
        "\n",
        "sns.boxplot(x='model_name', y='accuracy', data=cv_df)\n",
        "sns.stripplot(x='model_name', y='accuracy', data=cv_df,\n",
        "              size=8, jitter=True, edgecolor=\"gray\", linewidth=2)"
      ],
      "metadata": {
        "colab": {
          "base_uri": "https://localhost:8080/",
          "height": 521
        },
        "id": "9XqcCFg1G5rf",
        "outputId": "5f5e822b-2807-4bca-e36b-cd91ffdbe3c0"
      },
      "execution_count": 39,
      "outputs": [
        {
          "output_type": "stream",
          "name": "stderr",
          "text": [
            "<ipython-input-39-606c2eb606d6>:4: FutureWarning: Use \"auto\" to set automatic grayscale colors. From v0.14.0, \"gray\" will default to matplotlib's definition.\n",
            "  sns.stripplot(x='model_name', y='accuracy', data=cv_df,\n"
          ]
        },
        {
          "output_type": "execute_result",
          "data": {
            "text/plain": [
              "<Axes: xlabel='model_name', ylabel='accuracy'>"
            ]
          },
          "metadata": {},
          "execution_count": 39
        },
        {
          "output_type": "display_data",
          "data": {
            "text/plain": [
              "<Figure size 640x480 with 1 Axes>"
            ],
            "image/png": "[encoded data removed]"
          },
          "metadata": {}
        }
      ]
    },
    {
      "cell_type": "code",
      "source": [
        "cv_df.groupby('model_name').accuracy.mean()"
      ],
      "metadata": {
        "colab": {
          "base_uri": "https://localhost:8080/"
        },
        "id": "o0l3yVgmG9E5",
        "outputId": "b46582e3-4311-496e-9cf7-47843206f27a"
      },
      "execution_count": 40,
      "outputs": [
        {
          "output_type": "execute_result",
          "data": {
            "text/plain": [
              "model_name\n",
              "LogisticRegression        0.4197\n",
              "MultinomialNB             0.3529\n",
              "RandomForestClassifier    0.1687\n",
              "Name: accuracy, dtype: float64"
            ]
          },
          "metadata": {},
          "execution_count": 40
        }
      ]
    },
    {
      "cell_type": "code",
      "source": [
        "cv_df"
      ],
      "metadata": {
        "colab": {
          "base_uri": "https://localhost:8080/",
          "height": 514
        },
        "id": "M8HaCXdIG9tY",
        "outputId": "a290835a-b1f6-4237-ebd8-7118bd6d5dd3"
      },
      "execution_count": 41,
      "outputs": [
        {
          "output_type": "execute_result",
          "data": {
            "text/plain": [
              "                model_name  fold_idx  accuracy\n",
              "0   RandomForestClassifier         0    0.1685\n",
              "1   RandomForestClassifier         1    0.1685\n",
              "2   RandomForestClassifier         2    0.1685\n",
              "3   RandomForestClassifier         3    0.1690\n",
              "4   RandomForestClassifier         4    0.1690\n",
              "5            MultinomialNB         0    0.3565\n",
              "6            MultinomialNB         1    0.3535\n",
              "7            MultinomialNB         2    0.3510\n",
              "8            MultinomialNB         3    0.3600\n",
              "9            MultinomialNB         4    0.3435\n",
              "10      LogisticRegression         0    0.4290\n",
              "11      LogisticRegression         1    0.4205\n",
              "12      LogisticRegression         2    0.4155\n",
              "13      LogisticRegression         3    0.4285\n",
              "14      LogisticRegression         4    0.4050"
            ],
            "text/html": [
              "\n",
              "  <div id=\"df-a896f41b-efbb-49c0-8afc-c062d603b10c\" class=\"colab-df-container\">\n",
              "    <div>\n",
              "<style scoped>\n",
              "    .dataframe tbody tr th:only-of-type {\n",
              "        vertical-align: middle;\n",
              "    }\n",
              "\n",
              "    .dataframe tbody tr th {\n",
              "        vertical-align: top;\n",
              "    }\n",
              "\n",
              "    .dataframe thead th {\n",
              "        text-align: right;\n",
              "    }\n",
              "</style>\n",
              "<table border=\"1\" class=\"dataframe\">\n",
              "  <thead>\n",
              "    <tr style=\"text-align: right;\">\n",
              "      <th></th>\n",
              "      <th>model_name</th>\n",
              "      <th>fold_idx</th>\n",
              "      <th>accuracy</th>\n",
              "    </tr>\n",
              "  </thead>\n",
              "  <tbody>\n",
              "    <tr>\n",
              "      <th>0</th>\n",
              "      <td>RandomForestClassifier</td>\n",
              "      <td>0</td>\n",
              "      <td>0.1685</td>\n",
              "    </tr>\n",
              "    <tr>\n",
              "      <th>1</th>\n",
              "      <td>RandomForestClassifier</td>\n",
              "      <td>1</td>\n",
              "      <td>0.1685</td>\n",
              "    </tr>\n",
              "    <tr>\n",
              "      <th>2</th>\n",
              "      <td>RandomForestClassifier</td>\n",
              "      <td>2</td>\n",
              "      <td>0.1685</td>\n",
              "    </tr>\n",
              "    <tr>\n",
              "      <th>3</th>\n",
              "      <td>RandomForestClassifier</td>\n",
              "      <td>3</td>\n",
              "      <td>0.1690</td>\n",
              "    </tr>\n",
              "    <tr>\n",
              "      <th>4</th>\n",
              "      <td>RandomForestClassifier</td>\n",
              "      <td>4</td>\n",
              "      <td>0.1690</td>\n",
              "    </tr>\n",
              "    <tr>\n",
              "      <th>5</th>\n",
              "      <td>MultinomialNB</td>\n",
              "      <td>0</td>\n",
              "      <td>0.3565</td>\n",
              "    </tr>\n",
              "    <tr>\n",
              "      <th>6</th>\n",
              "      <td>MultinomialNB</td>\n",
              "      <td>1</td>\n",
              "      <td>0.3535</td>\n",
              "    </tr>\n",
              "    <tr>\n",
              "      <th>7</th>\n",
              "      <td>MultinomialNB</td>\n",
              "      <td>2</td>\n",
              "      <td>0.3510</td>\n",
              "    </tr>\n",
              "    <tr>\n",
              "      <th>8</th>\n",
              "      <td>MultinomialNB</td>\n",
              "      <td>3</td>\n",
              "      <td>0.3600</td>\n",
              "    </tr>\n",
              "    <tr>\n",
              "      <th>9</th>\n",
              "      <td>MultinomialNB</td>\n",
              "      <td>4</td>\n",
              "      <td>0.3435</td>\n",
              "    </tr>\n",
              "    <tr>\n",
              "      <th>10</th>\n",
              "      <td>LogisticRegression</td>\n",
              "      <td>0</td>\n",
              "      <td>0.4290</td>\n",
              "    </tr>\n",
              "    <tr>\n",
              "      <th>11</th>\n",
              "      <td>LogisticRegression</td>\n",
              "      <td>1</td>\n",
              "      <td>0.4205</td>\n",
              "    </tr>\n",
              "    <tr>\n",
              "      <th>12</th>\n",
              "      <td>LogisticRegression</td>\n",
              "      <td>2</td>\n",
              "      <td>0.4155</td>\n",
              "    </tr>\n",
              "    <tr>\n",
              "      <th>13</th>\n",
              "      <td>LogisticRegression</td>\n",
              "      <td>3</td>\n",
              "      <td>0.4285</td>\n",
              "    </tr>\n",
              "    <tr>\n",
              "      <th>14</th>\n",
              "      <td>LogisticRegression</td>\n",
              "      <td>4</td>\n",
              "      <td>0.4050</td>\n",
              "    </tr>\n",
              "  </tbody>\n",
              "</table>\n",
              "</div>\n",
              "    <div class=\"colab-df-buttons\">\n",
              "\n",
              "  <div class=\"colab-df-container\">\n",
              "    <button class=\"colab-df-convert\" onclick=\"convertToInteractive('df-a896f41b-efbb-49c0-8afc-c062d603b10c')\"\n",
              "            title=\"Convert this dataframe to an interactive table.\"\n",
              "            style=\"display:none;\">\n",
              "\n",
              "  <svg xmlns=\"http://www.w3.org/2000/svg\" height=\"24px\" viewBox=\"0 -960 960 960\">\n",
              "    <path d=\"M120-120v-720h720v720H120Zm60-500h600v-160H180v160Zm220 220h160v-160H400v160Zm0 220h160v-160H400v160ZM180-400h160v-160H180v160Zm440 0h160v-160H620v160ZM180-180h160v-160H180v160Zm440 0h160v-160H620v160Z\"/>\n",
              "  </svg>\n",
              "    </button>\n",
              "\n",
              "  <style>\n",
              "    .colab-df-container {\n",
              "      display:flex;\n",
              "      gap: 12px;\n",
              "    }\n",
              "\n",
              "    .colab-df-convert {\n",
              "      background-color: #E8F0FE;\n",
              "      border: none;\n",
              "      border-radius: 50%;\n",
              "      cursor: pointer;\n",
              "      display: none;\n",
              "      fill: #1967D2;\n",
              "      height: 32px;\n",
              "      padding: 0 0 0 0;\n",
              "      width: 32px;\n",
              "    }\n",
              "\n",
              "    .colab-df-convert:hover {\n",
              "      background-color: #E2EBFA;\n",
              "      box-shadow: 0px 1px 2px rgba(60, 64, 67, 0.3), 0px 1px 3px 1px rgba(60, 64, 67, 0.15);\n",
              "      fill: #174EA6;\n",
              "    }\n",
              "\n",
              "    .colab-df-buttons div {\n",
              "      margin-bottom: 4px;\n",
              "    }\n",
              "\n",
              "    [theme=dark] .colab-df-convert {\n",
              "      background-color: #3B4455;\n",
              "      fill: #D2E3FC;\n",
              "    }\n",
              "\n",
              "    [theme=dark] .colab-df-convert:hover {\n",
              "      background-color: #434B5C;\n",
              "      box-shadow: 0px 1px 3px 1px rgba(0, 0, 0, 0.15);\n",
              "      filter: drop-shadow(0px 1px 2px rgba(0, 0, 0, 0.3));\n",
              "      fill: #FFFFFF;\n",
              "    }\n",
              "  </style>\n",
              "\n",
              "    <script>\n",
              "      const buttonEl =\n",
              "        document.querySelector('#df-a896f41b-efbb-49c0-8afc-c062d603b10c button.colab-df-convert');\n",
              "      buttonEl.style.display =\n",
              "        google.colab.kernel.accessAllowed ? 'block' : 'none';\n",
              "\n",
              "      async function convertToInteractive(key) {\n",
              "        const element = document.querySelector('#df-a896f41b-efbb-49c0-8afc-c062d603b10c');\n",
              "        const dataTable =\n",
              "          await google.colab.kernel.invokeFunction('convertToInteractive',\n",
              "                                                    [key], {});\n",
              "        if (!dataTable) return;\n",
              "\n",
              "        const docLinkHtml = 'Like what you see? Visit the ' +\n",
              "          '<a target=\"_blank\" href=https://colab.research.google.com/notebooks/data_table.ipynb>data table notebook</a>'\n",
              "          + ' to learn more about interactive tables.';\n",
              "        element.innerHTML = '';\n",
              "        dataTable['output_type'] = 'display_data';\n",
              "        await google.colab.output.renderOutput(dataTable, element);\n",
              "        const docLink = document.createElement('div');\n",
              "        docLink.innerHTML = docLinkHtml;\n",
              "        element.appendChild(docLink);\n",
              "      }\n",
              "    </script>\n",
              "  </div>\n",
              "\n",
              "\n",
              "<div id=\"df-3d6d215f-9041-44be-b2f7-1ef393c6b684\">\n",
              "  <button class=\"colab-df-quickchart\" onclick=\"quickchart('df-3d6d215f-9041-44be-b2f7-1ef393c6b684')\"\n",
              "            title=\"Suggest charts\"\n",
              "            style=\"display:none;\">\n",
              "\n",
              "<svg xmlns=\"http://www.w3.org/2000/svg\" height=\"24px\"viewBox=\"0 0 24 24\"\n",
              "     width=\"24px\">\n",
              "    <g>\n",
              "        <path d=\"M19 3H5c-1.1 0-2 .9-2 2v14c0 1.1.9 2 2 2h14c1.1 0 2-.9 2-2V5c0-1.1-.9-2-2-2zM9 17H7v-7h2v7zm4 0h-2V7h2v10zm4 0h-2v-4h2v4z\"/>\n",
              "    </g>\n",
              "</svg>\n",
              "  </button>\n",
              "\n",
              "<style>\n",
              "  .colab-df-quickchart {\n",
              "      --bg-color: #E8F0FE;\n",
              "      --fill-color: #1967D2;\n",
              "      --hover-bg-color: #E2EBFA;\n",
              "      --hover-fill-color: #174EA6;\n",
              "      --disabled-fill-color: #AAA;\n",
              "      --disabled-bg-color: #DDD;\n",
              "  }\n",
              "\n",
              "  [theme=dark] .colab-df-quickchart {\n",
              "      --bg-color: #3B4455;\n",
              "      --fill-color: #D2E3FC;\n",
              "      --hover-bg-color: #434B5C;\n",
              "      --hover-fill-color: #FFFFFF;\n",
              "      --disabled-bg-color: #3B4455;\n",
              "      --disabled-fill-color: #666;\n",
              "  }\n",
              "\n",
              "  .colab-df-quickchart {\n",
              "    background-color: var(--bg-color);\n",
              "    border: none;\n",
              "    border-radius: 50%;\n",
              "    cursor: pointer;\n",
              "    display: none;\n",
              "    fill: var(--fill-color);\n",
              "    height: 32px;\n",
              "    padding: 0;\n",
              "    width: 32px;\n",
              "  }\n",
              "\n",
              "  .colab-df-quickchart:hover {\n",
              "    background-color: var(--hover-bg-color);\n",
              "    box-shadow: 0 1px 2px rgba(60, 64, 67, 0.3), 0 1px 3px 1px rgba(60, 64, 67, 0.15);\n",
              "    fill: var(--button-hover-fill-color);\n",
              "  }\n",
              "\n",
              "  .colab-df-quickchart-complete:disabled,\n",
              "  .colab-df-quickchart-complete:disabled:hover {\n",
              "    background-color: var(--disabled-bg-color);\n",
              "    fill: var(--disabled-fill-color);\n",
              "    box-shadow: none;\n",
              "  }\n",
              "\n",
              "  .colab-df-spinner {\n",
              "    border: 2px solid var(--fill-color);\n",
              "    border-color: transparent;\n",
              "    border-bottom-color: var(--fill-color);\n",
              "    animation:\n",
              "      spin 1s steps(1) infinite;\n",
              "  }\n",
              "\n",
              "  @keyframes spin {\n",
              "    0% {\n",
              "      border-color: transparent;\n",
              "      border-bottom-color: var(--fill-color);\n",
              "      border-left-color: var(--fill-color);\n",
              "    }\n",
              "    20% {\n",
              "      border-color: transparent;\n",
              "      border-left-color: var(--fill-color);\n",
              "      border-top-color: var(--fill-color);\n",
              "    }\n",
              "    30% {\n",
              "      border-color: transparent;\n",
              "      border-left-color: var(--fill-color);\n",
              "      border-top-color: var(--fill-color);\n",
              "      border-right-color: var(--fill-color);\n",
              "    }\n",
              "    40% {\n",
              "      border-color: transparent;\n",
              "      border-right-color: var(--fill-color);\n",
              "      border-top-color: var(--fill-color);\n",
              "    }\n",
              "    60% {\n",
              "      border-color: transparent;\n",
              "      border-right-color: var(--fill-color);\n",
              "    }\n",
              "    80% {\n",
              "      border-color: transparent;\n",
              "      border-right-color: var(--fill-color);\n",
              "      border-bottom-color: var(--fill-color);\n",
              "    }\n",
              "    90% {\n",
              "      border-color: transparent;\n",
              "      border-bottom-color: var(--fill-color);\n",
              "    }\n",
              "  }\n",
              "</style>\n",
              "\n",
              "  <script>\n",
              "    async function quickchart(key) {\n",
              "      const quickchartButtonEl =\n",
              "        document.querySelector('#' + key + ' button');\n",
              "      quickchartButtonEl.disabled = true;  // To prevent multiple clicks.\n",
              "      quickchartButtonEl.classList.add('colab-df-spinner');\n",
              "      try {\n",
              "        const charts = await google.colab.kernel.invokeFunction(\n",
              "            'suggestCharts', [key], {});\n",
              "      } catch (error) {\n",
              "        console.error('Error during call to suggestCharts:', error);\n",
              "      }\n",
              "      quickchartButtonEl.classList.remove('colab-df-spinner');\n",
              "      quickchartButtonEl.classList.add('colab-df-quickchart-complete');\n",
              "    }\n",
              "    (() => {\n",
              "      let quickchartButtonEl =\n",
              "        document.querySelector('#df-3d6d215f-9041-44be-b2f7-1ef393c6b684 button');\n",
              "      quickchartButtonEl.style.display =\n",
              "        google.colab.kernel.accessAllowed ? 'block' : 'none';\n",
              "    })();\n",
              "  </script>\n",
              "</div>\n",
              "    </div>\n",
              "  </div>\n"
            ],
            "application/vnd.google.colaboratory.intrinsic+json": {
              "type": "dataframe",
              "variable_name": "cv_df",
              "summary": "{\n  \"name\": \"cv_df\",\n  \"rows\": 15,\n  \"fields\": [\n    {\n      \"column\": \"model_name\",\n      \"properties\": {\n        \"dtype\": \"category\",\n        \"num_unique_values\": 3,\n        \"samples\": [\n          \"RandomForestClassifier\",\n          \"MultinomialNB\",\n          \"LogisticRegression\"\n        ],\n        \"semantic_type\": \"\",\n        \"description\": \"\"\n      }\n    },\n    {\n      \"column\": \"fold_idx\",\n      \"properties\": {\n        \"dtype\": \"number\",\n        \"std\": 1,\n        \"min\": 0,\n        \"max\": 4,\n        \"num_unique_values\": 5,\n        \"samples\": [\n          1,\n          4,\n          2\n        ],\n        \"semantic_type\": \"\",\n        \"description\": \"\"\n      }\n    },\n    {\n      \"column\": \"accuracy\",\n      \"properties\": {\n        \"dtype\": \"number\",\n        \"std\": 0.11004623487209278,\n        \"min\": 0.1685,\n        \"max\": 0.429,\n        \"num_unique_values\": 12,\n        \"samples\": [\n          0.4285,\n          0.4155,\n          0.1685\n        ],\n        \"semantic_type\": \"\",\n        \"description\": \"\"\n      }\n    }\n  ]\n}"
            }
          },
          "metadata": {},
          "execution_count": 41
        }
      ]
    },
    {
      "cell_type": "code",
      "source": [
        "from sklearn.model_selection import train_test_split\n",
        "\n",
        "X_train, X_dev, y_train, y_dev, indices_train, indices_dev = train_test_split(features, labels, df_train.index, test_size=0.33, random_state=0)\n",
        "\n",
        "model = LogisticRegression(random_state=0)\n",
        "model.fit(X_train, y_train)\n",
        "\n",
        "y_pred_proba = model.predict_proba(X_test)\n",
        "y_pred = model.predict(X_test)"
      ],
      "metadata": {
        "colab": {
          "base_uri": "https://localhost:8080/"
        },
        "id": "B7kcFZx5HCx7",
        "outputId": "3dd6c507-cb04-46b0-e6f2-b8a9809aee8f"
      },
      "execution_count": 52,
      "outputs": [
        {
          "output_type": "stream",
          "name": "stderr",
          "text": [
            "/usr/local/lib/python3.10/dist-packages/sklearn/linear_model/_logistic.py:458: ConvergenceWarning: lbfgs failed to converge (status=1):\n",
            "STOP: TOTAL NO. of ITERATIONS REACHED LIMIT.\n",
            "\n",
            "Increase the number of iterations (max_iter) or scale the data as shown in:\n",
            "    https://scikit-learn.org/stable/modules/preprocessing.html\n",
            "Please also refer to the documentation for alternative solver options:\n",
            "    https://scikit-learn.org/stable/modules/linear_model.html#logistic-regression\n",
            "  n_iter_i = _check_optimize_result(\n"
          ]
        }
      ]
    },
    {
      "cell_type": "code",
      "source": [
        "from IPython.display import display\n",
        "\n",
        "for predicted in category_id_df.category_id:\n",
        "  for actual in category_id_df.category_id:\n",
        "    if predicted != actual and conf_mat[actual, predicted] >= 2:\n",
        "      print(\"'{}' predicted as '{}' : {} examples.\".format(id_to_category[actual], id_to_category[predicted], conf_mat[actual, predicted]))\n",
        "      display(df_train.loc[indices_test[(y_test == actual) & (y_pred == predicted)]]['headline'])\n",
        "      print('')"
      ],
      "metadata": {
        "colab": {
          "base_uri": "https://localhost:8080/",
          "height": 1000
        },
        "id": "nPysvrHPHHDA",
        "outputId": "9b15fd06-2a8e-4fd3-99dc-14a40362c316"
      },
      "execution_count": 54,
      "outputs": [
        {
          "output_type": "stream",
          "name": "stdout",
          "text": [
            "'POLITICS' predicted as 'WELLNESS' : 15 examples.\n"
          ]
        },
        {
          "output_type": "display_data",
          "data": {
            "text/plain": [
              "9862     Happy Birthday FLOTUS! Here's Why You're Awesome\n",
              "7857    We're This Close To Getting A Permanent Health...\n",
              "9964                         Igniting Change that Matters\n",
              "1533    If Fourth-Year Presidents Shouldn't Do Things,...\n",
              "3034    Sheriff In Heart Of Ohio's Opioid Epidemic Ref...\n",
              "4258    Socialism, Intersectionality And The Myth Of T...\n",
              "4197    A Handy Dandy Guide To The Ethics And Etiquett...\n",
              "6978    Schism and Lack of Leadership in Washington Be...\n",
              "4516    Financing the Flames -- NIF Parade Fracas Push...\n",
              "9432    What Happens To My Mother If Graham-Cassidy Pa...\n",
              "4265    HUFFPOLLSTER: What You Need To Know About Brex...\n",
              "4805    People Of Color Bear The Brunt Of Fast-Food Ex...\n",
              "3519    Why Hogan Is Better for Blue Maryland Than Bro...\n",
              "7042                                A Path Out Of Trouble\n",
              "8027            It's Here: CBPP's Top Graphs Of The Year!\n",
              "Name: headline, dtype: object"
            ]
          },
          "metadata": {}
        },
        {
          "output_type": "stream",
          "name": "stdout",
          "text": [
            "\n",
            "'PARENTS' predicted as 'WELLNESS' : 5 examples.\n"
          ]
        },
        {
          "output_type": "display_data",
          "data": {
            "text/plain": [
              "3749    Netflix Is Tricking Kids Into Going To Sleep E...\n",
              "4668    How to Be a Good Father: Lessons for Father's Day\n",
              "3188       Why We Switched Hospitals Mid-Cancer Treatment\n",
              "6479                          The Grounds Behind Her Eyes\n",
              "8625    Frustrated Dad Shows The Complexity Of Common ...\n",
              "Name: headline, dtype: object"
            ]
          },
          "metadata": {}
        },
        {
          "output_type": "stream",
          "name": "stdout",
          "text": [
            "\n",
            "'BUSINESS' predicted as 'WELLNESS' : 18 examples.\n"
          ]
        },
        {
          "output_type": "display_data",
          "data": {
            "text/plain": [
              "3977    Organization Matters: Organize Your Life and Y...\n",
              "3689                   Rethinking Values in the Workplace\n",
              "6101    Listen to Your Brain to Sense a Market Correction\n",
              "5326    Here's How Subway Plans To Prove Its Footlongs...\n",
              "8445             3 Ways You Can Be a More Positive Leader\n",
              "8425                   25 European Banks Fail Stress Test\n",
              "9051                   The Aha Behind Leading Aha Moments\n",
              "9064    The 3 Least Intimidating Yet Effective Ways to...\n",
              "7005    Is Job Hunting During the Holidays a Waste of ...\n",
              "8763    A Life-Changing, True Story Reveals the Secret...\n",
              "5983                             Ringing in Good Behavior\n",
              "8101    4 Things Your Dog Can Teach You About Customer...\n",
              "9734            Five Lessons of Being a Multi-Millionaire\n",
              "7134            6 Tips for Indian Managers New to America\n",
              "7680    7 Steps to Stay Financially Fit in 2015 and Be...\n",
              "6228    Eastern Wisdom Is Changing Western Corporate P...\n",
              "3498                The Downside To Workplace Flexibility\n",
              "217                      Coke Has To Put On The Red Light\n",
              "Name: headline, dtype: object"
            ]
          },
          "metadata": {}
        },
        {
          "output_type": "stream",
          "name": "stdout",
          "text": [
            "\n",
            "'WORLDPOST' predicted as 'WELLNESS' : 4 examples.\n"
          ]
        },
        {
          "output_type": "display_data",
          "data": {
            "text/plain": [
              "7982    Officials: Afghan Taliban Ready For Open Peace...\n",
              "3261    What's Behind the Brain Drain in the Former So...\n",
              "866                  \"When I Grow Up, I Want to be Cuban\"\n",
              "1168    How to Achieve Israel's Stated Goal of Long-Te...\n",
              "Name: headline, dtype: object"
            ]
          },
          "metadata": {}
        },
        {
          "output_type": "stream",
          "name": "stdout",
          "text": [
            "\n",
            "'HOME & LIVING' predicted as 'WELLNESS' : 8 examples.\n"
          ]
        },
        {
          "output_type": "display_data",
          "data": {
            "text/plain": [
              "1201            The Best Basics: Good, Cheap Duvet Covers\n",
              "915     Halloween Decorations: Surreal Magnifying Glas...\n",
              "9391    Buying And Appraising Silver: An Expert Shares...\n",
              "5579           Eye-Catching Colors For Your Kitchen Floor\n",
              "1852           Getting Your Outdoor Area Ready for Spring\n",
              "9833             Magazine Storage...Using A Juice Carton!\n",
              "7417    How Mowing The Lawn Can Boost Your Mood, Help ...\n",
              "2065        Six Expert Tricks For Decorating Small Spaces\n",
              "Name: headline, dtype: object"
            ]
          },
          "metadata": {}
        },
        {
          "output_type": "stream",
          "name": "stdout",
          "text": [
            "\n",
            "'HEALTHY LIVING' predicted as 'WELLNESS' : 63 examples.\n"
          ]
        },
        {
          "output_type": "display_data",
          "data": {
            "text/plain": [
              "6759    Whole Foods Recalls Maytag Blue Cheese Due To ...\n",
              "9715    There Could Be A Link Between This Yeast Infec...\n",
              "377          The 6 Golden Rules Of A Healthy Grocery Cart\n",
              "6488                              Less Fear, More Courage\n",
              "9            5 Things To Spring Clean Besides Your Closet\n",
              "                              ...                        \n",
              "9165    Healthy Living Comics: Today, Time for Your An...\n",
              "7442               How to Know When to Try Something Else\n",
              "6676                                The Flip Side Of Fear\n",
              "552     Here's How to Splurge on Thanksgiving Without ...\n",
              "6938           So Your Diet Crashed and Burned. Now What?\n",
              "Name: headline, Length: 63, dtype: object"
            ]
          },
          "metadata": {}
        },
        {
          "output_type": "stream",
          "name": "stdout",
          "text": [
            "\n",
            "'CRIME' predicted as 'WELLNESS' : 6 examples.\n"
          ]
        },
        {
          "output_type": "display_data",
          "data": {
            "text/plain": [
              "2021    Search For Missing 5-Year-Old Leads To Body In...\n",
              "9952    DJ Played Snorting 'Peppa Pig' Theme To Cops; ...\n",
              "8426    Bagged Heart Mysteriously Appears In Ohio Fiel...\n",
              "9392    Kyron Horman Missing: Volunteers Search For Or...\n",
              "8324          Woman Beats Cancer, Dies Falling From Horse\n",
              "2761    'Goodfellas' Trial Shows How Good Luck Cracked...\n",
              "Name: headline, dtype: object"
            ]
          },
          "metadata": {}
        },
        {
          "output_type": "stream",
          "name": "stdout",
          "text": [
            "\n",
            "'QUEER VOICES' predicted as 'WELLNESS' : 17 examples.\n"
          ]
        },
        {
          "output_type": "display_data",
          "data": {
            "text/plain": [
              "4676                I Did It: Lunch With a Total Stranger\n",
              "7457    Here's How Skipping One Meal Could Help Preven...\n",
              "4254    A Day In The Life After You've Been Kicked Out...\n",
              "994     No, I Don't Have a Dick Pic, and Here's Why My...\n",
              "3456    UN Brings Ambassadors From 17 Nations To Broad...\n",
              "1070    Video Captures That Horrible Feeling Of Waitin...\n",
              "5855                   Treading Water In A Sea Of Anxiety\n",
              "1928                                      The Living Room\n",
              "8229    The Word \"Cisgender\": An Unlikely Semantic Rev...\n",
              "8576    Life on the Funny Side: A Conversation With Ed...\n",
              "1941    Challenging Dual Stereotypes: The Reality for ...\n",
              "7894    How Larry Kramer's Normal Heart Thunders With ...\n",
              "1022    World Health Organization Recommends PrEP: Pre...\n",
              "5519    Madonna's 'Rebel Heart' Still Beats For Detroi...\n",
              "3025           The Gender Identity Terms You Need To Know\n",
              "8264          Making United in Anger: A History of ACT UP\n",
              "9188        5 Lessons From the Normal Heart of Matt Bomer\n",
              "Name: headline, dtype: object"
            ]
          },
          "metadata": {}
        },
        {
          "output_type": "stream",
          "name": "stdout",
          "text": [
            "\n",
            "'SPORTS' predicted as 'WELLNESS' : 8 examples.\n"
          ]
        },
        {
          "output_type": "display_data",
          "data": {
            "text/plain": [
              "4700                 SEC Sweeps NCAA Track & Field Titles\n",
              "2543             Leveling the Playing Field, Without Fear\n",
              "9275    This Is How The Human Face Reacts To Getting H...\n",
              "1159    Cheating in Athletics: The Real Cost of (a Lac...\n",
              "445     Weeping Federer Hails Emotional 20th Grand Sla...\n",
              "7027    Yankees Affiliate: Timing Of Blue Lives Matter...\n",
              "3160    Divisional Round Point Spreads: Patriots, Nine...\n",
              "828     Beijing, Brazil, 7-1: Awareness Shift in Socce...\n",
              "Name: headline, dtype: object"
            ]
          },
          "metadata": {}
        },
        {
          "output_type": "stream",
          "name": "stdout",
          "text": [
            "\n",
            "'STYLE & BEAUTY' predicted as 'WELLNESS' : 16 examples.\n"
          ]
        },
        {
          "output_type": "display_data",
          "data": {
            "text/plain": [
              "3646     Brooklyn Decker On Why She 'Wasn't A Good Model'\n",
              "9345    Goal Get It: The Coolest Products and Tips to ...\n",
              "4546     6 Ways To Take The Stress Out Of Online Shopping\n",
              "692                     New Year's Eve: Smaller Is Better\n",
              "5352    Bridal Gown Designer Sareh Nouri on Her Love o...\n",
              "7455                 Style Pet Peeve: Bare Legs In Winter\n",
              "9232    Sex: What He Really Wants (and Is Afraid to As...\n",
              "519     Arianna Huffington On Her Skincare Regimen: 'I...\n",
              "8710    The Unexpected Trending Nail Color That's Sure...\n",
              "9696    Who To Follow On Pinterest: Anna Wintour, Pete...\n",
              "1425    8 Ways Your Clothes Could Be Dangerous To Your...\n",
              "9375    The Good Wives: Best-Dressed Political Wives i...\n",
              "787                       9 Super Sweet Facts About Honey\n",
              "3348    Why You Definitely Shouldn't Wear Makeup To Th...\n",
              "5743                              A Color Palette Emerges\n",
              "1122         Drugstore Beauty Products For Us Brown Girls\n",
              "Name: headline, dtype: object"
            ]
          },
          "metadata": {}
        },
        {
          "output_type": "stream",
          "name": "stdout",
          "text": [
            "\n",
            "'WEDDINGS' predicted as 'WELLNESS' : 6 examples.\n"
          ]
        },
        {
          "output_type": "display_data",
          "data": {
            "text/plain": [
              "8204                      Real Love Is Only What You Give\n",
              "2031    19 Ways To Highlight Your Engagement Ring With...\n",
              "9910                   Barbie Dream Weddings Come to Life\n",
              "2984                  5 Ways To Avoid Honeymoon Heartache\n",
              "263                                            Resolution\n",
              "2819    Should You Follow Your Nose -- Not Your Heart ...\n",
              "Name: headline, dtype: object"
            ]
          },
          "metadata": {}
        },
        {
          "output_type": "stream",
          "name": "stdout",
          "text": [
            "\n",
            "'IMPACT' predicted as 'WELLNESS' : 10 examples.\n"
          ]
        },
        {
          "output_type": "display_data",
          "data": {
            "text/plain": [
              "2936                              Nepal: A Call to Action\n",
              "9026    It’s Mildly Infectious And Treatable—Yet Patie...\n",
              "8838         Renewables Driving the Energy Transformation\n",
              "8070    This Project Is Committed To Reducing Food Was...\n",
              "6394    Hunger Is Everywhere: Perspectives From a 30-H...\n",
              "3043    Boston Marathon Survivor Donates Prosthetic To...\n",
              "4126                 We Should Change The Meaning of PTSD\n",
              "9602    The Secret of the Avatar Can Deepen Your Partn...\n",
              "6082    Machines Don't Always Steal Our Jobs. Increasi...\n",
              "9652           Four Women, One Life-Changing Intervention\n",
              "Name: headline, dtype: object"
            ]
          },
          "metadata": {}
        },
        {
          "output_type": "stream",
          "name": "stdout",
          "text": [
            "\n",
            "'FOOD & DRINK' predicted as 'WELLNESS' : 41 examples.\n"
          ]
        },
        {
          "output_type": "display_data",
          "data": {
            "text/plain": [
              "5350      8 Foods That Could Be Putting You In A Bad Mood\n",
              "3725    Food Tattoos: A Few Of Our Favorites, From Pig...\n",
              "6450    A Chef Gets Honest About Turkey Tips -- And Br...\n",
              "5228                            Spring Saturday Cocktails\n",
              "8046                              10 Game-Changing Snacks\n",
              "9802    The Magic That Molecular Gastronomists Don't D...\n",
              "2113    Simple Weeknight Meal: Pot Roasted Pork Loin W...\n",
              "6552              Eat Your Way Out Of The Winter Doldrums\n",
              "2476                               A Better Shade of Kale\n",
              "9172     Tim's Place, Albuquerque: Good Food, Good People\n",
              "4687    Blue Ice Vodka's Certification As 'Gluten Free...\n",
              "2578                For Love Of the 'Que: Competitive BBQ\n",
              "1718    6 Ways to Drink Like Don Draper for the Mad Me...\n",
              "1529    The End of an Affair: Why I Broke Up With My F...\n",
              "2847    Whole Foods Didn't Have Much Choice on GMO Lab...\n",
              "5885                         A Dessert Worthy of the Gods\n",
              "8463                    Passover Rolls: Unleavened Treats\n",
              "4719              10 Biggest Fast Food Chains In The U.S.\n",
              "3435    11 Unreal Foods You Can Get At MLB Ballparks, ...\n",
              "2141                          The Sidecar Cocktail 5 Ways\n",
              "4111                    How to Make Roti Jala/Net Pancake\n",
              "4727    Five Ways To Satisfy A Sweet Tooth In Under 15...\n",
              "2740                              Top 3 Superfluous Foods\n",
              "8833    What the Hell Is Persian Food? Here Are the Di...\n",
              "1127    16 Messy Foods That Will Make You Look Like A ...\n",
              "6436    Pan-Fried Zucchini Flowers With Ricotta and Ga...\n",
              "8614    QR Code Sushi Celebrates Moshi Moshi's Partner...\n",
              "5591    The Top 10 Most Popular Pizza Toppings (INFOGR...\n",
              "212                 Coquilles St. Jacques à la Provençale\n",
              "8371                           Chefs We Love: Julia Child\n",
              "3980    9 Times Fast Food Butchered The Meaning Of Art...\n",
              "7830    We Tasted The New Fruit Punch Oreos, So You Do...\n",
              "3172    The Difference Between Snickerdoodles And Suga...\n",
              "1045    Nicotine In Vegetables: 20 Pounds Of Eggplant ...\n",
              "1182             Three Great Bars East of the Mississippi\n",
              "8271    6 Things You Need to Know About Bratwurst! Plu...\n",
              "4474                               The Power of Packaging\n",
              "8508          The 'Mistake' That Leads to Better Brownies\n",
              "1543    From Cocktails to Dessert: A Simple And Elegan...\n",
              "70                         11 Food Pick-Up Lines To Avoid\n",
              "4799    Onion Crying 'Cures', From Gum-Chewing To Gogg...\n",
              "Name: headline, dtype: object"
            ]
          },
          "metadata": {}
        },
        {
          "output_type": "stream",
          "name": "stdout",
          "text": [
            "\n",
            "'COMEDY' predicted as 'WELLNESS' : 10 examples.\n"
          ]
        },
        {
          "output_type": "display_data",
          "data": {
            "text/plain": [
              "9083    Warning: Population of Content Marketing Exper...\n",
              "2097    'Honest' Juice Cleanse Ad Will Eat Away At You...\n",
              "2539    Dog Fails Training Lesson In The Best Way (VIDEO)\n",
              "8136    A Pragmatic Response to 'A Field Guide to' Idi...\n",
              "9509    These Music Videos Are The Only Thing Alex Jon...\n",
              "2994    'To The People Saying I'm A Robot Who Can't Lo...\n",
              "6165    The Pathetic Tinder Profile of a Desperate 30-...\n",
              "1252                 Study Finds Conservatives Are Morons\n",
              "8610    10 Signs You're Probably Reading This Article ...\n",
              "6069                                Difference of Opinion\n",
              "Name: headline, dtype: object"
            ]
          },
          "metadata": {}
        },
        {
          "output_type": "stream",
          "name": "stdout",
          "text": [
            "\n",
            "'PARENTING' predicted as 'WELLNESS' : 40 examples.\n"
          ]
        },
        {
          "output_type": "display_data",
          "data": {
            "text/plain": [
              "4346    6 Ways You Can Have a Meaningful Holiday, No M...\n",
              "8940    3-Year-Old Sings And Dances Her Heart Out To C...\n",
              "3683        The 5 WORST Things About Going Back to School\n",
              "5868       Healthy, Budget-Friendly Menu Options for Kids\n",
              "9517        How to Put a Toddler to Bed in 100 Easy Steps\n",
              "1654    How to Cope When You Don't Fit into Pre-Pregna...\n",
              "8412    How Becoming A Mother Changed My Mind About My...\n",
              "8213    What Is Reading? It's About Time We Figured It...\n",
              "704     Why Elisabeth Badinter Is Wrong, And Motherhoo...\n",
              "572                     Questions Every Parent Should Ask\n",
              "1669    Do Vaccines Cause Autism? CDC Finds No Link Be...\n",
              "23         10 Tech Etiquette Lessons For Teens And Tweens\n",
              "2060                     Building Better Digital Citizens\n",
              "5470     Is It Wrong to Market Even Healthy Food to Kids?\n",
              "5690    7 Steps to Raising Stellar, Successful, Self-S...\n",
              "9626       Science for the Summer! Part Two: Explorations\n",
              "1585                        Donna's Cancer Story: The End\n",
              "5372    Breasts: Everything You Ever Wanted To Know Bu...\n",
              "2633    What I Know About Fatherhood After Losing My S...\n",
              "2263                                    I Am Not Diabetes\n",
              "9457    4 Steps To Remember When You Know Something Is...\n",
              "3959    Autism Linked To Fever And Flu During Pregnanc...\n",
              "4086    Treating ADHD In Preschoolers: Most Doctors Do...\n",
              "6577    Reasons a Space Heater Can Cause a Fire, & Saf...\n",
              "6199                       Keeping Loved Ones On The Grid\n",
              "6261                         A Happy (Sort of) Bully Tale\n",
              "4917                                         The Deep End\n",
              "5895    Bigger Baby Trend Worries Doctors As Health Co...\n",
              "3639    Cyberbullies Don't Take Holidays Off: Words Wound\n",
              "2563          My Love-Hate Relationship With Mother's Day\n",
              "6044    It's Time to Do Something Grand: A Call to Act...\n",
              "3847              Learning Routines and Routines to Learn\n",
              "539                             It Could Have Been My Boy\n",
              "1972                       Waiting One More Day (on DOMA)\n",
              "6290    Postpartum Depression Risk: Stress Hormone Cou...\n",
              "5242         New Study Sheds Light On Effects Of Bullying\n",
              "2793    Midwifery Benefits? Improved Outcomes For Moms...\n",
              "8312    Screening Children For Mental Illness: Experts...\n",
              "8554    After Lyme Disease, Glennon Melton Learned To ...\n",
              "474     Kids' Lack Of Exercise, More Than Lying Around...\n",
              "Name: headline, dtype: object"
            ]
          },
          "metadata": {}
        },
        {
          "output_type": "stream",
          "name": "stdout",
          "text": [
            "\n",
            "'ENTERTAINMENT' predicted as 'WELLNESS' : 19 examples.\n"
          ]
        },
        {
          "output_type": "display_data",
          "data": {
            "text/plain": [
              "9946    Emilia Clarke Should Never Try To Imitate Chew...\n",
              "671           FX's Television Show Legit Salutes Veterans\n",
              "4665    Jean-Claude Van Damme Explains Why His Ball-Pu...\n",
              "9250    Listen To Nirvana's Previously Unreleased Demo...\n",
              "4866                               This May On 'Dr. Phil'\n",
              "8585                            Lucas Hedges In Real Life\n",
              "8588    Bill Murray Is Now A Ticket-Taker At Baseball ...\n",
              "2782                Into the Woods Gets Lost in the Woods\n",
              "9951    'Gilmore Girls' Creator Thinks We're All Way T...\n",
              "1774    Is 'Homecoming' Worthy Of Being Your Latest St...\n",
              "2528                   'Do You Want To Build A Meth Lab?'\n",
              "543     Sir Ian McKellen's Dramatic Reading Of 'Bad Bl...\n",
              "637     Dan Harmon Talks \"Harmontown\" and Dungeons & D...\n",
              "7036    Vampire Weekend's Ezra Koenig Endorses Selfies...\n",
              "3619    Divorced Mom Opens Up About Coping With Loneli...\n",
              "311     Jennifer Lawrence's Cher Impression Will Make ...\n",
              "7501    Director Tiana Alexandra-Silliphant Wants To M...\n",
              "7375    You Won't Be Able To Tell The Difference Betwe...\n",
              "6114    Axl Rose Has Something To Say About That Vocal...\n",
              "Name: headline, dtype: object"
            ]
          },
          "metadata": {}
        },
        {
          "output_type": "stream",
          "name": "stdout",
          "text": [
            "\n",
            "'ENVIRONMENT' predicted as 'WELLNESS' : 5 examples.\n"
          ]
        },
        {
          "output_type": "display_data",
          "data": {
            "text/plain": [
              "5141    Scientific Spill Studies, Funded by BP, Start ...\n",
              "7346    If You Thought Getting Old Sucks, Try Having A...\n",
              "2530    The Media Blunder of the Month -- Energy Indep...\n",
              "9871    More Toxic Chemicals Damaging Children's Brain...\n",
              "685     Spring Outlook: Six More Weeks Of Winter To Gr...\n",
              "Name: headline, dtype: object"
            ]
          },
          "metadata": {}
        },
        {
          "output_type": "stream",
          "name": "stdout",
          "text": [
            "\n",
            "'WORLD NEWS' predicted as 'WELLNESS' : 6 examples.\n"
          ]
        },
        {
          "output_type": "display_data",
          "data": {
            "text/plain": [
              "8845    Marine Le Pen's Father Suggests She's 'Outlive...\n",
              "3894    3 Missing After U.S. Navy Transporter Crashes ...\n",
              "6501    Pfizer COVID-19 Vaccine Reduces Transmission A...\n",
              "7380         Besieged Syrians Are Eating Trash To Survive\n",
              "5040    China Reports 17 New Cases Of Deadly SARS-Like...\n",
              "9713     Macron Tells May Door Remains Open To Stay In EU\n",
              "Name: headline, dtype: object"
            ]
          },
          "metadata": {}
        },
        {
          "output_type": "stream",
          "name": "stdout",
          "text": [
            "\n",
            "'COLLEGE' predicted as 'WELLNESS' : 4 examples.\n"
          ]
        },
        {
          "output_type": "display_data",
          "data": {
            "text/plain": [
              "36                       Freedom With a Twist of Maturity\n",
              "4959    'Till It Happens To You' A Capella Covers Are ...\n",
              "3373    Colleges Are Finding Ways To Increase Diversit...\n",
              "2570                           Mind the 'Expectation' Gap\n",
              "Name: headline, dtype: object"
            ]
          },
          "metadata": {}
        },
        {
          "output_type": "stream",
          "name": "stdout",
          "text": [
            "\n",
            "'TECH' predicted as 'WELLNESS' : 6 examples.\n"
          ]
        },
        {
          "output_type": "display_data",
          "data": {
            "text/plain": [
              "1121                    It's Not Easy To Be Jenna Marbles\n",
              "9436                       A Little Apple Goes A Long Way\n",
              "9253    Internet Back On In Damascus, Homs After Days ...\n",
              "633                                 Is This The iPhone 7?\n",
              "1525      Technical Literacy: Can Everyone Learn to Code?\n",
              "6630             China's Hunger For iPhones Keeps Growing\n",
              "Name: headline, dtype: object"
            ]
          },
          "metadata": {}
        },
        {
          "output_type": "stream",
          "name": "stdout",
          "text": [
            "\n",
            "'RELIGION' predicted as 'WELLNESS' : 5 examples.\n"
          ]
        },
        {
          "output_type": "display_data",
          "data": {
            "text/plain": [
              "8300                       Daily Meditation: Thanksgiving\n",
              "1003    Oliver Sacks, Acclaimed Author And Neurologist...\n",
              "7466    What’s A Practicing Catholic With Celiac Disea...\n",
              "3826               Soundscapes and Our Sense of Belonging\n",
              "9408              Daily Meditation: Take A Chance On Love\n",
              "Name: headline, dtype: object"
            ]
          },
          "metadata": {}
        },
        {
          "output_type": "stream",
          "name": "stdout",
          "text": [
            "\n",
            "'DIVORCE' predicted as 'WELLNESS' : 7 examples.\n"
          ]
        },
        {
          "output_type": "display_data",
          "data": {
            "text/plain": [
              "9368     5 Tips On How To Fall In Love On Valentine's Day\n",
              "3636    I Was Never In Love With You — The Good Men Pr...\n",
              "7084    Cheating Study Reveals People Change Their Voi...\n",
              "7917                     Summers of Hate, Seasons of Love\n",
              "7873          How Common Is Cheating & Infidelity Really?\n",
              "8335               Infidelity: 10 Cheating Myths Debunked\n",
              "4726    Arnold Schwarzenegger, Maria Shriver Getting B...\n",
              "Name: headline, dtype: object"
            ]
          },
          "metadata": {}
        },
        {
          "output_type": "stream",
          "name": "stdout",
          "text": [
            "\n",
            "'THE WORLDPOST' predicted as 'WELLNESS' : 3 examples.\n"
          ]
        },
        {
          "output_type": "display_data",
          "data": {
            "text/plain": [
              "7480    Up To 50,000 Cases Of Cholera Expected In Soma...\n",
              "4773    How The 20 Jews Left In Kolkata Are Using Food...\n",
              "7351    Ancient Cities Discovered Beneath Jungle Surro...\n",
              "Name: headline, dtype: object"
            ]
          },
          "metadata": {}
        },
        {
          "output_type": "stream",
          "name": "stdout",
          "text": [
            "\n",
            "'WOMEN' predicted as 'WELLNESS' : 15 examples.\n"
          ]
        },
        {
          "output_type": "display_data",
          "data": {
            "text/plain": [
              "898        There Is Still Work Ahead For Workplace Equity\n",
              "4747    Lisa Frank Is Now Fighting The Patriarchy (Wit...\n",
              "1085                                       Fearless Women\n",
              "3932    How To Preserve The Male Ego And Prevent World...\n",
              "3079    I'm A Bad Feminist, But Not Because I Don't Li...\n",
              "7722    Why You're Unhappy at Work -- And 4 Ways to Fi...\n",
              "224                    Actually, Feminism Is A Dirty Word\n",
              "7046                            The Body Always Remembers\n",
              "627                        7 Pearls of Wisdom From Thrive\n",
              "1570                               An Unexpected Heirloom\n",
              "8327    7 Things That Will Happen When You're Home For...\n",
              "7829                            5 Life Lessons From Adele\n",
              "7931    For Laura Benanti, Being A 'Feminist With A Ca...\n",
              "914     What You Can Learn From (Yes) Duggar Family Da...\n",
              "2328    A Meaningful Video For All Of Us Who Do. Not. ...\n",
              "Name: headline, dtype: object"
            ]
          },
          "metadata": {}
        },
        {
          "output_type": "stream",
          "name": "stdout",
          "text": [
            "\n",
            "'MONEY' predicted as 'WELLNESS' : 3 examples.\n"
          ]
        },
        {
          "output_type": "display_data",
          "data": {
            "text/plain": [
              "2267    The Increasing Costs of Having a Bad Credit Score\n",
              "3908    Every Baby Born Today Owes More Than $13,000 I...\n",
              "8624    Love + Family = Economic Progress: A 7 Step Pl...\n",
              "Name: headline, dtype: object"
            ]
          },
          "metadata": {}
        },
        {
          "output_type": "stream",
          "name": "stdout",
          "text": [
            "\n",
            "'ARTS & CULTURE' predicted as 'WELLNESS' : 3 examples.\n"
          ]
        },
        {
          "output_type": "display_data",
          "data": {
            "text/plain": [
              "134     LOOK: Amazing Images Recreated... Using Bacteria!\n",
              "3523          Let's Eat Grandma Is Your Teenage Nightmare\n",
              "4824    This Hallucinatory 1970s Sculpture Garden Brin...\n",
              "Name: headline, dtype: object"
            ]
          },
          "metadata": {}
        },
        {
          "output_type": "stream",
          "name": "stdout",
          "text": [
            "\n",
            "'BLACK VOICES' predicted as 'WELLNESS' : 9 examples.\n"
          ]
        },
        {
          "output_type": "display_data",
          "data": {
            "text/plain": [
              "713     Chaka Khan Collaborates With Terri Lyne Carrin...\n",
              "6667    #MyBlackLifeMattersBecause Spreads Powerful Me...\n",
              "2049    Tiffany Haddish Is Happy To Host The Oscars --...\n",
              "2453    Aretha Franklin To Sue Over Unauthorized Biogr...\n",
              "7145    8 Things My Grandmother Taught Me Before She Died\n",
              "9572    Finance Guru 'Tiff The Budgetnista' Shares Tip...\n",
              "7593    HIV Among Black Women 5 Times Higher Than Prev...\n",
              "4589                          Why Vonderrit Myers Matters\n",
              "1284    Jay-Z Calls Pain That Inspired '4:44' And Beyo...\n",
              "Name: headline, dtype: object"
            ]
          },
          "metadata": {}
        },
        {
          "output_type": "stream",
          "name": "stdout",
          "text": [
            "\n",
            "'TRAVEL' predicted as 'WELLNESS' : 21 examples.\n"
          ]
        },
        {
          "output_type": "display_data",
          "data": {
            "text/plain": [
              "5473       Things To Know About Rifugios In The Dolomites\n",
              "159     Wooly Beasts and Meat Jelly: Hungary's Spring ...\n",
              "4214     Finding Hidden Gems in California: Half Moon Bay\n",
              "1872                    OTP's Guide to Street Art: Poland\n",
              "1270                       7 Ways To Prevent Lost Luggage\n",
              "5341    3 Free Ways to Get Your Pop Culture Fix in London\n",
              "1421                            Top Things to Do in Japan\n",
              "7144    The Only Thing Better Than A Waterfall Is A Tr...\n",
              "4495    10 Outdoor Ice Rinks In The US You'll Want To ...\n",
              "5052         The Pummeling Joy of Southeast Asian Massage\n",
              "8737    Zombie-Like Shelf Cloud Barrels Through Sydney...\n",
              "7446    The One-Day Guide to New Orleans' Literary Lan...\n",
              "2571    Australian Art Museum Offers First-Ever Nude T...\n",
              "2119      The Most Epic Place for Spring Skiing Right Now\n",
              "8761                   Dos And Don'ts Of Visiting Germany\n",
              "2111       How Yoga Can Help You Find The Right Home Swap\n",
              "7878            Where to Get Your Favorite Holiday Drinks\n",
              "640               10 Things To Know Before Going To Japan\n",
              "3626    9 Reasons To Visit Baltimore This Spring (Or A...\n",
              "1142           5 Tips After Surviving Minor Car Accidents\n",
              "4222                                  72 Hours in Toronto\n",
              "Name: headline, dtype: object"
            ]
          },
          "metadata": {}
        },
        {
          "output_type": "stream",
          "name": "stdout",
          "text": [
            "\n",
            "'GOOD NEWS' predicted as 'WELLNESS' : 7 examples.\n"
          ]
        },
        {
          "output_type": "display_data",
          "data": {
            "text/plain": [
              "6740                     This Dog May Actually Be An Ewok\n",
              "7590    Worker Rescues Stranded Pup After Spotting Her...\n",
              "6851    Students Celebrate A Classmate Crushing Cancer...\n",
              "7541    Boy Writes Letter Offering Friendship To Bully...\n",
              "5768    9 Quotes That Will Help You Find The Nerve To ...\n",
              "7099           The 1 Minute Blog. Protesters and Looting.\n",
              "2412    Dying St. Bernard Plays In Snow One Last Time,...\n",
              "Name: headline, dtype: object"
            ]
          },
          "metadata": {}
        },
        {
          "output_type": "stream",
          "name": "stdout",
          "text": [
            "\n",
            "'MEDIA' predicted as 'WELLNESS' : 4 examples.\n"
          ]
        },
        {
          "output_type": "display_data",
          "data": {
            "text/plain": [
              "1096    Ebola Fighters Are Time Magazine's Person Of T...\n",
              "7001                 3 Tips for Better Podcast Interviews\n",
              "8746    Las Vegas Review-Journal Staffers Want To Know...\n",
              "7055    When Things Go Really Wrong For Olympics Broad...\n",
              "Name: headline, dtype: object"
            ]
          },
          "metadata": {}
        },
        {
          "output_type": "stream",
          "name": "stdout",
          "text": [
            "\n",
            "'SCIENCE' predicted as 'WELLNESS' : 13 examples.\n"
          ]
        },
        {
          "output_type": "display_data",
          "data": {
            "text/plain": [
              "1312    How The Science Of Wasabi Could Pave The Way F...\n",
              "6426    Red Lipstick Gets Waitresses Big Tips From Men...\n",
              "325     'Hunger Games' Exposes Myth of Technological P...\n",
              "2152    Amelia Earhart: Breaking Barriers of Earth and...\n",
              "9271    Magnetic Silly Putty Is Mesmerizing, But How D...\n",
              "4328    BUSTED: 4 Common Myths About Catching Cold In ...\n",
              "1714          Scientists Discover Super-Rare Alien Planet\n",
              "2270                            Why the Aliens Want Earth\n",
              "4655    Aggressive Dog Breed Owners Are More Hostile T...\n",
              "7438    Salem Witch Trials Followed Cold Weather, New ...\n",
              "8306                      What Actually Causes Body Odor?\n",
              "308     Comet ISON Mission To Use Balloon Platform To ...\n",
              "6892    Dust Mites Study Shows Reversible Evolution Is...\n",
              "Name: headline, dtype: object"
            ]
          },
          "metadata": {}
        },
        {
          "output_type": "stream",
          "name": "stdout",
          "text": [
            "\n",
            "'WEIRD NEWS' predicted as 'WELLNESS' : 9 examples.\n"
          ]
        },
        {
          "output_type": "display_data",
          "data": {
            "text/plain": [
              "8089    Silver-Haired Weight Lifter Has Awesome Senior...\n",
              "693     Joey Chestnut Sets New Record At Nathan’s Hot ...\n",
              "5924         Jungle Cruise Elephant Flies Over Disneyland\n",
              "1797    Drunk Cowboy Avoids DWI By Hitching Ride With ...\n",
              "7097    Morbid Anatomy Museum: You Know You're Dying T...\n",
              "7119    PRO TIP: Conditioning Your Hair After A Nuclea...\n",
              "3784                Best Yogi Berra Quotes: Real And Fake\n",
              "8193          Sneaky Dog Rules The World At Hide And Seek\n",
              "4344    Here’s A Quick Lesson On Why You Should Never,...\n",
              "Name: headline, dtype: object"
            ]
          },
          "metadata": {}
        },
        {
          "output_type": "stream",
          "name": "stdout",
          "text": [
            "\n",
            "'ARTS' predicted as 'WELLNESS' : 3 examples.\n"
          ]
        },
        {
          "output_type": "display_data",
          "data": {
            "text/plain": [
              "7610    Run, Don't Walk, to Final Days of Natvar Bhavs...\n",
              "2693    Celebrate Thanksgiving With The 15 Best Meals ...\n",
              "8145    Francis Upritchard's Exotic Artifacts from an ...\n",
              "Name: headline, dtype: object"
            ]
          },
          "metadata": {}
        },
        {
          "output_type": "stream",
          "name": "stdout",
          "text": [
            "\n",
            "'EDUCATION' predicted as 'WELLNESS' : 4 examples.\n"
          ]
        },
        {
          "output_type": "display_data",
          "data": {
            "text/plain": [
              "8207                                   Godzilla vs. Godot\n",
              "5097    The Ultimate Demise of Common Core - Part III:...\n",
              "6879       Informal Learning Is Taking Over (Infographic)\n",
              "8047            Understanding Brown v. Board of Education\n",
              "Name: headline, dtype: object"
            ]
          },
          "metadata": {}
        },
        {
          "output_type": "stream",
          "name": "stdout",
          "text": [
            "\n",
            "'TASTE' predicted as 'WELLNESS' : 10 examples.\n"
          ]
        },
        {
          "output_type": "display_data",
          "data": {
            "text/plain": [
              "4808    9 Ways Vermont's Food Scene Is Impossible To Beat\n",
              "5916     You've Been Eating These Chicken Wings All Wrong\n",
              "1172    10 Healthy Food Instagrams That Make It Easy T...\n",
              "4282               9 Ghoulishly Good Treats For Halloween\n",
              "8627    Chick-Fil-A Takes Yet Another Healthy Step Wit...\n",
              "7675             How To Eat A Lot Of Apples, On The Cheap\n",
              "3408    There's A Food Poisoning Risk Top Cookbooks Do...\n",
              "3493              10 Ways Mason Jars Make Cookouts Better\n",
              "214     The Difference Between Baking Powder And Bakin...\n",
              "2894    The Incredible Things You Can Buy If You Give ...\n",
              "Name: headline, dtype: object"
            ]
          },
          "metadata": {}
        },
        {
          "output_type": "stream",
          "name": "stdout",
          "text": [
            "\n",
            "'GREEN' predicted as 'WELLNESS' : 7 examples.\n"
          ]
        },
        {
          "output_type": "display_data",
          "data": {
            "text/plain": [
              "3812    Dutch Heath Authorities To Kill 8,000 Ducks To...\n",
              "9730    Sustainable Seafood? My Thanks To Caring Consu...\n",
              "7227                              Partners for the Future\n",
              "4311    This Pig Doing A Happy Dance On The Beach Is Y...\n",
              "9999           Rescuing Bambi and the Great Pit Bull Bias\n",
              "1456    Here's What We Know About The Florida Keys Aft...\n",
              "3719                   The Empty Calories of Fossil Fuels\n",
              "Name: headline, dtype: object"
            ]
          },
          "metadata": {}
        },
        {
          "output_type": "stream",
          "name": "stdout",
          "text": [
            "\n",
            "'STYLE' predicted as 'WELLNESS' : 4 examples.\n"
          ]
        },
        {
          "output_type": "display_data",
          "data": {
            "text/plain": [
              "9693    Christina Hendricks Steps Out In A Metallic Go...\n",
              "7699             Amy Adams Channels Old Hollywood Glamour\n",
              "9084    You're Applying Your Perfume Wrong. We're Here...\n",
              "8208           Good Girls Versus Bad Girls and Being Mean\n",
              "Name: headline, dtype: object"
            ]
          },
          "metadata": {}
        },
        {
          "output_type": "stream",
          "name": "stdout",
          "text": [
            "\n",
            "'CULTURE & ARTS' predicted as 'WELLNESS' : 3 examples.\n"
          ]
        },
        {
          "output_type": "display_data",
          "data": {
            "text/plain": [
              "958                               Happy Birthday, Renoir!\n",
              "4622           Is Music The Key To Success? - NYTimes.com\n",
              "8231    Joo Heng Tan's Sand Sculptures Take 24 Hours T...\n",
              "Name: headline, dtype: object"
            ]
          },
          "metadata": {}
        },
        {
          "output_type": "stream",
          "name": "stdout",
          "text": [
            "\n",
            "'FIFTY' predicted as 'WELLNESS' : 13 examples.\n"
          ]
        },
        {
          "output_type": "display_data",
          "data": {
            "text/plain": [
              "660         5 Things You Say That Make Retired People Mad\n",
              "4024     Jane Seymour's Secrets To Feeling Young After 50\n",
              "6632                    6 Foods That Fight Pain Naturally\n",
              "9321                  7 Things Boomers Need In Their Diet\n",
              "5206    How The Size And Timing Of Breakfast Impacts Y...\n",
              "5004    Serial Dating Is Easy Online But SO Much Harde...\n",
              "3860    Tips For Visiting Elderly Relatives During The...\n",
              "7190                  3 Easy Ways To Laugh More Every Day\n",
              "6365    The Thing Nobody Ever Tells You About Sex In M...\n",
              "2150    6 Ways Women Over 50 Can Achieve Financial Fit...\n",
              "3380              No, I'm Not Smarter Than A Third-Grader\n",
              "9240    Nursing Home Placement Can Be the Most Loving ...\n",
              "7229    10 Things Midlifers Should Know About Today's ...\n",
              "Name: headline, dtype: object"
            ]
          },
          "metadata": {}
        },
        {
          "output_type": "stream",
          "name": "stdout",
          "text": [
            "\n",
            "'WELLNESS' predicted as 'POLITICS' : 69 examples.\n"
          ]
        },
        {
          "output_type": "display_data",
          "data": {
            "text/plain": [
              "7648    Just Knowing These 8 Facts Will Make You Way M...\n",
              "2128    How A Pandemic Affects Your Poop And How To De...\n",
              "1382            Health Care Reform: How It Benefits Women\n",
              "6948                                  Your Pre-Resolution\n",
              "7655    Honica Brittman Kidney Transplant Chain: Woman...\n",
              "                              ...                        \n",
              "1217                 Are You Addicted to Your Cell Phone?\n",
              "9238    Experts Debate Plan To Speed Antibiotic Develo...\n",
              "8219    Super Soul Sunday: In Pursuit Of Perfection At...\n",
              "4929    Scot Jacobson, 556-Pound Oregon Man With 70-Po...\n",
              "6244    HuffPost Poll: What Would You Do With An Extra...\n",
              "Name: headline, Length: 69, dtype: object"
            ]
          },
          "metadata": {}
        },
        {
          "output_type": "stream",
          "name": "stdout",
          "text": [
            "\n",
            "'PARENTS' predicted as 'POLITICS' : 7 examples.\n"
          ]
        },
        {
          "output_type": "display_data",
          "data": {
            "text/plain": [
              "7971                               Promises to My Husband\n",
              "6003            From Dark to Light: Postpartum in Process\n",
              "3641    Parents Create Teachable Moments At Immigratio...\n",
              "844                      Who Am I To Judge Other Parents?\n",
              "5844    Parenting Values Primer: Plan Ahead And Be Pre...\n",
              "8069                How To Win An Argument With A Toddler\n",
              "9580    Teacher's Letter To A Student With Autism Is W...\n",
              "Name: headline, dtype: object"
            ]
          },
          "metadata": {}
        },
        {
          "output_type": "stream",
          "name": "stdout",
          "text": [
            "\n",
            "'BUSINESS' predicted as 'POLITICS' : 50 examples.\n"
          ]
        },
        {
          "output_type": "display_data",
          "data": {
            "text/plain": [
              "6332      A Letter of Hope for Those Who Dread Their Jobs\n",
              "5660    Greg Smith Book Deal? Former Goldman Sachs Exe...\n",
              "7978                  Krugman: Why America Is Still Stuck\n",
              "5607           How to Step Into Your Own Empowered Leader\n",
              "8195                                      Telling Stories\n",
              "7467    Shares Of Hazmat-Suit Maker Spike On NYC Ebola...\n",
              "4945    Equifax Says Hack Potentially Exposed Details ...\n",
              "3510                The Greatest Ever Retail Stock Trader\n",
              "3100              Chinese Economic Growth Hits 6-Year Low\n",
              "2569    Canadian Law Makes It Cheaper to Prevent Oil S...\n",
              "888     Powerball Ticket Sold With All Winning Numbers...\n",
              "3857    Drive For Cheap Goods Implicated In Pakistan F...\n",
              "9305    If You Had A Verizon Family Plan In The 2000s,...\n",
              "3657    Starbucks Rips Trump Policies, Vows To Hire 10...\n",
              "3955       What Donald Trump Could Learn From Apple’s CEO\n",
              "7241    Cyprus Bank Tax Fallout: Country To Compensate...\n",
              "6925    Payroll Tax Boost Will Cost The Average Worker...\n",
              "133     Crescent Enterprises CEO Badr Jafar Issues War...\n",
              "3326                Putting the Emphasis Where It Belongs\n",
              "3156    The Power of Building Winners Instead of Tryin...\n",
              "1804    Greek Sex Industry Suffers From Economic Downturn\n",
              "5536    When It's Time To Take Your Business Elsewhere...\n",
              "7489    Navajo Nation Sues Wells Fargo Over 'Outrageou...\n",
              "9690    Palin's National Debt Mischaracterization vs. ...\n",
              "9842      Create an Environment for Your Ultimate Success\n",
              "103     Defeating Terrorism through Design: Think Souk...\n",
              "7582    Donald Trump Is Mysteriously Quiet On Hedge Fu...\n",
              "9461    The Justice Department Pledge To Prosecute Whi...\n",
              "6974    Health Care Unions In California Split Over Nu...\n",
              "1223    Comcast Apologizes To Man Who Was Fired After ...\n",
              "2272                  Launch a Competitor to Your Company\n",
              "2899    Fiscal Cliff Deal Dodges Economic Bullet, For Now\n",
              "5316              Profit Sharing: Labor's New Opportunity\n",
              "6760    Uber Sacks Driver After Passenger Records Vile...\n",
              "3733    It's Everywhere: In Employment Discrimination,...\n",
              "1789    New York Challenged Businesses To Cut Their Wa...\n",
              "4319                    The Exquisite Sound of the Moment\n",
              "8014    For-Profit College Industry, in Freefall, Conv...\n",
              "6264    Find Lead Paint Violations In New York City Ne...\n",
              "2703    Viacom Gears Up For Fight To Keep Board From R...\n",
              "3180    Genworth Financial Exploits Obamacare Loophole...\n",
              "9504    Chipotle Doesn't Know When Carnitas Shortage W...\n",
              "9441    New York Fed Took Money From BofA In Exchange ...\n",
              "5282    Donald Trump To Push His 'America First' Agend...\n",
              "8516       BMW Says It Hasn't Manipulated Emissions Tests\n",
              "2851                 The Wage Gap No One Is Talking About\n",
              "5365    Cherishing the Kid Inside All of Us to Create ...\n",
              "9717    Spending Time or Spending Money - The Secret D...\n",
              "9429    Given Uber's Past Troubles, This Should Come A...\n",
              "7818    Uber Is Serving New York’s Outer Boroughs More...\n",
              "Name: headline, dtype: object"
            ]
          },
          "metadata": {}
        },
        {
          "output_type": "stream",
          "name": "stdout",
          "text": [
            "\n",
            "'WORLDPOST' predicted as 'POLITICS' : 20 examples.\n"
          ]
        },
        {
          "output_type": "display_data",
          "data": {
            "text/plain": [
              "8148             How ISIS Is Using Oil To Fund Its Terror\n",
              "2869    Syrian Aid Workers Speak Of Help, Harm By U.S....\n",
              "8960                   British Fighter Jets Fly Over Iraq\n",
              "2036    ISIS, ISIS, You Can't Hide, We Charge You With...\n",
              "1468    Air Algerie Plane Likely Crashed Due To Bad We...\n",
              "234          The Crisis With Russia and the Unspoken Link\n",
              "8179    Scenes of 'Fury': The Brutal Reality of Tank W...\n",
              "8269    Polish Foreign Minister: We Need More NATO Tro...\n",
              "7635    The Disappearance Of 43 Mexican Students Is An...\n",
              "20      Investigator: Captain Not At Helm When Ferry C...\n",
              "5464    70 Years After Hiroshima and Nagasaki: The Urg...\n",
              "6377    Hardship On Mexico's Farms, A Bounty For U.S. ...\n",
              "7571    How the hard left's useful idiots are supporti...\n",
              "9294    New Details Of U.S. Secret Ops Revealed By Yem...\n",
              "8828    Al Qaeda And ISIS Had A Spectacular Falling Ou...\n",
              "6856                   How North Korea Became So Isolated\n",
              "2165    Catalytic Development Assistance in Fragile St...\n",
              "3844    Italian Mafia Boss Arrested After 30 Years On ...\n",
              "5107    Report: Hamas Military Wing Claims Capture Of ...\n",
              "5220               Remember the Suffering of Palestinians\n",
              "Name: headline, dtype: object"
            ]
          },
          "metadata": {}
        },
        {
          "output_type": "stream",
          "name": "stdout",
          "text": [
            "\n",
            "'HOME & LIVING' predicted as 'POLITICS' : 8 examples.\n"
          ]
        },
        {
          "output_type": "display_data",
          "data": {
            "text/plain": [
              "5906    You're Wasting Thousands Of Dollars If You're ...\n",
              "3989    Here's How To Do Laundry By Hand So You Don't ...\n",
              "864                                          GFIC Outlets\n",
              "1502    How To Remove Burnt Stains From Stainless Cook...\n",
              "4937    A Shark House Has Us Believing That Really, An...\n",
              "842     Ronald Reagan's Former Pacific Palisades, Los ...\n",
              "152     Most Americans Get Fake Christmas Trees, But H...\n",
              "1203    Former New York Giants' Amani Toomer's Newly R...\n",
              "Name: headline, dtype: object"
            ]
          },
          "metadata": {}
        },
        {
          "output_type": "stream",
          "name": "stdout",
          "text": [
            "\n",
            "'HEALTHY LIVING' predicted as 'POLITICS' : 20 examples.\n"
          ]
        },
        {
          "output_type": "display_data",
          "data": {
            "text/plain": [
              "9333               How Did You Get to Be the Way You Are?\n",
              "7188    Florida Officials Find More Evidence Of Potent...\n",
              "8005        To the Obese Woman Crying at the Picnic Table\n",
              "5559    WHO Suspects A Fourth Person Died Of Ebola In ...\n",
              "7357    No, The Weather Isn't Making Your Joints Hurt ...\n",
              "2513    Should International Students Still Be Worried...\n",
              "4982    7 Pantry Essentials Dietitians Always Have On ...\n",
              "4592    More Than A Half Million People Struck By Chol...\n",
              "6876    St. Kitts Launches Probe Of Herpes Vaccine Tes...\n",
              "3709               Requiem for a Buoyant, Enduring Spirit\n",
              "3987    Here's What Repealing Obamacare Means To Those...\n",
              "4482            Empathy and Compassion: The Awesome Sauce\n",
              "9736                                        Talking Brave\n",
              "1150    Vaping Instead Of Smoking Could Prevent Millio...\n",
              "1750    Most People With Tattoos Don't Get Proper Care...\n",
              "4209    Hypertension Control Means Celebrating Somethi...\n",
              "2632    How U.S. Hospitals Are Defending Themselves Ag...\n",
              "5233    How A Social Media Detox Helped Ed Burns Becom...\n",
              "1547    Here’s Why Pregnant Women Should Consider Gett...\n",
              "891         Grief: 6 Reasons to Give Yourself a Hall Pass\n",
              "Name: headline, dtype: object"
            ]
          },
          "metadata": {}
        },
        {
          "output_type": "stream",
          "name": "stdout",
          "text": [
            "\n",
            "'CRIME' predicted as 'POLITICS' : 33 examples.\n"
          ]
        },
        {
          "output_type": "display_data",
          "data": {
            "text/plain": [
              "5423    Aurora Hostage Situation: Four Dead, Including...\n",
              "2375    4 Teens In Custody In Connection With Gang Rap...\n",
              "6699    Pulse Nightclub Shooter's Father Revealed As F...\n",
              "8249    Sheriff Charged In Real Estate Agent's Shootin...\n",
              "201     People Are Throwing Coronavirus Parties, Promp...\n",
              "3790    Haunted House With 'John Wayne Gacy Room' Erec...\n",
              "4539    Female Firefighter's Suspected Suicide Sparks ...\n",
              "1220    Former NYPD Cop Pleads Guilty To Drunkenly Fir...\n",
              "6138    Radcliffe Haughton: Brookfield Square Mall Sho...\n",
              "5636    At Least 7 Hurt In California Stabbings As Neo...\n",
              "4631                 Deadly Shooting At Texas High School\n",
              "1051    4 Dead In Shooting At Illegal Gambling Site In...\n",
              "831     Karen Swift's Funeral Planned For Saturday As ...\n",
              "6674    Therapists Missed Newtown Gunman's Rage As A T...\n",
              "1690    Daphne Viola Webb Missing: California Toddler'...\n",
              "1868    Authorities Say Texas Man Is Hindering Investi...\n",
              "1523    Albuquerque Police Officers Killed Our Son, An...\n",
              "229         Tsarnaev's Friends Seek Constitutional Rights\n",
              "8531    Washington State Has Nearly 6,500 Untested Rap...\n",
              "9961    Disneyland Employee Allegedly Tried To Trade T...\n",
              "9187    Erica DePalo, Former 'Teacher Of The Year,' Al...\n",
              "318     Robbers Who Make Victims Strip Still On The Loose\n",
              "3448    How Many Of The Hundreds of Thousands Of Untes...\n",
              "7304    City Council Candidate Accused Of Sending 'Obs...\n",
              "983     Homeowner Fires Arrow Into Fleeing Burglar's B...\n",
              "1326    Seattle's Vigilante 'Bike Batman' Confronts Th...\n",
              "7720    Police Thwart Plot To Steal Enzo Ferrari’s Rem...\n",
              "3590    Texas Sheriff's Deputy Killed In Ambush At Gas...\n",
              "3263    Teenage Boy Fatally Shoots High School Student...\n",
              "9072    Man Who Tried To Burn Ex-Girlfriend's House Wi...\n",
              "5475    Chicago Police Body-Camera Rollout To Be Finis...\n",
              "5658    Robert Durst Pleads Guilty To Gun Charge, Sett...\n",
              "2126    Shooting Rampage Results In 'Mass Casualties' ...\n",
              "Name: headline, dtype: object"
            ]
          },
          "metadata": {}
        },
        {
          "output_type": "stream",
          "name": "stdout",
          "text": [
            "\n",
            "'QUEER VOICES' predicted as 'POLITICS' : 23 examples.\n"
          ]
        },
        {
          "output_type": "display_data",
          "data": {
            "text/plain": [
              "2398    After Being With My Partner For 28 Years, I'm ...\n",
              "2930    Here's Exactly Why A Vote For Trump Is Vote Ag...\n",
              "2932    Doug Jones Fires Back At Roy Moore After Campa...\n",
              "982     Prominent Ad Agency Changes Its Name To Protes...\n",
              "9151    LOOK: 'All-American Boy' Singer Bares All For ...\n",
              "8307    Chick-fil-A: The Right to Be Stupid and Offensive\n",
              "5737    In Four Supreme Court Clashes Over 15 Years, a...\n",
              "5428    Trans People Confront Myths They Hear About Th...\n",
              "6635    Trump Walk Of Fame Star Vandalized Again, This...\n",
              "2861    Florist Who Turned Away Gay Couple Wants Supre...\n",
              "5056    Indonesia Launches New Police Force To Investi...\n",
              "3192    There's Going To Be A Huge Queer Dance Party A...\n",
              "394     Coming Out As A 'Recovering Heterosexual': Wha...\n",
              "2669          Waiting for the Court - But Not for History\n",
              "8946    San Francisco 49ers Slam North Carolina's Anti...\n",
              "743                   20 Unspoken Rules Of Urban Lesbians\n",
              "8540    It Turns Out My Partner Is a Woman, So What Do...\n",
              "4927                               Obama: Four More Years\n",
              "6804                                      Moving forward.\n",
              "3320    Supreme Court Steps Up on Marriage Equality Cases\n",
              "684     Florida Student Finds Clever Way To Shred 'Don...\n",
              "7356    Here’s What Happened When This Guy Asked 100 M...\n",
              "3081    Where Is Our Dependency On Hook-Up Apps Taking...\n",
              "Name: headline, dtype: object"
            ]
          },
          "metadata": {}
        },
        {
          "output_type": "stream",
          "name": "stdout",
          "text": [
            "\n",
            "'SPORTS' predicted as 'POLITICS' : 37 examples.\n"
          ]
        },
        {
          "output_type": "display_data",
          "data": {
            "text/plain": [
              "992     Summer League Baseball Team Compares Its Gun-E...\n",
              "4033    Ohio Reviewing High School's Use Of Caged Live...\n",
              "8544    Lindsey Vonn Has A Message For Her Trump-Suppo...\n",
              "4007    This Is, By Far, The Most Humiliating Posteriz...\n",
              "5053    ESPN: Threat Of Trolls, Not Political Correctn...\n",
              "6665    Kobe Bryant Forgives Lakers Draft Pick For 'Ra...\n",
              "449     Premature Celebration Turns Long TD Pass Into ...\n",
              "541     Alex Rodriguez Becomes A Dad In Front Of The W...\n",
              "4532    University Of Minnesota President Refuses To B...\n",
              "8130    Unpaid Student-Athletes Forced To Give Back Th...\n",
              "1102    Royce White Suspended By Rockets For 'Refusing...\n",
              "1091    Jhonny Peralta and PED Inconsistency From Majo...\n",
              "8505    Women's Basketball Team Declined Trump's White...\n",
              "7384    Cal's Ryan Mason Throws The Most Precise Pitch...\n",
              "5585    Russell Wilson Dances With A Really Cute Pup. ...\n",
              "3378    Erin Andrews Took A Stand For Women Everywhere...\n",
              "4194    Dwight Howard Challenges Heckler 'To Come Out ...\n",
              "7756    Athletes Plead For Justice In Aftermath Of Alt...\n",
              "6047    These Jams From The Slam Dunk Contest Are Even...\n",
              "5711                 Federer & Vonn's Swiss Alps Showdown\n",
              "4585    De’Andre Johnson Tells 'GMA' Racial Slur Didn’...\n",
              "4066    Police Union Decides Against Boycotting San Fr...\n",
              "1353    Arizona Sportscaster Takes A Hilarious Tumble ...\n",
              "9996    MLB To Investigate Houston Astros Staffer's Ou...\n",
              "5788    Umpire Paul Emmel Gets Bloody Head Gash When B...\n",
              "451     Miami Heat To Wear Patches In Honor Of Parklan...\n",
              "9831    Two-Thirds Of Soccer Fans Worldwide Want More ...\n",
              "2405    Virginia Just Became The First State To Regula...\n",
              "3073    Former Louisville Cardinals Basketball Players...\n",
              "8822    Sam Jerseys Are Already For Sale And The Deman...\n",
              "9768           New York Mets Advance To 2015 World Series\n",
              "3747    The Ryan Fitzpatrick Era Must End For The New ...\n",
              "2221                  March Madness: Round of 32 -- Day 1\n",
              "9673    Dak Prescott Has Earned The Right To Remain Th...\n",
              "4088    Aaron Hernandez's Lawyer Made A ‘Deflategate' ...\n",
              "7801    Thrilling Daytona 500 Finish A Major Win For H...\n",
              "7898    Richard Sherman: Roger Goodell Should Have To ...\n",
              "Name: headline, dtype: object"
            ]
          },
          "metadata": {}
        },
        {
          "output_type": "stream",
          "name": "stdout",
          "text": [
            "\n",
            "'STYLE & BEAUTY' predicted as 'POLITICS' : 28 examples.\n"
          ]
        },
        {
          "output_type": "display_data",
          "data": {
            "text/plain": [
              "8110    Galliano and Armstrong: With Titles Gone, What...\n",
              "4673    American Bra Size Average Increases From 34B t...\n",
              "3828            Maintaining Your Coif When Humidity Lurks\n",
              "9334    Neil Lane: Inside the Jewelry Designer and Col...\n",
              "5099    Matteo Marzotto, Former Valentino Chairman, In...\n",
              "9980                       Are You Tired of Being Single?\n",
              "4064    Bikinis vs. One-Piece Swimsuits: Which Do Amer...\n",
              "9934    Carolyn Kellman Sues Forever 21 Over Alleged '...\n",
              "9382          Turkish Airlines Backs Down On Lipstick Ban\n",
              "4170    Christian Louboutin vs. YSL 'Red Soles' Court ...\n",
              "237      The Key To Dressing Comfortably: Go 'Fake Fancy'\n",
              "4301                  LinkedIn's Question on Spa Training\n",
              "6399    Ryerson University Students Take on the City i...\n",
              "356     Is Prince Harry Eyeing Tony Abbott's Daughters...\n",
              "9239                        Tech Support for Your Tresses\n",
              "2873    Pussy Riot Lingerie Spot Advertises Bras... An...\n",
              "4874    Kelly Osbourne's Plus-Size Clothing Line Is Ha...\n",
              "9677       10 Dating Lessons From the Government Shutdown\n",
              "8619              I Don't Think I Want to Meet My 'Match'\n",
              "286      What Should Be In Every Woman's Cosmetics Drawer\n",
              "5304    Hillary Clinton Shows Off New Hair At Lunch Wi...\n",
              "9023    Natalie Liao, Blogger & Stylist, Pairs NARS He...\n",
              "2041    It's OK To Hate Wearing High Heels (Just Take ...\n",
              "8942       Now These Are Crop Tops We Might Actually Wear\n",
              "7491                     The Real Deal on Hair Extensions\n",
              "3833    Hillary Clinton Sunglasses: Secretary Dons Wil...\n",
              "5967          19 Sweaters, All On Sale For Less Than $100\n",
              "1800    Verily Magazine's No-Photoshop Policy Proves I...\n",
              "Name: headline, dtype: object"
            ]
          },
          "metadata": {}
        },
        {
          "output_type": "stream",
          "name": "stdout",
          "text": [
            "\n",
            "'WEDDINGS' predicted as 'POLITICS' : 2 examples.\n"
          ]
        },
        {
          "output_type": "display_data",
          "data": {
            "text/plain": [
              "852                            My Wish for the Bride\n",
              "2159    The Key to Being a Zen Bride on Your Big Day\n",
              "Name: headline, dtype: object"
            ]
          },
          "metadata": {}
        },
        {
          "output_type": "stream",
          "name": "stdout",
          "text": [
            "\n",
            "'IMPACT' predicted as 'POLITICS' : 27 examples.\n"
          ]
        },
        {
          "output_type": "display_data",
          "data": {
            "text/plain": [
              "6419      Inspired at the Special Olympics USA Games 2014\n",
              "7297    Barbara Bush: Global Health Corps -- A Convers...\n",
              "3944       I Believe in the Power of People to Save Lives\n",
              "6880    DJ Quiana Parks and DJ for a Cure Raise Thousa...\n",
              "4074    Why The Solutions To Coronavirus And Climate C...\n",
              "18      High School Students Serve As Pallbearers At H...\n",
              "8786    This Woman Will Give $10,000 to an Animal Shel...\n",
              "6107       How Online Tools Can Be Used for HIV Education\n",
              "9490    Let Girls Lead Video Contest: Maria Josefa Cas...\n",
              "2836              Child War Refugees Starving in Cameroon\n",
              "6390    Over 85,000 Haitians Are Still Homeless From T...\n",
              "9468      9 Pro-Refugee Groups Standing Up To Trump's Ban\n",
              "6672                     An Intimate Part of the Conflict\n",
              "4507    Descendants of Morocco's Veterans Face Violent...\n",
              "4297             Food Waste: A Missed Opportunity (Pt. I)\n",
              "2769    Number Of Homeless Single Adults In NYC Has Ri...\n",
              "9843     Breaking The Cycle Of Generational Incarceration\n",
              "5299    A Step Towards Stopping the Entrapment of Dome...\n",
              "6989    Why Reforming The Juvenile Justice System Is A...\n",
              "8669         The Local Women Who Hold Up the Sky in Syria\n",
              "3598    A Gamechanger: Nobel Prize Winner Kailash Saty...\n",
              "908              The Crisis in Connecticut: Guns or Sons?\n",
              "6296    Senegalese Women Turn Once-Devastating Floodwa...\n",
              "2967             Embracing Change in an Uncertain Climate\n",
              "1153    From a Refugee Camp to a Royal Court:  A Cambo...\n",
              "1955    Aid Worker Speaks Out On Why Ebola Keeps Sprea...\n",
              "639     No One Is Talking About the Source of Our Raci...\n",
              "Name: headline, dtype: object"
            ]
          },
          "metadata": {}
        },
        {
          "output_type": "stream",
          "name": "stdout",
          "text": [
            "\n",
            "'FOOD & DRINK' predicted as 'POLITICS' : 14 examples.\n"
          ]
        },
        {
          "output_type": "display_data",
          "data": {
            "text/plain": [
              "2227    Matt Eversman Is 28 and About to Open His Firs...\n",
              "9218                                       Whine Pairings\n",
              "7819            America's Most Popular Room Service Items\n",
              "2551    This Restaurant Serves 'Milky Buns,' Warm Donu...\n",
              "2337                               The Advent Of Izakayas\n",
              "9651    White Meat vs. Dark Meat: How To Cook Each To ...\n",
              "321                 How to Have a Passover Cocktail Party\n",
              "8665    Clean Your Garbage Disposal With Vinegar Ice C...\n",
              "4407                                  Asparagus, At Last!\n",
              "6174    HuffPost Tastemakers: Allegretti Makes A Mean ...\n",
              "3485                     Baking Your Way to a Slimmer You\n",
              "7868    International Oreos: Wacky Flavors From Foreig...\n",
              "2755                Analysis: Easier Meat Labels? My Butt\n",
              "3852    The Most Popular Cocktail In Every State Durin...\n",
              "Name: headline, dtype: object"
            ]
          },
          "metadata": {}
        },
        {
          "output_type": "stream",
          "name": "stdout",
          "text": [
            "\n",
            "'COMEDY' predicted as 'POLITICS' : 28 examples.\n"
          ]
        },
        {
          "output_type": "display_data",
          "data": {
            "text/plain": [
              "8225    Awww, Trump Doesn't Even Want America, He Just...\n",
              "6798    30 Years Ago, Bill Murray Called A Full Cubs G...\n",
              "5657    Bill Maher Proves Americans Know Nothing About...\n",
              "1176    Your Mouth Doesn't Want To Hear This 'Honest' ...\n",
              "9569    Everyone Should Have A Celebrity Sing Their Dr...\n",
              "1845    Guy Creates Trump Inauguration Flyer We Should...\n",
              "1145    Samantha Bee Bites Into Scott Walker For His H...\n",
              "1861    'Spokespuppet' Kellyanne Conway Celebrates Tru...\n",
              "5275    A Tiny, Mocking Voice Rules Donald Trump's Min...\n",
              "5373              Elliot Horne's Hiptionary: Dig We Must!\n",
              "8406    Donald Trump Learns The True Risks Of Staring ...\n",
              "1540    SNL Cold Open: Jesse Pinkman Helps Obama Expla...\n",
              "6943    Jimmy Kimmel Asks People To Take Sides In Dona...\n",
              "396     WATCH: Jimmy Fallon Thanks Marco Rubio, Penis-...\n",
              "7968    The Daily Struggles Every Germaphobe Will Unde...\n",
              "4178                                       Poetic License\n",
              "2701       My Medical Evaluation at the Weed Clinic in LA\n",
              "6339    Late-Night TV Hosts Skewer Trump For 'Shithole...\n",
              "4484    Donald Trump's Sons Think Their Dad Can Totall...\n",
              "5787    Jimmy Kimmel Debuts Hilarious Kids' Version Of...\n",
              "4637    Want Donald Trump To Care About Climate Change...\n",
              "8395    You Can’t Say Carly Fiorina Is UnFit To Be Pre...\n",
              "8059                                  ...See How They Run\n",
              "1140    Bill Maher Slams The Internet For Killing The ...\n",
              "863     John Oliver Shreds Pharmaceutical Industry Ove...\n",
              "9594    Trump Store's Attempt To Troll Jimmy Kimmel Ov...\n",
              "6788    Who Said It: Mitt Romney Or Mr. Burns From 'Th...\n",
              "2615    People Read #FamousLastTexts Sent To Them By E...\n",
              "Name: headline, dtype: object"
            ]
          },
          "metadata": {}
        },
        {
          "output_type": "stream",
          "name": "stdout",
          "text": [
            "\n",
            "'PARENTING' predicted as 'POLITICS' : 30 examples.\n"
          ]
        },
        {
          "output_type": "display_data",
          "data": {
            "text/plain": [
              "5608           A Trail of Clicks, Culminating in Conflict\n",
              "6768                       Dispatch From the 'Mommy Room'\n",
              "189     How to Get Your Babysitter to Stop Texting, Se...\n",
              "3594    Can Hurricanes Make Pregnant Women Go Into Labor?\n",
              "2550                           Why Do We Push Our Babies?\n",
              "5587        Head Start Agencies Slam Obama Administration\n",
              "253                                      A Letter to Boys\n",
              "244                   Save My Kid From 'The Hunger Games'\n",
              "4138                             Conversations with Elves\n",
              "5815    Gavin Pope, 4, Is The Cutest CNN Guest Of All ...\n",
              "4580                        Face-to-Face With 'Celebrity'\n",
              "6368                                              1 in 68\n",
              "7858    Dad Knows Exactly How To Respond To An Epic Ta...\n",
              "722                                              Legacies\n",
              "7631    Pregnant Workers Face Routine Discrimination, ...\n",
              "2888         For Students, a Picture is Worth 1,000 Words\n",
              "4159    Zombie Class At Oregon Middle School Canceled ...\n",
              "2608                      Is There Really A ‘Boy Crisis'?\n",
              "4549                                                Dirty\n",
              "6544    Mothers vs. Fathers vs. Parents: Court Decisio...\n",
              "5845                                              For Dad\n",
              "8316                      Why I'm Putting Down The iPhone\n",
              "4730                            He Still Loves Me, Right?\n",
              "4519         Putting Texting and Driving in the Back Seat\n",
              "1490                     How Often Are You Fully Present?\n",
              "9906    Brittany Davila, Cheerleader With Down Syndrom...\n",
              "4372                                Tag, I'm It. For Now.\n",
              "4382      The Moment I Realized I Had Become a Mean Mommy\n",
              "2524    College Bound: The Impact on the Siblings Left...\n",
              "9141                    Step Away from the Roller Coaster\n",
              "Name: headline, dtype: object"
            ]
          },
          "metadata": {}
        },
        {
          "output_type": "stream",
          "name": "stdout",
          "text": [
            "\n",
            "'ENTERTAINMENT' predicted as 'POLITICS' : 46 examples.\n"
          ]
        },
        {
          "output_type": "display_data",
          "data": {
            "text/plain": [
              "9672    Florence And The Machine Electrifies At Lollap...\n",
              "6061    Trump Insists He Called McCain A War Hero, But...\n",
              "1495    Weinstein Company May Be Sold To Firm Led By D...\n",
              "6575                 Big Screen Dreams With Aaron Kaufman\n",
              "8034                       The Night Bob Dylan Made Sense\n",
              "8259    Mariah Carey Cancels Brussels Show Over Securi...\n",
              "6353    The Women Of 'GLOW' Are On A Group Text, And I...\n",
              "2193        Eight Reasons You Should Go to MerleFest 2015\n",
              "1454    Jon Voight Claims Lincoln Is Smiling Knowing A...\n",
              "7556    Rihanna 'Disgusted' By Donald Trump's Attempt ...\n",
              "6125    David Byrne Spurns Spotify In Essay, Asks 'Are...\n",
              "9641    'Breaking Bad' Fans Still Tossing Pizzas On Wa...\n",
              "9203       'Playing It Cool' Has Two Leads With Chemistry\n",
              "7721    Benedict Cumberbatch Played Stephen Hawking Ye...\n",
              "3855    Amy Schumer Denies She Has A 'Blind Spot' Abou...\n",
              "839     Jim Carrey's Submission For Donald Trump's Off...\n",
              "5075    North West And Penelope Disick Are The Cutest ...\n",
              "342     David Mamet Defends Felicity Huffman In Colleg...\n",
              "9695          Julianne Hough Steals The Spotlight At AMAs\n",
              "1399           7 Celebs Who Hurt Themselves While Filming\n",
              "1067    'Law & Order: SVU' To Air GamerGate-Inspired E...\n",
              "6378    John McCain Responds To Comments He's Not A Wa...\n",
              "1285    Bizarre Super Bowl Commercial Perfectly Parodi...\n",
              "6783    Will Smith Isn't Returning For 'Independence D...\n",
              "4230    Chrissy Teigen Reveals The Stomach-Turning Rea...\n",
              "4629    A+E Exec Says She Was Targeted On Social Media...\n",
              "7488    Tory Lanez Gets Higher Bail For Violating Mega...\n",
              "3916    All The Actors You Probably Forgot Were On 'Do...\n",
              "5276    Mother Claims Rival Parent Tried To Kill Her A...\n",
              "9226    Can We Really Consider This Representation Of ...\n",
              "3879    No, Guys, Obama Does Not Have Kanye's Home Number\n",
              "641                                People, Edit Thyselves\n",
              "9757    Murphy Brown Crashes Sarah Huckabee Sanders Pr...\n",
              "2217    Neil Patrick Harris Asks: Are These Kids Meeti...\n",
              "9377    John Stamos Fires Back At Negative 'Fuller Hou...\n",
              "2841    Why Woman Says She Called Poison Control After...\n",
              "729     Bastille Singer On Whether He Meant To Write A...\n",
              "2000    Courage for Sale: Oz's Cowardly Lion Costume H...\n",
              "1910    Regal Cinemas Majestic Stadium's Screening Of ...\n",
              "4433    Dr. Luke Tweets He 'Didn't Rape Kesha' Amid On...\n",
              "7887    Ellen Isn't Interested In Having Donald Trump ...\n",
              "6897    Federico Fellini's 'La Dolce Vita' Getting A R...\n",
              "5625    Male Manager Encourages Rockette Dancers To 'T...\n",
              "5635    Leah Remini Says Hard-Working Scientologists M...\n",
              "3535     Beyonce's 'God Made You Beautiful' Leaks In Full\n",
              "6291    194 Thoughts I Had While Watching The 'Harry P...\n",
              "Name: headline, dtype: object"
            ]
          },
          "metadata": {}
        },
        {
          "output_type": "stream",
          "name": "stdout",
          "text": [
            "\n",
            "'ENVIRONMENT' predicted as 'POLITICS' : 9 examples.\n"
          ]
        },
        {
          "output_type": "display_data",
          "data": {
            "text/plain": [
              "3232               EU Carbon Trade Deal Urged By Airlines\n",
              "5461    Manatees Are Dying In Droves, Florida Says 'To...\n",
              "6970                                  No Time to Cool Off\n",
              "2009    National Elephant Center In Central Florida To...\n",
              "8924    Kill Van Kull Oil Spill: Barge Leaks Fuel Near...\n",
              "2768    Gulf Coast Tourists Return After BP Oil Spill,...\n",
              "5389     Iditarod Race Raises Questions Of Animal Cruelty\n",
              "811        Antarctic Glaciers and the Global Water Crisis\n",
              "6942    Sequester Cuts Mean Wide Ranging Impacts for P...\n",
              "Name: headline, dtype: object"
            ]
          },
          "metadata": {}
        },
        {
          "output_type": "stream",
          "name": "stdout",
          "text": [
            "\n",
            "'WORLD NEWS' predicted as 'POLITICS' : 48 examples.\n"
          ]
        },
        {
          "output_type": "display_data",
          "data": {
            "text/plain": [
              "9477    Trump Budget’s Foreign Aid Cuts Could Undercut...\n",
              "7219    Ukrainian Defenders In Mariupol Defy Surrender...\n",
              "5792    Former Nazi Guard, 101, Jailed In Germany For ...\n",
              "3953    S. Korea's President-elect Wants Tougher Stanc...\n",
              "8060    New Zealand Parliament Votes To Ban Semi-Autom...\n",
              "3402    San Francisco Man Gored In Neck At Pamplona's ...\n",
              "8132    First 2 Coronavirus Deaths Reported From Diamo...\n",
              "1645    Trump Tells Advisers He Wants U.S. Out Of Syri...\n",
              "597     Towards A Difficult Phase Marked by Assad’s Su...\n",
              "4558    200 Actors, Scientists Band Together To Demand...\n",
              "9335    Illegal Student Labor Used To Assemble iPhone ...\n",
              "7411          Venezuela: Why Trump’s Sanctions Won’t Work\n",
              "33      23 Injured As Russian Plane Makes Emergency La...\n",
              "683     Russia Expels 23 British Diplomats As Crisis O...\n",
              "8434    Pope Francis Calls Putin's Invasion Of Ukraine...\n",
              "735     Olympic Weightlifter To Sell Gold Medal For Ir...\n",
              "4894    Ending Child Marriage: An Urgent And Unfinishe...\n",
              "6929    Playing With Fire: Trump’s Iran Policy Risks C...\n",
              "4498    Philippines President Duterte Cracks Ugly 'Jok...\n",
              "7203    The Woman Helping Clear Colombia Of Its Deadly...\n",
              "4402    Greenland's Fast-Melting Ice Is A Warning To T...\n",
              "8840    Philippines President Rodrigo Duterte Pressure...\n",
              "7170    Thieves Steal Swedish Crown Jewels Before Flee...\n",
              "8023    Hong Kong Protesters Appeal To Trump To 'Liber...\n",
              "5125    Lebanon Repeals Law Allowing Rapists To Walk F...\n",
              "9376    Harrowing Images From Venezuela's Deadly Protests\n",
              "2664    Iraqi Prime Minister Tells U.S. To Decide Mech...\n",
              "2521    Iran Supreme Leader Prays Over Assassinated Ge...\n",
              "6885    Who Is Kim Yong Chol? North Korea’s 'Go-To Dip...\n",
              "3471    Sri Lanka President, Prime Minister To Resign ...\n",
              "8124    Some Of Our Decisions Will Not Be Popular. But...\n",
              "4475    Muslim Surgeon Who Treated Manchester Attack V...\n",
              "8847    Oil Prices Jump After U.S. Airstrike Kills Top...\n",
              "8584    Death Toll Rises To 305 In Attack On Egypt Mosque\n",
              "2104    Desmond Tutu, South African Equality Activist,...\n",
              "7136    Giant Ship Ever Given Partially Refloated, But...\n",
              "5805    UN Rights Chief Calls For International Invest...\n",
              "6853    Explosion At Dutch COVID-19 Test Center Appear...\n",
              "5105    Nicaraguan Incumbent Arrests 5 Opposition Lead...\n",
              "2643    China Convicts 3 Researchers Involved In Gene-...\n",
              "8870    Wounded Londoner Recalls Charging At Armed Ter...\n",
              "1683    Governors Gone Wild: Mexico Faces A 'Lost Gene...\n",
              "5500    North Korea Says Missile Test Was Threat For Guam\n",
              "9772    Zimbabweans Celebrate In The Streets After Mug...\n",
              "5207    Iraqi Forces Take Back Country's Last ISIS-Hel...\n",
              "1605            Afghanistan Must Determine Its Own Future\n",
              "5463    Trump Approves Oil Release From Reserve After ...\n",
              "4216    Here's The Truth About The Caravan Of Migrants...\n",
              "Name: headline, dtype: object"
            ]
          },
          "metadata": {}
        },
        {
          "output_type": "stream",
          "name": "stdout",
          "text": [
            "\n",
            "'COLLEGE' predicted as 'POLITICS' : 4 examples.\n"
          ]
        },
        {
          "output_type": "display_data",
          "data": {
            "text/plain": [
              "7325    Dear Ernest, #2: Let's Get Real About Campus L...\n",
              "6748              Brown Honors Graduates, Fails Survivors\n",
              "799     People Are Complaining To The Wrong Wheaton Co...\n",
              "3553    Why #FelonCrushFriday Should Change the Way We...\n",
              "Name: headline, dtype: object"
            ]
          },
          "metadata": {}
        },
        {
          "output_type": "stream",
          "name": "stdout",
          "text": [
            "\n",
            "'TECH' predicted as 'POLITICS' : 16 examples.\n"
          ]
        },
        {
          "output_type": "display_data",
          "data": {
            "text/plain": [
              "7913    PSA Tells You To 'Keep It In Your Pants' For V...\n",
              "1376        Yet More Evidence Of A Yahoo-Tumblr Mega Deal\n",
              "2252    Silicon Valley Vows To Improve Tech For People...\n",
              "8643    Las Vegas Tech Show Will Give Peek At The Driv...\n",
              "8178    Kentucky Tornado Victims Flock To Facebook For...\n",
              "6392    A Commodore Computer From The 1980s Is Still H...\n",
              "9790              OnLive's Assets Sold To Another Company\n",
              "8684    RIP Flash: Adobe Is Phasing Out The Much-Loath...\n",
              "5002    Equifax Says Another 2.4 Million Customers Hit...\n",
              "1917    Holiday Swag With Karma Points: Ink Dwell and ...\n",
              "6200    Apple Leads The Charge on Security, But Who Wi...\n",
              "725     Uber's Offering Something Better Than Rides Th...\n",
              "4183    Interviewing For The Tech Job You Want, Not Th...\n",
              "5111        Why Automation Will Create, Not Destroy, Jobs\n",
              "8917    Android Phones Are Much Safer Than They Used T...\n",
              "2913    Google Says 'Search Plus Your World' Going Wel...\n",
              "Name: headline, dtype: object"
            ]
          },
          "metadata": {}
        },
        {
          "output_type": "stream",
          "name": "stdout",
          "text": [
            "\n",
            "'RELIGION' predicted as 'POLITICS' : 16 examples.\n"
          ]
        },
        {
          "output_type": "display_data",
          "data": {
            "text/plain": [
              "4251    Is the Southern Baptist Church Having an Ident...\n",
              "3750    A New Era Begins: Reflections On The Declarati...\n",
              "9552                Finding Hope & Healing at Ground Zero\n",
              "3653    Did Mario Cuomo Pave The Way For Today's Conse...\n",
              "8744    How Members Of Congress Will Be Prevented From...\n",
              "6859          A Hanukkah 'Raga': An Ecological Reflection\n",
              "9195    Please Take Sides: This Is No Time For Silence...\n",
              "147     Are Undocumented Immigrants Welcome At America...\n",
              "8055               Presidential Election More Than a Game\n",
              "4852    An Important Reminder That The Muslim Communit...\n",
              "2214    Fired Lesbian Catholic School Teacher Locked O...\n",
              "5693    16 Tweets That Capture Why Some Christians Fee...\n",
              "9311                    Dialogue: Hope for a Better World\n",
              "7741    Restlessness or Respectability? A Spiritual Fr...\n",
              "9234    France's New Chief Rabbi: 'We Need To Open The...\n",
              "2351    CNN’s 'Believer' Is Reckless, Racist And Dange...\n",
              "Name: headline, dtype: object"
            ]
          },
          "metadata": {}
        },
        {
          "output_type": "stream",
          "name": "stdout",
          "text": [
            "\n",
            "'DIVORCE' predicted as 'POLITICS' : 11 examples.\n"
          ]
        },
        {
          "output_type": "display_data",
          "data": {
            "text/plain": [
              "8051                           An Embarrassment of Riches\n",
              "5686       15 Red Flags Not to Ignore In Any Relationship\n",
              "9291                                         Techno Phobe\n",
              "3023    Cheating Survey Finds That People Cheat With P...\n",
              "8972                            Divorcing at Dude Ranches\n",
              "1643    The Scarlet Letter: Overcoming The Stigma Of T...\n",
              "5081                             Competition With Your Ex\n",
              "8981                   Don't Put Your Nanny In The Middle\n",
              "7876    Spy Gadgets Infiltrate Divorces As Domestic Sn...\n",
              "4794       Social Media 'Don'ts' All Divorcés Should Heed\n",
              "2310                               Don't Push My Buttons!\n",
              "Name: headline, dtype: object"
            ]
          },
          "metadata": {}
        },
        {
          "output_type": "stream",
          "name": "stdout",
          "text": [
            "\n",
            "'THE WORLDPOST' predicted as 'POLITICS' : 50 examples.\n"
          ]
        },
        {
          "output_type": "display_data",
          "data": {
            "text/plain": [
              "9300    Boris Johnson Is A Liar With His 'Back To The ...\n",
              "2929    What Everyday Iranians Have To Say About The N...\n",
              "48      Aleppo Hit By Worst Strikes For Months As Puti...\n",
              "2043    MEK’s Fake Intelligence On Aleppo Only Hinders...\n",
              "265     Russia Fires Warning Shots At Turkish Ship In ...\n",
              "8276       How Climate Change Intensifies Mass Atrocities\n",
              "8789    North Korea Says It's Ready For War With Massi...\n",
              "5186    Trump May Actually Be The Greatest Gift China ...\n",
              "6902    South Asian Asylum Seekers Stuck In Limbo On L...\n",
              "7432    Refugee Children Found In Critical Condition I...\n",
              "5680    Dozens Of Firefighters Injured When Blazing Hi...\n",
              "1746    Weekend Roundup: The Tragedy Of Mosul Leads Ba...\n",
              "6828    Trump Travel Ban Shows U.S. Misunderstanding O...\n",
              "170       25 Reasons Erdogan's 'Victory' Was Illegitimate\n",
              "4381    India’s Outgunned Russia And Saudi Arabia To B...\n",
              "3930    The Major Concern With The Phone Call With Taiwan\n",
              "9711    Saudi-Led Coalition May Be Responsible For Int...\n",
              "8250    Afghan Officials Probe Attacks As Death Toll R...\n",
              "3262    Violent Clashes Between Mexico's Teachers, Pol...\n",
              "6189     German Leaders Are Split Over Proposed Burqa Ban\n",
              "4250    Syria Will Not Survive Conflict Between Russia...\n",
              "5530    Duterte Accuses U.S. Of Building 'Permanent' A...\n",
              "9150    Bombing Of Syrian Bus Convoy Kills Scores Outs...\n",
              "6166    North Korea Fires Submarine-Launched Missile: ...\n",
              "7301    Trump Will Pursue 'Regional Hegemony' In South...\n",
              "8678    Women Become Local Leaders In Syria As War Upe...\n",
              "1578    A Record Number Of People Have Drowned Trying ...\n",
              "8499    South Korea Prosecutor To Seek Arrest Warrant ...\n",
              "2917    Doctors Without Borders Denies Hospital Was 'A...\n",
              "4924    Romanian Government To 'Press Ahead' Despite M...\n",
              "5489    Air France Union Urges Members To Refuse Work ...\n",
              "6470    In Rare Video Address, Japanese Emperor Akihit...\n",
              "7383    ISIS Captures Up To 3,000 Fleeing Iraqis, Exec...\n",
              "9207    Syria Ceasefire Deal Put To The Test As Govern...\n",
              "276     U.S. Hits Al Qaeda In Yemen With More Than 20 ...\n",
              "548       Israeli Aircraft Launch Attack On Hamas In Gaza\n",
              "1249    Refugees Stranded As Borders Close And Nations...\n",
              "4313    France Postpones Middle East Peace Talks To En...\n",
              "5387    Clashes In Marseille Amid England-Russia Socce...\n",
              "6080    Chinese President Xi Is About To Solidify His ...\n",
              "3618    Turkish Ministry Says Tests On Syria Attack Vi...\n",
              "6832    Report: Over 130 Migrant Bodies Wash Ashore In...\n",
              "7563    The Huge Challenges Ahead For Saudi Arabia’s O...\n",
              "3581    A Drone May Have Struck A Passenger Jet For Th...\n",
              "9830    British Media Urge People To 'Romaine Calm' As...\n",
              "8869    Dutch Parliament Moves To Ban Burqa And Niqab ...\n",
              "2172    Refugees Who Fled Boko Haram Die Of Starvation...\n",
              "6860    Why Khan Eshieh Palestinian Camp Could Be The ...\n",
              "7281    What World War I Can Teach Us About How To Man...\n",
              "194     Battle Between Turkey & ISIS For Syria's Al-Ba...\n",
              "Name: headline, dtype: object"
            ]
          },
          "metadata": {}
        },
        {
          "output_type": "stream",
          "name": "stdout",
          "text": [
            "\n",
            "'WOMEN' predicted as 'POLITICS' : 22 examples.\n"
          ]
        },
        {
          "output_type": "display_data",
          "data": {
            "text/plain": [
              "2308                                 Way To Go Liz Dolan!\n",
              "9970    Toddler Gets Why We Need Planned Parenthood Be...\n",
              "8938    Women Are Fighting To Change Texas -- And They...\n",
              "2503    Female Politicians Consistently Face Violence,...\n",
              "8205    8 Women Made History at Boston Marathon in 197...\n",
              "9268    Meet A Fierce And Fearless Activist Ready To T...\n",
              "3925    Teen Girls React To Trump's Muslim Ban In Powe...\n",
              "8920    #DearBetsy Campaign Implores Donald Trump's Ed...\n",
              "776     Why I Left a Comfortable Corporate Gig to Brin...\n",
              "7350    40 Tweets Explain Exactly Why SCOTUS’s Ruling ...\n",
              "1334                  Donald Trump's Sexism Strikes Again\n",
              "3473    Joe Biden Says He’s ‘So Sorry’ For What Anita ...\n",
              "187     This Tween Fashion Brand Just Took A Big Step ...\n",
              "151         Unequal Rights: Abortions And Guns In America\n",
              "2443    A New Jersey Judge Asked A Woman If She Closed...\n",
              "9919    Over 200 Women In U.S. National Security Sign ...\n",
              "6483    Why 2015 Will Be the Year of the Powerhouse Woman\n",
              "2865    11 Women Revisit The Places They Experienced S...\n",
              "8530    Read The Devastating Interview With A Woman Wh...\n",
              "9884    5 Strange Realities Of Being A Modern Woman, I...\n",
              "3650    How Women Around The Country Raised Over $1 Mi...\n",
              "9212                         The Modern Woman's Manifesto\n",
              "Name: headline, dtype: object"
            ]
          },
          "metadata": {}
        },
        {
          "output_type": "stream",
          "name": "stdout",
          "text": [
            "\n",
            "'MONEY' predicted as 'POLITICS' : 19 examples.\n"
          ]
        },
        {
          "output_type": "display_data",
          "data": {
            "text/plain": [
              "2376    Target Credit Card Business To Be Sold To TD Bank\n",
              "1813       How to Hit a Home Run on Your Collections Debt\n",
              "1644    No More Bull: What Women Need to Know About th...\n",
              "5371    Linda Aldred, Grandmother Of British Olympian,...\n",
              "5485     Homeless Man Wins $200,000 Lottery Prize (VIDEO)\n",
              "3761    200,000 Homeowners to Receive Principal Reduct...\n",
              "1136    Leisa Mauch, Kansas Lottery 'Winner,' Has NASC...\n",
              "1726    Financial Animals: 8 Pets Who Can Teach Us Mon...\n",
              "4834    Jim Holt Doesn't Have To Pay Back His Unemploy...\n",
              "8387    Cash-Only Marijuana: California Dispensaries B...\n",
              "6352    Behind The Scenes At An American Express Call ...\n",
              "8194    Financial Advice For Couples To Avoid Fights A...\n",
              "1625     To Invest Like Warren Buffett, Learn How to Sell\n",
              "9521    My Experiment to Get Rich From Making Viral Ca...\n",
              "7973    Milk Prices Could Double In January If Farm Bi...\n",
              "5120    Bitcoin: Digital Currency Attracts Financial T...\n",
              "67      Maverick Financial Advisor is Warning Business...\n",
              "5634    Health Care Reform Effects: What The Decision ...\n",
              "6320    Walmart's Fake $100 Bill Fools Leann Ward But ...\n",
              "Name: headline, dtype: object"
            ]
          },
          "metadata": {}
        },
        {
          "output_type": "stream",
          "name": "stdout",
          "text": [
            "\n",
            "'ARTS & CULTURE' predicted as 'POLITICS' : 6 examples.\n"
          ]
        },
        {
          "output_type": "display_data",
          "data": {
            "text/plain": [
              "4101    Thousands Of Naked Blue People Flood City Stre...\n",
              "6415    Reminder: Boycotting Milo Yiannopoulos' Publis...\n",
              "8477    Anonymous Texas School Art Delivers A Message ...\n",
              "9526    Indie Movie Theaters Nationwide To Protest Don...\n",
              "9373    American Teenagers Are Using Slam Poetry To Ma...\n",
              "7658    Vandals Deface Colossal Las Vegas Land Art Art...\n",
              "Name: headline, dtype: object"
            ]
          },
          "metadata": {}
        },
        {
          "output_type": "stream",
          "name": "stdout",
          "text": [
            "\n",
            "'BLACK VOICES' predicted as 'POLITICS' : 39 examples.\n"
          ]
        },
        {
          "output_type": "display_data",
          "data": {
            "text/plain": [
              "5313                                    More Than a Label\n",
              "3706    Jay Ellis On His Personal Mission To Fight HIV...\n",
              "6846    This White House-Worthy Youth Mentoring Progra...\n",
              "7980    Chance The Rapper Supports Mo'Nique's Call For...\n",
              "7174             Cop Stops Erykah Badu On NYE To 'Say Hi'\n",
              "2206    University Of Oklahoma Student Suspended For S...\n",
              "5498    Congressman Gregory Meeks: Obama Should 'Defin...\n",
              "2506    These Sisters Are Using Their Dance Moves To E...\n",
              "7991           Mathew Knowles Slapped With $220K Tax Lien\n",
              "4310    Harry Belafonte Taps Influencers For Powerful ...\n",
              "5398    Chicago Rapper Says 'Chi-Raq' Is 'Exploitative...\n",
              "4156                 The Julian Bond I Remember and Honor\n",
              "415     Really? CNN Commentator Can't Tell April Ryan ...\n",
              "8265    Dr. King Died Fighting For Economic Justice. N...\n",
              "9283    Immigrants Are More Than What They Bring To Th...\n",
              "5926    Minnesota Lawmaker Proposes 'Prince Act' So Ot...\n",
              "9582    They're Finally Going To Close Rikers Island, ...\n",
              "196     Does Lupita Nyong'o's Rise Signal the End of '...\n",
              "9527    Nick Cannon Says The Oscars Debate Is A Distra...\n",
              "3220    People Are Mad At Meryl Streep For Saying 'We'...\n",
              "5649    Ramarley Graham's Mother Tells DOJ To Stop Dra...\n",
              "3410    President Obama: I Never Doubted My Ability To...\n",
              "9850    Howard University Needs A New President: Henry...\n",
              "2179    Male African-American Unemployment Is Over 50 ...\n",
              "2423    Bill Maher Jokes He's A 'House N****r' On 'Rea...\n",
              "3597    Colin Kaepernick Covers GQ As 'Citizen Of The ...\n",
              "9063    Referee Who Made Wrestler Cut His Locs To Avoi...\n",
              "9631    Wife Of First White NFLer To Kneel During Anth...\n",
              "4030    Affirmative Action Allegations, Trump's Newest...\n",
              "5057    The Reporter Cam Newton Insulted Apologizes Fo...\n",
              "2560    Leslie Uggams Talks 'Deadpool,' 'Roots’ Remake...\n",
              "7751              Brown Lives Matter, Muslim Lives Matter\n",
              "2738    Solidarity, Prayers And Support For Torched St...\n",
              "9308    Mississippi Town Erects Emmett Till Museum 60 ...\n",
              "6659              How Iggy Azalea Mastered Her ‘Blaccent’\n",
              "3161    Tina Knowles Donates To Louisiana Flood Victim...\n",
              "8138    Don Lemon Takes Aim At Donald Trump: 'It’s My ...\n",
              "4244                           My Ancestors' Talking-book\n",
              "1752    Carmelo Anthony Wears 'Melo' Bathrobe To The S...\n",
              "Name: headline, dtype: object"
            ]
          },
          "metadata": {}
        },
        {
          "output_type": "stream",
          "name": "stdout",
          "text": [
            "\n",
            "'TRAVEL' predicted as 'POLITICS' : 33 examples.\n"
          ]
        },
        {
          "output_type": "display_data",
          "data": {
            "text/plain": [
              "4387    Rick Steves' European Christmas: Presepi Mange...\n",
              "454           How Ireland Started Celebrating Irish Pride\n",
              "9983       When It's Worthwhile to Pay Extra Airline Fees\n",
              "7688              From Pre-Christmas Tree to O Tannenbaum\n",
              "9557                         A Roman Getaway To Terracina\n",
              "3051    The Surprising Reason The FCC Chairman Doesn't...\n",
              "5886                     How To Trek To Everest Base Camp\n",
              "9495    Think Twice Before You Ride This Terrifying Gl...\n",
              "4085                        Bon Anniversaire, Here In NYC\n",
              "4022    Visiting North Korea and Vietnam: A Tale of Tw...\n",
              "8278    Clear Suitcases Are A Thing, In Case Traveling...\n",
              "5742                       The Migration Arrives In Kenya\n",
              "3557              Belgium's Bizarre and Beloved Festivals\n",
              "3664              What the @$%* IS the Bullet Ant Ritual?\n",
              "3212    100 Miles of Wild: Madagascar's Limestone Laby...\n",
              "3613          The 2016 Volvo XC 90 Takes Catalonia, Spain\n",
              "304     Southwest Montana And The Rivers That Run Thro...\n",
              "2709        The 5 Most Dangerous Places to Celebrate 4/20\n",
              "1817                       The Cheapest Times Fly In 2013\n",
              "825                                Top 5 Haunted Hayrides\n",
              "9137    Fearless Service Dog Is Totally Ready To Fight...\n",
              "7920       Boeing 787 Flies While South Carolinians Swoon\n",
              "7389                     The Quieter Side Of Provincetown\n",
              "7928    Well If This Isn't The Most Stunning Cliff Tow...\n",
              "8975           Former Solo Travelers Can Stay Independent\n",
              "3629                                  Untamed in Ucluelet\n",
              "4160    Why Everyone (Except President Obama) Should A...\n",
              "8722             Shark Spotted By Four Seasons Maui Guest\n",
              "3046                       How to do Broadway on a Budget\n",
              "6236             Low-Budget Airline To Take Off In Africa\n",
              "783                    Soar at Sweden's Sublime Treehotel\n",
              "7988                             Konya: Where Monks Whirl\n",
              "1090                   I Left My Clothes In San Francisco\n",
              "Name: headline, dtype: object"
            ]
          },
          "metadata": {}
        },
        {
          "output_type": "stream",
          "name": "stdout",
          "text": [
            "\n",
            "'GOOD NEWS' predicted as 'POLITICS' : 7 examples.\n"
          ]
        },
        {
          "output_type": "display_data",
          "data": {
            "text/plain": [
              "9276    Woman Wakes Up To Lions Licking Water Off Her ...\n",
              "1106    Community Donates $70,000 To Give This Veteran...\n",
              "2509                           What Are You Thankful For?\n",
              "8601    Uber And Lyft Offer Homeless Vets Free Rides T...\n",
              "8524                     How to Be More Creative Tomorrow\n",
              "3663    Bald Eagle Survives Hurricane Matthew, Then Ge...\n",
              "9660    Facebook Helps Save Life Of Man With Disabilit...\n",
              "Name: headline, dtype: object"
            ]
          },
          "metadata": {}
        },
        {
          "output_type": "stream",
          "name": "stdout",
          "text": [
            "\n",
            "'MEDIA' predicted as 'POLITICS' : 28 examples.\n"
          ]
        },
        {
          "output_type": "display_data",
          "data": {
            "text/plain": [
              "3086    AP Denies Claim That North Korea Censors Pyong...\n",
              "4757    The Media Need To Think Twice About How They P...\n",
              "1069    U.S. Journalist Missing Since 2012 Freed By Ki...\n",
              "9742    The CIA’s 60-Year History Of Fake News: How Th...\n",
              "6651    CNN Proposed Obama Town Hall On Gun Violence A...\n",
              "4127    Sinclair Broadcast Boss Donated To GOP Rep Who...\n",
              "7309    Watergate Prosecutor Warns Trump: Pleading The...\n",
              "6078    CNN Anchor Apologizes For Calling Dallas Shoot...\n",
              "5632    Sean Spicer: Trump Not Worried About Breaking ...\n",
              "6715                            Andrew Sullivan Signs Off\n",
              "7864    Keith Olbermann Breaks Down How The Media Now ...\n",
              "3437    News Organizations Caught In Biden Limbo Along...\n",
              "1870    New York Times Uses Virtual Reality To Show Pa...\n",
              "7192            Best Buy, 'Serial' and the Era of Outrage\n",
              "3910                  Vice Media Rides Lofty Expectations\n",
              "8234    It’s Official: We Now Get Most Of Our News Fro...\n",
              "9688    It Took Just 1 Minute For Chuck Todd To Shut D...\n",
              "6147    CNN Reporter Probably Wishes She Didn't Say Th...\n",
              "9549      Keith Olbermann: Is The Trump White House High?\n",
              "6690    Anderson Cooper Calls Out Trump For Changing H...\n",
              "2730    Twitter Users Mock Trump’s Weird ‘Dogs Playing...\n",
              "6474    Hillary Clinton Questions Media Trying To 'App...\n",
              "8522    Tribune Publishing Could Not Have Picked A Wor...\n",
              "1790    Mark Zuckerberg To Meet With Glenn Beck, Top C...\n",
              "613       How The Media Continues To Get Iraq Story Wrong\n",
              "6722    Why Hasn't A Woman Run The New York Times Styl...\n",
              "5003    Alan Rusbridger, Once Guardian’s Celebrated Ed...\n",
              "1811    First Look Media Wants To Make The Next ‘Spotl...\n",
              "Name: headline, dtype: object"
            ]
          },
          "metadata": {}
        },
        {
          "output_type": "stream",
          "name": "stdout",
          "text": [
            "\n",
            "'SCIENCE' predicted as 'POLITICS' : 11 examples.\n"
          ]
        },
        {
          "output_type": "display_data",
          "data": {
            "text/plain": [
              "578     Majorana Fermion Particle Evidence Found By Ph...\n",
              "4737    Elon Musk: SpaceX Launch Explosion Is 'Most Di...\n",
              "3524    Polar Bears Meet For First Time And Become Ins...\n",
              "98      The (Mismatched) Evolution of Man and Its Infl...\n",
              "5669                       The Truth About Global Warming\n",
              "1013                   Who Was the Greatest Psychologist?\n",
              "9978    Does Natural Selection Really Explain What Mak...\n",
              "5710         Eta Aquarid Meteor Shower Peaks Today, May 5\n",
              "9010    Drunk Settlers To Blame For Aussie Accent, Lec...\n",
              "4561    Consensual Sadomasochism May Actually Lead To ...\n",
              "2876    Geoengineering White Sky By Seeding Stratosphe...\n",
              "Name: headline, dtype: object"
            ]
          },
          "metadata": {}
        },
        {
          "output_type": "stream",
          "name": "stdout",
          "text": [
            "\n",
            "'WEIRD NEWS' predicted as 'POLITICS' : 14 examples.\n"
          ]
        },
        {
          "output_type": "display_data",
          "data": {
            "text/plain": [
              "6005    Donald Trump's 'Screaming' Face On A Newspaper...\n",
              "6685    3 Hostages Actually Just Hallucinating On Meth...\n",
              "8098          Cloud Of Controversy Over Pot-Smoking Santa\n",
              "4892             Shark Bites Surfer On Oahu's North Shore\n",
              "4977    Drowsy Driving Delivers Unto Us A Horde Of Bee...\n",
              "7743    People Pick Awful Tattoos By Chance And Still ...\n",
              "9675    'Drunk' Moose Terrorizing Sweden Probably Not ...\n",
              "6909    Student Driver Crashes Car Through Front Of Dr...\n",
              "2472    Man Who Survived Bear Attack Gets Bitten By A ...\n",
              "949     Minor Leaguer Strikes Out In The Weirdest Way ...\n",
              "1526    Woman Allegedly Blows Up Pee Sample In A 7-Ele...\n",
              "8971    Maybe Don't Give The Sheriff A Grenade As A Ga...\n",
              "8105    Seagull Steals Potato Chips From Coffee Shop L...\n",
              "7682    July 4th Display Ends With A Big Bang As Firew...\n",
              "Name: headline, dtype: object"
            ]
          },
          "metadata": {}
        },
        {
          "output_type": "stream",
          "name": "stdout",
          "text": [
            "\n",
            "'ARTS' predicted as 'POLITICS' : 3 examples.\n"
          ]
        },
        {
          "output_type": "display_data",
          "data": {
            "text/plain": [
              "487     These 8 Arab Cartoonists Fight For Freedom Of ...\n",
              "2241                                 Here Comes the Judge\n",
              "4787    The Qalandiya International, the second editio...\n",
              "Name: headline, dtype: object"
            ]
          },
          "metadata": {}
        },
        {
          "output_type": "stream",
          "name": "stdout",
          "text": [
            "\n",
            "'EDUCATION' predicted as 'POLITICS' : 11 examples.\n"
          ]
        },
        {
          "output_type": "display_data",
          "data": {
            "text/plain": [
              "5567                  Engaging Girls in Your STEM Program\n",
              "3990    It's So Obvious That You Are a Med School Student\n",
              "6756           The Vergara Era, Part 2: A New Opportunity\n",
              "8815    Minneapolis Teacher Contract Race Language Ign...\n",
              "4827    Speaking of Measles, Scott Walker's Vaccine Ag...\n",
              "8703           My Son Only Read One Book in Middle School\n",
              "2350    The Political Is Personal: How The GOP Tax On ...\n",
              "2033                                  Testing the Teacher\n",
              "2381                                Homage to My Teachers\n",
              "3481                   Why We Should Not Copy South Korea\n",
              "1626    Tri-Sector Athlete in Education: Daniel Rabuzz...\n",
              "Name: headline, dtype: object"
            ]
          },
          "metadata": {}
        },
        {
          "output_type": "stream",
          "name": "stdout",
          "text": [
            "\n",
            "'LATINO VOICES' predicted as 'POLITICS' : 9 examples.\n"
          ]
        },
        {
          "output_type": "display_data",
          "data": {
            "text/plain": [
              "8850    There's Going To Be A Concert On The U.S.-Mexi...\n",
              "6821    What These 13 May Day Activists Want Trump To ...\n",
              "5562    MLB Wants To Play In Cuba For First Time Since...\n",
              "8767    2015 Latin Grammys Get Political As Artists Ur...\n",
              "8900    NY Public Library Spotlights Latino Writers Fo...\n",
              "7133    Immigrant Rights Activists To Congress: Not On...\n",
              "2607                        A Caricature of a Cuban Woman\n",
              "8484    'Hands Of Stone' Director On How Lack Of Diver...\n",
              "7016    UNLV Erupts After Instructor Threatens To Turn...\n",
              "Name: headline, dtype: object"
            ]
          },
          "metadata": {}
        },
        {
          "output_type": "stream",
          "name": "stdout",
          "text": [
            "\n",
            "'TASTE' predicted as 'POLITICS' : 10 examples.\n"
          ]
        },
        {
          "output_type": "display_data",
          "data": {
            "text/plain": [
              "5988                 Gluten-Free Quinoa Stuffed Mushrooms\n",
              "4608    Scaramucci: Trump Isn't 'Elite' Because He Eat...\n",
              "8018    If This Doesn't Inspire You To Start Prepping ...\n",
              "5747    'Pioneer Woman' Under Fire For Racist Segment ...\n",
              "2363                  What Is Eggnog Made Out Of, Anyway?\n",
              "9773    Governor Scott Walker Angers Beer Lovers Every...\n",
              "4103             Frost Your Own Beer Glass In Record Time\n",
              "9922    What Would Happen Tomorrow if Coffee Were Banned?\n",
              "5951                California's Foie Gras Ban Overturned\n",
              "1742    The Surprising Truth About What's REALLY In Co...\n",
              "Name: headline, dtype: object"
            ]
          },
          "metadata": {}
        },
        {
          "output_type": "stream",
          "name": "stdout",
          "text": [
            "\n",
            "'GREEN' predicted as 'POLITICS' : 17 examples.\n"
          ]
        },
        {
          "output_type": "display_data",
          "data": {
            "text/plain": [
              "2535    Deadly Flash Flooding Rips Through Utah-Arizon...\n",
              "2288                      Far Flung, But Never Far Afield\n",
              "2436    The Story Behind A Spooky Photo Of Fish Frozen...\n",
              "1132    El Salvador Zoo Hippo Died From Poor Care, Not...\n",
              "9054                    Oceanic Coal Pollution, Epic Rate\n",
              "5093                            Decarbonizing The Economy\n",
              "5826    Harvard Students and Alumni Launch Weeklong Si...\n",
              "509                Why We Need To Care More About Sherpas\n",
              "4069    Wildfire-Scarred California Communities Must N...\n",
              "8407       Eradicate Pit Bulls?  Not Labrador Retrievers?\n",
              "7727    Elon Musk Wins Shareholder Vote To Merge Tesla...\n",
              "7586    Major Grassroots Victory: Last Coal Export Ter...\n",
              "8517    If We Want To Stop Climate Change, We're Going...\n",
              "6833    Zero Deforestation Commitments the First Step ...\n",
              "9765    Illinois Approves Secret Fracking Rules: IL En...\n",
              "6140                         The State of the Environment\n",
              "1119    California Bridge Passed Inspection Before Col...\n",
              "Name: headline, dtype: object"
            ]
          },
          "metadata": {}
        },
        {
          "output_type": "stream",
          "name": "stdout",
          "text": [
            "\n",
            "'STYLE' predicted as 'POLITICS' : 6 examples.\n"
          ]
        },
        {
          "output_type": "display_data",
          "data": {
            "text/plain": [
              "3671    These Cheeky Marc Jacobs Hats Let You Protest ...\n",
              "3027                 We Can't Believe Kim Let This Happen\n",
              "634     Jared Leto Nearly Sacrificed His Eyebrows For ...\n",
              "1675       A Step By Step To Vacationing In The Mountains\n",
              "4535    Miss Universe Japan Faces Criticism That She I...\n",
              "9370    The Inspiring Way Tyra Banks Let Her Haters Be...\n",
              "Name: headline, dtype: object"
            ]
          },
          "metadata": {}
        },
        {
          "output_type": "stream",
          "name": "stdout",
          "text": [
            "\n",
            "'U.S. NEWS' predicted as 'POLITICS' : 17 examples.\n"
          ]
        },
        {
          "output_type": "display_data",
          "data": {
            "text/plain": [
              "6883    Kendrick Castillo Identified As Hero Student W...\n",
              "6109    Calls To Suicide Hotlines Rise Sharply After C...\n",
              "9751    Families Cling To Hope As Condo Collapse Death...\n",
              "2029    Louisiana Police Officer Suggests Alexandria O...\n",
              "760     Vernon Jordan, Civil Rights Activist And Lawye...\n",
              "2380    Conservative Radio Host Phil Valentine Dies Af...\n",
              "317     Megan Rapinoe Reacts To Protest Ban At 2020 Ol...\n",
              "4269    CDC Recommends COVID-19 Shots For Children Und...\n",
              "1957    More Than 600 Dogs Rescued From Puppy Mill In ...\n",
              "3344    New Jersey Police Won't Face Criminal Charges ...\n",
              "5556    Former NY Gov. Andrew Cuomo Rips 'Cancel Cultu...\n",
              "4038    Delta Air Lines To Impose Monthly Charge For U...\n",
              "6780    Federal Prosecutors To Retry Border Humanitari...\n",
              "2838    Florida Police Recover Body Of Missing Woman A...\n",
              "347     Miami Courthouse To Undergo Urgent Repairs Aft...\n",
              "8880    American Families Will Pay $1,000 Per Year For...\n",
              "880     Some Young Americans Warm To Socialism, Even M...\n",
              "Name: headline, dtype: object"
            ]
          },
          "metadata": {}
        },
        {
          "output_type": "stream",
          "name": "stdout",
          "text": [
            "\n",
            "'CULTURE & ARTS' predicted as 'POLITICS' : 5 examples.\n"
          ]
        },
        {
          "output_type": "display_data",
          "data": {
            "text/plain": [
              "4172    'War And Peace' Sings! Colin Quinn Gets Schola...\n",
              "4273                      Miyoshi Barosh in the ImageBlog\n",
              "9782    First Riot Grrrl Exhibition Explores The Lasti...\n",
              "1225                          Doug Argue on the ImageBlog\n",
              "971     Women's History Month Artists: Celebrating WHM...\n",
              "Name: headline, dtype: object"
            ]
          },
          "metadata": {}
        },
        {
          "output_type": "stream",
          "name": "stdout",
          "text": [
            "\n",
            "'FIFTY' predicted as 'POLITICS' : 12 examples.\n"
          ]
        },
        {
          "output_type": "display_data",
          "data": {
            "text/plain": [
              "1109    5 Signs I Need to Get the Heck Out of My Comfo...\n",
              "6376            The 8 Main Concerns Shared By Older Women\n",
              "9213         What It Takes To Be A Real Gentleman In 2014\n",
              "8214      7 Scams That Can Absolutely Wreck Your Finances\n",
              "9068    5 Glorious Pacific Coast Beach Retirement Options\n",
              "1118         The Surprise That Comes In A Packet Of Seeds\n",
              "9096    Retirement Survey Finds 60% Of Retirees Lack P...\n",
              "1995    Pre-Thanksgiving: Jayful Mayhem Involving Larg...\n",
              "5963    Why Ecuador Will Always Be The Ultimate Retire...\n",
              "8860    I'm 53 With Virtually No Retirement Savings --...\n",
              "7077                      Why Am I So Tired All The Time?\n",
              "9740       Why Women View Clothes Shopping So Differently\n",
              "Name: headline, dtype: object"
            ]
          },
          "metadata": {}
        },
        {
          "output_type": "stream",
          "name": "stdout",
          "text": [
            "\n",
            "'PARENTING' predicted as 'PARENTS' : 6 examples.\n"
          ]
        },
        {
          "output_type": "display_data",
          "data": {
            "text/plain": [
              "7577                 What the Olympics Can Teach Our Kids\n",
              "2962                        An Open Letter to Hilary Duff\n",
              "9716                      An Open Letter to Gabby Douglas\n",
              "9285    An Open Letter to the Parents of the Stephento...\n",
              "6317    Top 9 Worst Ways to Explain To Your Kids Where...\n",
              "9727       5 Ways Parents Can Teach Their Kids To Forgive\n",
              "Name: headline, dtype: object"
            ]
          },
          "metadata": {}
        },
        {
          "output_type": "stream",
          "name": "stdout",
          "text": [
            "\n",
            "'WEDDINGS' predicted as 'BUSINESS' : 2 examples.\n"
          ]
        },
        {
          "output_type": "display_data",
          "data": {
            "text/plain": [
              "5334         Should You Run Your Marriage Like A Business\n",
              "5494    Destination Weddings: Big Business in Kingston...\n",
              "Name: headline, dtype: object"
            ]
          },
          "metadata": {}
        },
        {
          "output_type": "stream",
          "name": "stdout",
          "text": [
            "\n",
            "'WELLNESS' predicted as 'HEALTHY LIVING' : 2 examples.\n"
          ]
        },
        {
          "output_type": "display_data",
          "data": {
            "text/plain": [
              "5523    How I Learned to Stop Fearing My Reflection\n",
              "5512                         Learning From Jealousy\n",
              "Name: headline, dtype: object"
            ]
          },
          "metadata": {}
        },
        {
          "output_type": "stream",
          "name": "stdout",
          "text": [
            "\n",
            "'QUEER VOICES' predicted as 'HEALTHY LIVING' : 2 examples.\n"
          ]
        },
        {
          "output_type": "display_data",
          "data": {
            "text/plain": [
              "5013    How Doctors Can Stop Shutting Marginalized Gro...\n",
              "8497              The Lethal Cost of Mental Health Stigma\n",
              "Name: headline, dtype: object"
            ]
          },
          "metadata": {}
        },
        {
          "output_type": "stream",
          "name": "stdout",
          "text": [
            "\n",
            "'BLACK VOICES' predicted as 'CRIME' : 2 examples.\n"
          ]
        },
        {
          "output_type": "display_data",
          "data": {
            "text/plain": [
              "2799    Man At Center Of D.C. Twerking Sex Abuse Case ...\n",
              "83      Death Of Keeven Robinson, Black Louisiana Man ...\n",
              "Name: headline, dtype: object"
            ]
          },
          "metadata": {}
        },
        {
          "output_type": "stream",
          "name": "stdout",
          "text": [
            "\n",
            "'WEIRD NEWS' predicted as 'CRIME' : 3 examples.\n"
          ]
        },
        {
          "output_type": "display_data",
          "data": {
            "text/plain": [
              "9798    Man Arrested For Allegedly Wielding Samurai Sw...\n",
              "1815    Man Of Steel: Doctors Remove 40 Knives From Ma...\n",
              "2511    Florida Man Allegedly Threatened To Shoot Driv...\n",
              "Name: headline, dtype: object"
            ]
          },
          "metadata": {}
        },
        {
          "output_type": "stream",
          "name": "stdout",
          "text": [
            "\n",
            "'PARENTING' predicted as 'QUEER VOICES' : 2 examples.\n"
          ]
        },
        {
          "output_type": "display_data",
          "data": {
            "text/plain": [
              "3125              Table Talk: The End Of Trans Fats\n",
              "9929    Open Letter: It's Not the Sex I Worry About\n",
              "Name: headline, dtype: object"
            ]
          },
          "metadata": {}
        },
        {
          "output_type": "stream",
          "name": "stdout",
          "text": [
            "\n",
            "'ENTERTAINMENT' predicted as 'QUEER VOICES' : 2 examples.\n"
          ]
        },
        {
          "output_type": "display_data",
          "data": {
            "text/plain": [
              "7195    Trixie Mattel Sounds Off On Shocking 'RuPaul's...\n",
              "3193    Gay Porn, Murder And James Franco's Druthers: ...\n",
              "Name: headline, dtype: object"
            ]
          },
          "metadata": {}
        },
        {
          "output_type": "stream",
          "name": "stdout",
          "text": [
            "\n",
            "'TRAVEL' predicted as 'SPORTS' : 2 examples.\n"
          ]
        },
        {
          "output_type": "display_data",
          "data": {
            "text/plain": [
              "2648    36 Reasons Seattle Not Only Won The Super Bowl...\n",
              "4849    Twister Seat Could Make Flying Coach Way More ...\n",
              "Name: headline, dtype: object"
            ]
          },
          "metadata": {}
        },
        {
          "output_type": "stream",
          "name": "stdout",
          "text": [
            "\n",
            "'SCIENCE' predicted as 'SPORTS' : 2 examples.\n"
          ]
        },
        {
          "output_type": "display_data",
          "data": {
            "text/plain": [
              "9796    Skeletons And Ancient Gold Coins Found During ...\n",
              "4626    Can An Astrophysicist Change The Way We Watch ...\n",
              "Name: headline, dtype: object"
            ]
          },
          "metadata": {}
        },
        {
          "output_type": "stream",
          "name": "stdout",
          "text": [
            "\n",
            "'WELLNESS' predicted as 'STYLE & BEAUTY' : 3 examples.\n"
          ]
        },
        {
          "output_type": "display_data",
          "data": {
            "text/plain": [
              "185     Definitions Of 'Joy': How You Describe That Lo...\n",
              "3332                    Thank You for Blueberries (VIDEO)\n",
              "6906    Oasis 2012: Who's At HuffPost's Oasis In Charl...\n",
              "Name: headline, dtype: object"
            ]
          },
          "metadata": {}
        },
        {
          "output_type": "stream",
          "name": "stdout",
          "text": [
            "\n",
            "'WORLDPOST' predicted as 'STYLE & BEAUTY' : 2 examples.\n"
          ]
        },
        {
          "output_type": "display_data",
          "data": {
            "text/plain": [
              "3768    Berlin Wall: Haunting Photos From the Birth of...\n",
              "4109    Photos Capture Harrowing Arrival Of Refugees O...\n",
              "Name: headline, dtype: object"
            ]
          },
          "metadata": {}
        },
        {
          "output_type": "stream",
          "name": "stdout",
          "text": [
            "\n",
            "'HOME & LIVING' predicted as 'STYLE & BEAUTY' : 14 examples.\n"
          ]
        },
        {
          "output_type": "display_data",
          "data": {
            "text/plain": [
              "190     Kathryn Ireland Shows Off Her Elegant Yet Comf...\n",
              "6591    Grand Piano And Violin-Shaped House In China I...\n",
              "8690    Here's How To Find The Best Fire Pits For Ente...\n",
              "9870    Jill Goldberg, Interior Designer, Shares Her L...\n",
              "2030    Mother's Day 2012: 15 Things Your Mother Was R...\n",
              "8606    Jonathan Adler's Bar Mitzvah Photo Is The Best...\n",
              "5091    Iris Apfel's Apartment Proves That More Is Rea...\n",
              "772     35 Fabulous Vintage Pics Of Betty White, In Ho...\n",
              "4017       12 Strange Craigslist Ads Of The Week (PHOTOS)\n",
              "6916    Charlie Hague And Megan Williams' 'Hobbit' Hom...\n",
              "3654    10 Unmistakable Signs That You're In A Grown-U...\n",
              "800     Playboy Offices In Beverly Hills: A Tour Of Th...\n",
              "2983    The Cuddle Mattress, Which Lets You Snuggle Co...\n",
              "5395    Popular Pinterest Crafts That Are Repinned Ove...\n",
              "Name: headline, dtype: object"
            ]
          },
          "metadata": {}
        },
        {
          "output_type": "stream",
          "name": "stdout",
          "text": [
            "\n",
            "'SPORTS' predicted as 'STYLE & BEAUTY' : 2 examples.\n"
          ]
        },
        {
          "output_type": "display_data",
          "data": {
            "text/plain": [
              "8802    Roosevelt Jones And Ben McLemore Had The Most ...\n",
              "6519    Akeem Hunt Touchdown: Purdue RB Tightropes Sid...\n",
              "Name: headline, dtype: object"
            ]
          },
          "metadata": {}
        },
        {
          "output_type": "stream",
          "name": "stdout",
          "text": [
            "\n",
            "'WEDDINGS' predicted as 'STYLE & BEAUTY' : 6 examples.\n"
          ]
        },
        {
          "output_type": "display_data",
          "data": {
            "text/plain": [
              "9822               Just Say No (to the Bridesmaids Dress)\n",
              "2470    Vintage Bridesmaid Dresses That Don't Look Lik...\n",
              "3223    ACM Awards: Red Carpet Dresses That Could Be W...\n",
              "3809     Halloween Weddings: Fab Or Frightening? (PHOTOS)\n",
              "2636    Wedding Dress Trends From New York's Spring/Su...\n",
              "7258    Awkward Couple Photos: Funniest Holiday Couple...\n",
              "Name: headline, dtype: object"
            ]
          },
          "metadata": {}
        },
        {
          "output_type": "stream",
          "name": "stdout",
          "text": [
            "\n",
            "'FOOD & DRINK' predicted as 'STYLE & BEAUTY' : 6 examples.\n"
          ]
        },
        {
          "output_type": "display_data",
          "data": {
            "text/plain": [
              "3986    Someone Invented A Vagina Toaster, So All You ...\n",
              "2579    Artist Re-Creates Death Row Inmates' Last Meal...\n",
              "9616    January's Nachos Of The Month: Green Goddess N...\n",
              "4041    17 Nacho Fails That Nearly Ruined Them For Us ...\n",
              "4140    Grumpy Cat Mug Features Irritable Likeness Of ...\n",
              "5443    Waffle House Instagram: Must Follow For Hash B...\n",
              "Name: headline, dtype: object"
            ]
          },
          "metadata": {}
        },
        {
          "output_type": "stream",
          "name": "stdout",
          "text": [
            "\n",
            "'COMEDY' predicted as 'STYLE & BEAUTY' : 4 examples.\n"
          ]
        },
        {
          "output_type": "display_data",
          "data": {
            "text/plain": [
              "779                                27 Mind-Blowing Photos\n",
              "2786                 One Apple's Downward Spiral (PHOTOS)\n",
              "22               17 Creepy Easter Bunny Costumes (PHOTOS)\n",
              "9049    The Best Late Night Clips of the Week (VIDEO/P...\n",
              "Name: headline, dtype: object"
            ]
          },
          "metadata": {}
        },
        {
          "output_type": "stream",
          "name": "stdout",
          "text": [
            "\n",
            "'PARENTING' predicted as 'STYLE & BEAUTY' : 3 examples.\n"
          ]
        },
        {
          "output_type": "display_data",
          "data": {
            "text/plain": [
              "6062                   'Twas the Night Before High School\n",
              "8236    Brave Little Girl Makes Friends With A Robot A...\n",
              "7643    Grace, Little Girl, Dances In Car To Gotye's '...\n",
              "Name: headline, dtype: object"
            ]
          },
          "metadata": {}
        },
        {
          "output_type": "stream",
          "name": "stdout",
          "text": [
            "\n",
            "'ENVIRONMENT' predicted as 'STYLE & BEAUTY' : 3 examples.\n"
          ]
        },
        {
          "output_type": "display_data",
          "data": {
            "text/plain": [
              "8709                            Animal Photos Of The Week\n",
              "3376    2013 Cicadas' Parents Had An Eventful Year In ...\n",
              "4627    Gorilla Pictures: Photos Of Majestic Apes And ...\n",
              "Name: headline, dtype: object"
            ]
          },
          "metadata": {}
        },
        {
          "output_type": "stream",
          "name": "stdout",
          "text": [
            "\n",
            "'DIVORCE' predicted as 'STYLE & BEAUTY' : 2 examples.\n"
          ]
        },
        {
          "output_type": "display_data",
          "data": {
            "text/plain": [
              "4448                             What It SHOULD Look Like\n",
              "6812    This Online Ad For A Dresser Is Bitter In The ...\n",
              "Name: headline, dtype: object"
            ]
          },
          "metadata": {}
        },
        {
          "output_type": "stream",
          "name": "stdout",
          "text": [
            "\n",
            "'BLACK VOICES' predicted as 'STYLE & BEAUTY' : 4 examples.\n"
          ]
        },
        {
          "output_type": "display_data",
          "data": {
            "text/plain": [
              "9758    Kerry Washington Gets Pretty In Polka Dots & M...\n",
              "2545    Nene Leakes, Kerry Washington And Essence Atki...\n",
              "9876    One Vogue Cover Doesn't Solve Fashion's Big Ra...\n",
              "9009    These Photos Show Why You Should Celebrate Jun...\n",
              "Name: headline, dtype: object"
            ]
          },
          "metadata": {}
        },
        {
          "output_type": "stream",
          "name": "stdout",
          "text": [
            "\n",
            "'TRAVEL' predicted as 'STYLE & BEAUTY' : 9 examples.\n"
          ]
        },
        {
          "output_type": "display_data",
          "data": {
            "text/plain": [
              "1240    Whistler Blackcomb: British Columbia's Back Ya...\n",
              "6648    Enver Hoxha's Bunkers Still Litter Albania (PH...\n",
              "2178                      One Week in Prague and Budapest\n",
              "6106    Aldwych Tube Station: Abandoned Station Opened...\n",
              "3202         Breathtaking Photos of Lighthouses in Winter\n",
              "963             Croatia's Beauty Is Overwhelming (PHOTOS)\n",
              "6896    Why Your Body, Mind and Soul Will Love the Cen...\n",
              "8081                       Inheriting Mardi Gras (PHOTOS)\n",
              "8740    If You're Traveling In New York's North Countr...\n",
              "Name: headline, dtype: object"
            ]
          },
          "metadata": {}
        },
        {
          "output_type": "stream",
          "name": "stdout",
          "text": [
            "\n",
            "'ARTS' predicted as 'STYLE & BEAUTY' : 3 examples.\n"
          ]
        },
        {
          "output_type": "display_data",
          "data": {
            "text/plain": [
              "4430                               Eat Different (PHOTOS)\n",
              "7690    15 Haunting Photos From Inside The Chernobyl E...\n",
              "5420    Artist Turns Vintage Library Of Congress Photo...\n",
              "Name: headline, dtype: object"
            ]
          },
          "metadata": {}
        },
        {
          "output_type": "stream",
          "name": "stdout",
          "text": [
            "\n",
            "'STYLE' predicted as 'STYLE & BEAUTY' : 13 examples.\n"
          ]
        },
        {
          "output_type": "display_data",
          "data": {
            "text/plain": [
              "5611    Marsala: How to Wear and Decorate With the Col...\n",
              "9320          The Best Of Paris Fashion Week Street Style\n",
              "6694    Saoirse Ronan's Stunning Style Evolution Throu...\n",
              "5138    Locally Made And Globally Sourced, Cienne Foun...\n",
              "9679    Yes, Lisa Frank Hair Is A Trend That Is Actual...\n",
              "1666    Keniece Walker: I Live In Memphis, Tennessee, ...\n",
              "4976    A Chat With Celebrity Makeup Artist Charlotte ...\n",
              "2706    Cindy Crawford's Kids Land Major Fashion Sprea...\n",
              "6381    12 Style Icons Who Ditched Heels For Flats And...\n",
              "4706          The Eyes Have It On This Week's Beauty List\n",
              "1657    14 Hair & Makeup Looks We'll NEVER Forget From...\n",
              "7919          Why I Love The Realistic Fashion On 'Girls'\n",
              "6043    Here's the First Look at Cara Delevingne in th...\n",
              "Name: headline, dtype: object"
            ]
          },
          "metadata": {}
        },
        {
          "output_type": "stream",
          "name": "stdout",
          "text": [
            "\n",
            "'CULTURE & ARTS' predicted as 'STYLE & BEAUTY' : 5 examples.\n"
          ]
        },
        {
          "output_type": "display_data",
          "data": {
            "text/plain": [
              "7848    Dorothea Lange Birthday: 'Migrant Mother' Phot...\n",
              "7735                   The Week In Art: From MOCA To HoMu\n",
              "8398    Laser Forest Installation: Marshmallow Laser F...\n",
              "7904    Betty Draper Photo By Frank Ockenfels Will Ful...\n",
              "8209    Barbara Kruger Birthday: The Subversive Female...\n",
              "Name: headline, dtype: object"
            ]
          },
          "metadata": {}
        },
        {
          "output_type": "stream",
          "name": "stdout",
          "text": [
            "\n",
            "'DIVORCE' predicted as 'WEDDINGS' : 2 examples.\n"
          ]
        },
        {
          "output_type": "display_data",
          "data": {
            "text/plain": [
              "3118       Earning My Ph.D Dealt My Marriage A Final Blow\n",
              "3759    Divorced Brides: Wedding Pictures Become Works...\n",
              "Name: headline, dtype: object"
            ]
          },
          "metadata": {}
        },
        {
          "output_type": "stream",
          "name": "stdout",
          "text": [
            "\n",
            "'WELLNESS' predicted as 'FOOD & DRINK' : 3 examples.\n"
          ]
        },
        {
          "output_type": "display_data",
          "data": {
            "text/plain": [
              "1730                            How to Make Your Own Luck\n",
              "298                                        Sweet Nothings\n",
              "9516    At-Home Facial: How to Get Professional Result...\n",
              "Name: headline, dtype: object"
            ]
          },
          "metadata": {}
        },
        {
          "output_type": "stream",
          "name": "stdout",
          "text": [
            "\n",
            "'COMEDY' predicted as 'FOOD & DRINK' : 2 examples.\n"
          ]
        },
        {
          "output_type": "display_data",
          "data": {
            "text/plain": [
              "6152    One Day, Restaurants That Only Make Food For I...\n",
              "6580                            Alright, I Have Bad Taste\n",
              "Name: headline, dtype: object"
            ]
          },
          "metadata": {}
        },
        {
          "output_type": "stream",
          "name": "stdout",
          "text": [
            "\n",
            "'TASTE' predicted as 'FOOD & DRINK' : 12 examples.\n"
          ]
        },
        {
          "output_type": "display_data",
          "data": {
            "text/plain": [
              "5946    Cooking Off The Cuff: The Early-Autumn Market ...\n",
              "9416    Pumpkin Fritters Are The One Recipe You Need T...\n",
              "6027    No Fuss, No Muss: 7 Simple Dinner Recipes Your...\n",
              "4001                       World's Best Ice Cream Parlors\n",
              "6554        Saltine Cracker Toffee to Make You Go Oooooh!\n",
              "277     How to make Samosa's LIKE A BOSS! | Indian Rec...\n",
              "4606    Are Farmers Market Eggs Really Worth It, And D...\n",
              "5920    Cooking Off The Cuff: A Plain-Looking Vegetabl...\n",
              "5306    Cooking Off the Cuff: Without Eggplant It Isn'...\n",
              "4900                    Memorial Day Mango Recipes & Tips\n",
              "1771    How To Make Marshmallow Clouds For Hot Chocola...\n",
              "5720               Drink Me Now: Go Green With Pistachios\n",
              "Name: headline, dtype: object"
            ]
          },
          "metadata": {}
        },
        {
          "output_type": "stream",
          "name": "stdout",
          "text": [
            "\n",
            "'ENTERTAINMENT' predicted as 'COMEDY' : 4 examples.\n"
          ]
        },
        {
          "output_type": "display_data",
          "data": {
            "text/plain": [
              "5355    Stephen Colbert Has An Important Message For G...\n",
              "5194    Donald Trump Blasts 'Biased' Sketch Show 'SNL'...\n",
              "6742    Kevin Hart Weighs In On Kathy Griffin And Bill...\n",
              "4556    9 Tidbits From George Lucas' Tribeca Chat With...\n",
              "Name: headline, dtype: object"
            ]
          },
          "metadata": {}
        },
        {
          "output_type": "stream",
          "name": "stdout",
          "text": [
            "\n",
            "'MEDIA' predicted as 'COMEDY' : 2 examples.\n"
          ]
        },
        {
          "output_type": "display_data",
          "data": {
            "text/plain": [
              "8001    Taboo Nation: Bill Maher, Islam and the Censor...\n",
              "1014                       Has Stephen Colbert Gone Soft?\n",
              "Name: headline, dtype: object"
            ]
          },
          "metadata": {}
        },
        {
          "output_type": "stream",
          "name": "stdout",
          "text": [
            "\n",
            "'WELLNESS' predicted as 'PARENTING' : 3 examples.\n"
          ]
        },
        {
          "output_type": "display_data",
          "data": {
            "text/plain": [
              "1167    Prevnar 13, Pneumonia Vaccine, Approved For Ki...\n",
              "5664    MOTHER'S DAY GIVEAWAY: What Kept Your Mother U...\n",
              "8688    The Case For Making Adult Hospitals More Like ...\n",
              "Name: headline, dtype: object"
            ]
          },
          "metadata": {}
        },
        {
          "output_type": "stream",
          "name": "stdout",
          "text": [
            "\n",
            "'POLITICS' predicted as 'PARENTING' : 6 examples.\n"
          ]
        },
        {
          "output_type": "display_data",
          "data": {
            "text/plain": [
              "6387                      The Birth of a Eurasian Century\n",
              "2201    No ESEA Bill Is Better Than One That Fails to ...\n",
              "3774            Prayers For Our Children For The New Year\n",
              "5613    What You Need To Know About The No Child Left ...\n",
              "9177     Did Boston Children’s Hospital Plan An Exorcism?\n",
              "3028         Post-Election, The Kids Are Gonna Be Alright\n",
              "Name: headline, dtype: object"
            ]
          },
          "metadata": {}
        },
        {
          "output_type": "stream",
          "name": "stdout",
          "text": [
            "\n",
            "'PARENTS' predicted as 'PARENTING' : 34 examples.\n"
          ]
        },
        {
          "output_type": "display_data",
          "data": {
            "text/plain": [
              "580     These Were The Trendiest Baby Names In The Ear...\n",
              "7813               What It Really Means To Have A Toddler\n",
              "5957    Dad's Comics Nail The Hilarity Of Raising Kids...\n",
              "7569           How To Talk To Kids About Cultural Rituals\n",
              "3546        This Is The Baby Laugh To End All Baby Laughs\n",
              "7892    The Awesome Way This Professor Helped Out A Si...\n",
              "5425    Mom Tries To Nap With Baby. Baby Has Other Plans.\n",
              "2124         This Mom-To-Be Grooved Her Way Through Labor\n",
              "8243    14 Books To Help Kids Get Ready For The New Sc...\n",
              "6268              15 Essential Reads For Adoptive Parents\n",
              "7057    Mom Of 5 Beautifully Explains Why Parents Shou...\n",
              "5861    Funniest Parenting Tweets: What Moms And Dads ...\n",
              "32      Parents Are Totally Relating To Jennifer Garne...\n",
              "5274                        10 Pearls of Parenting Wisdom\n",
              "3207         Why I’m Done Apologizing for My Son’s Autism\n",
              "4764                  The Most Notable Baby Names Of 2016\n",
              "5148                   Is My Special Child Being Bullied?\n",
              "6487    The Many Ways Parents Act When Teaching Their ...\n",
              "8252    A Letter To My Daughters On The Day Of Your Ad...\n",
              "8733    Breastfeeding Mom Has Best Response After Bein...\n",
              "5765    12 Baby Names Inspired By Black Stars Who Are ...\n",
              "9041                               Dating for Mom Friends\n",
              "4986                    13 Baby Names Inspired By Witches\n",
              "2828                I Don't Want My Kids To Share Grandma\n",
              "7102    This Mom's Powerful Post About Vegas Shooting ...\n",
              "2158    Iceland's First Baby Of 1980 Gives Birth To Co...\n",
              "9348    Texas Mom Tossed Out Of Restaurant For Changin...\n",
              "3698    If You’re A Working Mom, Here’s What You Accom...\n",
              "3277    This Might Be The Only Way Moms Can Get Some T...\n",
              "8777    The Special Moment When A Stranger Mentioned M...\n",
              "8394            The Void When You're Done Having Children\n",
              "6       The Best Toys To Shop On Prime Day For Kids Of...\n",
              "3919     What Happens When You Ask Kids For Dating Advice\n",
              "9749            Parents, Hug Your Sweet Little Ones Tight\n",
              "Name: headline, dtype: object"
            ]
          },
          "metadata": {}
        },
        {
          "output_type": "stream",
          "name": "stdout",
          "text": [
            "\n",
            "'BUSINESS' predicted as 'PARENTING' : 2 examples.\n"
          ]
        },
        {
          "output_type": "display_data",
          "data": {
            "text/plain": [
              "8611    She’s A Furloughed Single Mom Of 3. The Utilit...\n",
              "8893    How Three Consumer Brands Helped Dads and Kids...\n",
              "Name: headline, dtype: object"
            ]
          },
          "metadata": {}
        },
        {
          "output_type": "stream",
          "name": "stdout",
          "text": [
            "\n",
            "'HOME & LIVING' predicted as 'PARENTING' : 2 examples.\n"
          ]
        },
        {
          "output_type": "display_data",
          "data": {
            "text/plain": [
              "7289    Sew For Sandy: Crafts To Aid Kids Affected By ...\n",
              "7957    Two Adorable Kids Review Target's 'Kid Made Mo...\n",
              "Name: headline, dtype: object"
            ]
          },
          "metadata": {}
        },
        {
          "output_type": "stream",
          "name": "stdout",
          "text": [
            "\n",
            "'HEALTHY LIVING' predicted as 'PARENTING' : 6 examples.\n"
          ]
        },
        {
          "output_type": "display_data",
          "data": {
            "text/plain": [
              "39                                Our Children Rarely Die\n",
              "1595    Hawaii Baby Contracts The First Case Of Zika V...\n",
              "4978    Medicated Children: Anxiety and Depression in ...\n",
              "1892    Autism Without Fear: We Raise Money for Autism...\n",
              "7514    Your Child's Packed Lunch May Be Less Nutritio...\n",
              "5824    A Love Letter To The Nurses Who Take Care Of M...\n",
              "Name: headline, dtype: object"
            ]
          },
          "metadata": {}
        },
        {
          "output_type": "stream",
          "name": "stdout",
          "text": [
            "\n",
            "'QUEER VOICES' predicted as 'PARENTING' : 3 examples.\n"
          ]
        },
        {
          "output_type": "display_data",
          "data": {
            "text/plain": [
              "6284    How One Lesbian Power Couple Is Raising Up a B...\n",
              "1141    Here's Some Advice For LGBT Parents On How To ...\n",
              "829               Persistence Made Perfect For These Moms\n",
              "Name: headline, dtype: object"
            ]
          },
          "metadata": {}
        },
        {
          "output_type": "stream",
          "name": "stdout",
          "text": [
            "\n",
            "'STYLE & BEAUTY' predicted as 'PARENTING' : 2 examples.\n"
          ]
        },
        {
          "output_type": "display_data",
          "data": {
            "text/plain": [
              "8314             10 Items Your Closet Really Needs\n",
              "5325    What Mom Wants More Than Flowers This Year\n",
              "Name: headline, dtype: object"
            ]
          },
          "metadata": {}
        },
        {
          "output_type": "stream",
          "name": "stdout",
          "text": [
            "\n",
            "'WEDDINGS' predicted as 'PARENTING' : 2 examples.\n"
          ]
        },
        {
          "output_type": "display_data",
          "data": {
            "text/plain": [
              "9824    Cancer-Stricken Dad Walks 11-Year-Old Down The...\n",
              "1060    Financial Advice: Why Most Couples Don't Want ...\n",
              "Name: headline, dtype: object"
            ]
          },
          "metadata": {}
        },
        {
          "output_type": "stream",
          "name": "stdout",
          "text": [
            "\n",
            "'FOOD & DRINK' predicted as 'PARENTING' : 3 examples.\n"
          ]
        },
        {
          "output_type": "display_data",
          "data": {
            "text/plain": [
              "7975          Cooking With Children\n",
              "3699             12 Holiday Cookies\n",
              "9031    8 Mother's Day Edible Gifts\n",
              "Name: headline, dtype: object"
            ]
          },
          "metadata": {}
        },
        {
          "output_type": "stream",
          "name": "stdout",
          "text": [
            "\n",
            "'COMEDY' predicted as 'PARENTING' : 2 examples.\n"
          ]
        },
        {
          "output_type": "display_data",
          "data": {
            "text/plain": [
              "3954    Dogs And Cats Have Slightly Different Teaching...\n",
              "3197                  Should You REALLY Post That Selfie?\n",
              "Name: headline, dtype: object"
            ]
          },
          "metadata": {}
        },
        {
          "output_type": "stream",
          "name": "stdout",
          "text": [
            "\n",
            "'ENTERTAINMENT' predicted as 'PARENTING' : 3 examples.\n"
          ]
        },
        {
          "output_type": "display_data",
          "data": {
            "text/plain": [
              "3611    Danielle Brooks Welcomes Baby Girl: 'I Birthed...\n",
              "8753            Beyoncé Gives Birth To Destiny's Children\n",
              "9297                   7 Tools For Parenting With Purpose\n",
              "Name: headline, dtype: object"
            ]
          },
          "metadata": {}
        },
        {
          "output_type": "stream",
          "name": "stdout",
          "text": [
            "\n",
            "'DIVORCE' predicted as 'PARENTING' : 6 examples.\n"
          ]
        },
        {
          "output_type": "display_data",
          "data": {
            "text/plain": [
              "1997                       Keeping Kids Out Of The Middle\n",
              "8662    What You Should Know About Dating a Man With C...\n",
              "476     Myths, Misconceptions and Misunderstandings Ab...\n",
              "5786    If You Are Single This Valentine's Day, Defian...\n",
              "9222    Megan Fox's Baby Taking A Toll On Her Marriage...\n",
              "3978               Money Management Tips For Step Parents\n",
              "Name: headline, dtype: object"
            ]
          },
          "metadata": {}
        },
        {
          "output_type": "stream",
          "name": "stdout",
          "text": [
            "\n",
            "'GOOD NEWS' predicted as 'PARENTING' : 2 examples.\n"
          ]
        },
        {
          "output_type": "display_data",
          "data": {
            "text/plain": [
              "2606    Boy With Autism Reunites With College Football...\n",
              "8353    Cashier's Sweet Act Moves Mom Whose Toddler Ha...\n",
              "Name: headline, dtype: object"
            ]
          },
          "metadata": {}
        },
        {
          "output_type": "stream",
          "name": "stdout",
          "text": [
            "\n",
            "'EDUCATION' predicted as 'PARENTING' : 3 examples.\n"
          ]
        },
        {
          "output_type": "display_data",
          "data": {
            "text/plain": [
              "9508    All Children Are Not the Same: Common Core Sta...\n",
              "1829                     A Choosy Mom on Choosing Schools\n",
              "461     Kids Are In School for About 15,000 Hours - Do...\n",
              "Name: headline, dtype: object"
            ]
          },
          "metadata": {}
        },
        {
          "output_type": "stream",
          "name": "stdout",
          "text": [
            "\n",
            "'FIFTY' predicted as 'PARENTING' : 2 examples.\n"
          ]
        },
        {
          "output_type": "display_data",
          "data": {
            "text/plain": [
              "867     The Father's Day Card I Wish I Could Send\n",
              "2102       Why I Feel More Gen X Than Baby Boomer\n",
              "Name: headline, dtype: object"
            ]
          },
          "metadata": {}
        },
        {
          "output_type": "stream",
          "name": "stdout",
          "text": [
            "\n",
            "'WELLNESS' predicted as 'ENTERTAINMENT' : 17 examples.\n"
          ]
        },
        {
          "output_type": "display_data",
          "data": {
            "text/plain": [
              "9543           Homeopathy for Poison Ivy: A Case in Point\n",
              "221                     The Art of Manifesting Our Dreams\n",
              "1467      Adult Obesity Rates Remain High but Held Steady\n",
              "4412                Deliberate Defiance at Work: Ask Noah\n",
              "1662                              The Spirit of Christmas\n",
              "9380                                        New-Age Guilt\n",
              "6486    West Nile Outbreak: Cases Top 4,500, Making It...\n",
              "620            I Once Knew a Girl Who Gave Up Thinking...\n",
              "7437    Five Keys to Having a Near Death Experience (W...\n",
              "4131                  How Much Do Partners Need to Share?\n",
              "7969                                        Got Insomnia?\n",
              "1940    Mindful Listening to Enhance Leadership Perfor...\n",
              "8764                                     The Role of Vows\n",
              "4089                        Cookies, Cocaine, and Culture\n",
              "7448    How I Found My Purpose: A Personal Story of Tr...\n",
              "202                            What Christmas Means to Me\n",
              "8698                                   A Walking Playlist\n",
              "Name: headline, dtype: object"
            ]
          },
          "metadata": {}
        },
        {
          "output_type": "stream",
          "name": "stdout",
          "text": [
            "\n",
            "'POLITICS' predicted as 'ENTERTAINMENT' : 21 examples.\n"
          ]
        },
        {
          "output_type": "display_data",
          "data": {
            "text/plain": [
              "8135    Celebrating Malcolm X's 90th Birthday Through ...\n",
              "5505    Fox News: Sean Hannity Has 'Our Full Support' ...\n",
              "7945     Jon Ralston: 5 Questions That Will Decide Nevada\n",
              "121     Somebody Set Fire To Another Mosque In America...\n",
              "6272    A Tribute To The Most Cringeworthy Turkey Pard...\n",
              "551     Looks Like The 'Burger King's' Subjects Are Ro...\n",
              "3858    New Jersey Gov. Phil Murphy On Narrow Reelecti...\n",
              "2499    WATCH LIVE — A New Labor Movement: How Workers...\n",
              "8973                'I'm Having An Abortion This Weekend'\n",
              "3651                         Blair: The Neocon's Dead End\n",
              "6111        Confederate Ideology and the Second Amendment\n",
              "2175    Scott Walker and the Club for Growth: Coordina...\n",
              "6541    Gig Economy Gives Child Support Scofflaws A Pl...\n",
              "188     Twitter Goes Pun-Crazy Over Tom Price's Resign...\n",
              "343                      The Racism Heard Round The World\n",
              "5151    Monica Lewinsky Wins The Internet With Best 'I...\n",
              "9619    Sean Spicer Says Questioning Success Of Botche...\n",
              "5507    HHS Welcomes Back Official Who Shared Bigoted ...\n",
              "2330                              Felipe the Bastard King\n",
              "8964    The Palin Family Allegedly Got Into A Messy Br...\n",
              "2716    There's A New Front In The Battle Over The Tra...\n",
              "Name: headline, dtype: object"
            ]
          },
          "metadata": {}
        },
        {
          "output_type": "stream",
          "name": "stdout",
          "text": [
            "\n",
            "'PARENTS' predicted as 'ENTERTAINMENT' : 9 examples.\n"
          ]
        },
        {
          "output_type": "display_data",
          "data": {
            "text/plain": [
              "3673    17 Fantastically Fun Shirts For Girls Who Love...\n",
              "3449    Busy Philipps On Raising Girls: 'It's Never Go...\n",
              "8056    What To Know If You’re Freaking Out About Havi...\n",
              "3234                                        Just A Little\n",
              "6085    This Little Girl Just Learned An Awesome New Word\n",
              "2839    Dad Says 'It's Too Soon For Christmastime' In ...\n",
              "5518                 How to Escalate Tears Into a Tantrum\n",
              "1914    Watch Billy Eichner Ambush Muppets In 'Billy O...\n",
              "2139             9 Horrible Thoughts I've Had As A Parent\n",
              "Name: headline, dtype: object"
            ]
          },
          "metadata": {}
        },
        {
          "output_type": "stream",
          "name": "stdout",
          "text": [
            "\n",
            "'BUSINESS' predicted as 'ENTERTAINMENT' : 9 examples.\n"
          ]
        },
        {
          "output_type": "display_data",
          "data": {
            "text/plain": [
              "1985    Four Critical Marketing Strategies to Stand Ou...\n",
              "2958    Apparently, There's A Place In Hell For Women ...\n",
              "4316    Young and Entrepreneurial: How College Entrepr...\n",
              "9719                  I Got a Great Degree I Can't Afford\n",
              "5972    How Jack Dorsey Can Keep His Chill While Runni...\n",
              "2923    Bangladesh Collapse Shows Safety Audit Shortco...\n",
              "8044    African Nation Slaps Exxon With Fine Nearly 7 ...\n",
              "1700              What Hollywood Doesn't Want You To Know\n",
              "8891         How To Write A Thank You That Gets You Hired\n",
              "Name: headline, dtype: object"
            ]
          },
          "metadata": {}
        },
        {
          "output_type": "stream",
          "name": "stdout",
          "text": [
            "\n",
            "'HOME & LIVING' predicted as 'ENTERTAINMENT' : 5 examples.\n"
          ]
        },
        {
          "output_type": "display_data",
          "data": {
            "text/plain": [
              "3813    The Biggest Bargains at Auctions and Flea Mark...\n",
              "1884          The 7 Best Plants To Grow When Summer Fades\n",
              "8438    'Flipping Out' Premiere: Jeff Plans To Take Ad...\n",
              "8460    The Most Popular Movies On Netflix Besides 'Re...\n",
              "1151               Unstick Drawers Using...A Bar Of Soap?\n",
              "Name: headline, dtype: object"
            ]
          },
          "metadata": {}
        },
        {
          "output_type": "stream",
          "name": "stdout",
          "text": [
            "\n",
            "'HEALTHY LIVING' predicted as 'ENTERTAINMENT' : 5 examples.\n"
          ]
        },
        {
          "output_type": "display_data",
          "data": {
            "text/plain": [
              "3652                  Men Who Work on Themselves Are Sexy\n",
              "7602    The Reason You Feel Just A Little Lonely All T...\n",
              "8754    Salmonella From Cucumbers May Have Sickened 34...\n",
              "5842              22 Animals Wearing Pajamas Just Because\n",
              "6952    Why 'OITNB' Star Uzo Aduba Was Ready To Quit A...\n",
              "Name: headline, dtype: object"
            ]
          },
          "metadata": {}
        },
        {
          "output_type": "stream",
          "name": "stdout",
          "text": [
            "\n",
            "'CRIME' predicted as 'ENTERTAINMENT' : 8 examples.\n"
          ]
        },
        {
          "output_type": "display_data",
          "data": {
            "text/plain": [
              "7527    Naked Drunk Driver Crashes Car While Having Se...\n",
              "2081    Tonya Couch, Mother Of Fugitive 'Affluenza' Te...\n",
              "8780    Amtrak Train Derails In Vermont, Seven Taken T...\n",
              "3883    3 Dead After Car Plows Into Group Of Trick-Or-...\n",
              "5218    Police Officer, Girlfriend Beaten And Robbed I...\n",
              "6225    Hyper-Masculinity, Twin Peaks, & Gendered Viol...\n",
              "2356    E-Cigarette Explodes On Harry Potter Ride, Inj...\n",
              "837     Mentally Ill Inmate In Taser Death Was Fully R...\n",
              "Name: headline, dtype: object"
            ]
          },
          "metadata": {}
        },
        {
          "output_type": "stream",
          "name": "stdout",
          "text": [
            "\n",
            "'QUEER VOICES' predicted as 'ENTERTAINMENT' : 19 examples.\n"
          ]
        },
        {
          "output_type": "display_data",
          "data": {
            "text/plain": [
              "4302                                    Bully Gets 'Girl'\n",
              "8830    Twitter Comes For Creationist Who Wants To 'Ta...\n",
              "3274    The Internet Wants Captain America To Get A Bo...\n",
              "8330            A Tale of Two Suicides and a Story of One\n",
              "424     WATCH: Gamers Show Their Pride In The Most Awe...\n",
              "1373    Iconic '90s Band Helped This Couple Open Up Ab...\n",
              "6624    Ian McKellen Like You've Never Seen Him Before...\n",
              "8998    Former Bush Official Compares Gays To Murderer...\n",
              "3682                              Why Hate Defeats Itself\n",
              "4881    ‘RuPaul’s Drag Race All Stars 3’ Episode 5 Rec...\n",
              "5198     No Mo' DOMA! I've Got My Wife, I've Got My Life!\n",
              "5369    George Takei Apologizes For Calling Clarence T...\n",
              "4906                                Till Death Do Us Part\n",
              "4697    Drew Droege, 'Chloe' Web Series Star, Discusse...\n",
              "6661                             Caitlyn Jenner's Mission\n",
              "2747    Three Women Share What It Means To Identify As...\n",
              "6461    Noah Levy Kissed By Jason Dundas On VH1's 'The...\n",
              "9967    Why Sweden Just Opened the First Male Rape Cli...\n",
              "5682    Bruce Springsteen Threatens To Boycott Another...\n",
              "Name: headline, dtype: object"
            ]
          },
          "metadata": {}
        },
        {
          "output_type": "stream",
          "name": "stdout",
          "text": [
            "\n",
            "'SPORTS' predicted as 'ENTERTAINMENT' : 24 examples.\n"
          ]
        },
        {
          "output_type": "display_data",
          "data": {
            "text/plain": [
              "3039    8 'Yogi-isms' That The Hall Of Fame Catcher De...\n",
              "3169    The Rockets Looked, Uh, Unenthused After Harde...\n",
              "9298    Star Pitcher Uses Full-Page Ad To Thanks Red S...\n",
              "9691    Chelsea vs Bayern Munich In Champions League F...\n",
              "4284    Should Darren Sharper Be A Nominee For The Pro...\n",
              "7859    ESPN Pulls Broadcaster From Virginia Game Beca...\n",
              "5069       Padres Reliever Makes History With Special Hat\n",
              "1651    JJ Watt Joins The Growing Chorus Of Cam Newton...\n",
              "6408    Josh Smith Stuffs Michael Carter-Williams Duri...\n",
              "9349    Olympic Sprint King Lamont Marcell Jacobs Reco...\n",
              "2384    Bud Norris Thinks Foreign Players Need To Resp...\n",
              "440         Here Is The March Madness Weekend TV Schedule\n",
              "3063           Dee Gordon, Billy Hamilton And Angel Pagan\n",
              "1939    Serena Williams Wins Wimbledon Final For 21st ...\n",
              "6813    Adorable Cat Really Wants To Play Olympic Beac...\n",
              "9697    Digitally Integrated Skiing and Snowboarding: ...\n",
              "8331    DeSean Jackson Denies Being A Gang Member And ...\n",
              "14      WATCH: The Worst Flop Ever In A Sport You Woul...\n",
              "6964    Chicago Cubs Stars And Bill Murray Make A Real...\n",
              "3735    Andre Drummond's Rising Stars Trophy Got Dropp...\n",
              "6866    Central Michigan Upsets With Incredible Hail M...\n",
              "6971    Serial Rapist Darren Sharper Nominated For Pro...\n",
              "9082    Olympic Swimmer Lilly King Says This 1 America...\n",
              "1438    Looks Like O.J. Simpson Will Be A Free Man Ver...\n",
              "Name: headline, dtype: object"
            ]
          },
          "metadata": {}
        },
        {
          "output_type": "stream",
          "name": "stdout",
          "text": [
            "\n",
            "'STYLE & BEAUTY' predicted as 'ENTERTAINMENT' : 13 examples.\n"
          ]
        },
        {
          "output_type": "display_data",
          "data": {
            "text/plain": [
              "2670    Hot On Pinterest: Nicole Richie, Lauren Santo ...\n",
              "3184    Holiday Dressing: How to Get Your Hands on 12 ...\n",
              "167     Lady Gaga Meat Dress Returns On Singer's Tokyo...\n",
              "6046    Charlotte Rampling Is The New Face Of NARS Cos...\n",
              "8410                        I Stole My... Aunt's Earrings\n",
              "8488                         What to Wear to an Interview\n",
              "1766    Jada Pinkett Smith's Two Beauty Looks: Which D...\n",
              "9179    Barbara Palvin: Who Is Justin Bieber's Rumored...\n",
              "1166    Devon Aoki Pregnant With Her Second Child (PHOTO)\n",
              "895     15 Things Rihanna Can Teach Any Woman About Be...\n",
              "1065    Kanye West Twitter Rant Blasts Khaki Cargo Sho...\n",
              "2641    Michael Kors For Goop Proves Gwyneth Paltrow I...\n",
              "4521    Miley Cyrus Lace Skirt Shows Off Her Legs (PHOTO)\n",
              "Name: headline, dtype: object"
            ]
          },
          "metadata": {}
        },
        {
          "output_type": "stream",
          "name": "stdout",
          "text": [
            "\n",
            "'WEDDINGS' predicted as 'ENTERTAINMENT' : 7 examples.\n"
          ]
        },
        {
          "output_type": "display_data",
          "data": {
            "text/plain": [
              "7394                          Choosing A First Dance Song\n",
              "122                                   Engagement Registry\n",
              "8475    The Night We Met: Jeremy And Brittany Share Th...\n",
              "4717     True Stories: She's Marrying Her Sorority Sister\n",
              "1114                  Band or DJ? Neither -- Go Classical\n",
              "2804    Girls Are Already Lining Up To Marry Prince Ge...\n",
              "768     Kim Kardashian Ring: Reality Star Shows Off 'K...\n",
              "Name: headline, dtype: object"
            ]
          },
          "metadata": {}
        },
        {
          "output_type": "stream",
          "name": "stdout",
          "text": [
            "\n",
            "'IMPACT' predicted as 'ENTERTAINMENT' : 5 examples.\n"
          ]
        },
        {
          "output_type": "display_data",
          "data": {
            "text/plain": [
              "2846                       Granting a Mother's Dying Wish\n",
              "6939    The Impact: What Social Enterprises Can Do for...\n",
              "3170    Gentrification: Artists in Emeryville Saw It C...\n",
              "885     Holiday Giving Stories: 7 Of The Season's Most...\n",
              "2475    Teens With Autism Stretch, Grow And Laugh In I...\n",
              "Name: headline, dtype: object"
            ]
          },
          "metadata": {}
        },
        {
          "output_type": "stream",
          "name": "stdout",
          "text": [
            "\n",
            "'FOOD & DRINK' predicted as 'ENTERTAINMENT' : 6 examples.\n"
          ]
        },
        {
          "output_type": "display_data",
          "data": {
            "text/plain": [
              "9071                   Is Your Child the Next Great Chef?\n",
              "1455    Trailer for Cook It Raw (AKA Chef Summer Camp ...\n",
              "6671                               Blondes Have More Fun!\n",
              "2279                  Best Movie Theaters For Food Lovers\n",
              "2223    'Bacon Bowl' May Be The Most Useless Gadget We...\n",
              "9418              Prince Biscuits: What Are They, Anyway?\n",
              "Name: headline, dtype: object"
            ]
          },
          "metadata": {}
        },
        {
          "output_type": "stream",
          "name": "stdout",
          "text": [
            "\n",
            "'COMEDY' predicted as 'ENTERTAINMENT' : 18 examples.\n"
          ]
        },
        {
          "output_type": "display_data",
          "data": {
            "text/plain": [
              "7032    Jim Carrey's Matthew McConaughey Impression Is...\n",
              "4398    Twitter's Funny Reactions To #ManafortMonday A...\n",
              "7925    These #CrappyHalloween Fails Are A Perfect Hal...\n",
              "126     'The Simpsons' 500th Episode Message To Viewer...\n",
              "7662    New Kickstarter May Bring Back 'Mystery Scienc...\n",
              "9492    Jimmy Fallon And Martin Short Give Classic Chr...\n",
              "7240    Anna Kendrick’s Creepy Instagram Pic Becomes H...\n",
              "4148    Colbert Savages 'Peace-Treaty Barbie And Collu...\n",
              "9323    5 Things That Happened To Conan O'Brien When H...\n",
              "8846    John Oliver Shows How Dumb It Is For Cities To...\n",
              "4969    Herd Of Deer Encounters Strange New Creature C...\n",
              "5706    'SNL' Takes On Sexist Super Bowl Stereotypes I...\n",
              "6531    Matthew Broderick Plays Mike Pompeo On 'SNL,' ...\n",
              "2995                 Finally, A Movie Called 'Oscar Bait'\n",
              "3861    Louis C.K. Cancels Historic MSG Show Due To Hi...\n",
              "4075    Kevin Spacey's Jimmy Stewart Impression Had Ca...\n",
              "6198    W. Kamau Bell Rips Todd Akin On 'Totally Biase...\n",
              "2291    Oh, Here's That One Hour Of Creepy Doll Music ...\n",
              "Name: headline, dtype: object"
            ]
          },
          "metadata": {}
        },
        {
          "output_type": "stream",
          "name": "stdout",
          "text": [
            "\n",
            "'PARENTING' predicted as 'ENTERTAINMENT' : 19 examples.\n"
          ]
        },
        {
          "output_type": "display_data",
          "data": {
            "text/plain": [
              "4752                      Are You Ready for Kindergarten?\n",
              "3842                                I Am So F**king Tired\n",
              "4392    'Let It Go' From 'Frozen' Is Officially The (V...\n",
              "5941    Welcome back from Mommyland, Marissa! A Letter...\n",
              "6497            Martin Luther King and Gingerbread Dreams\n",
              "7122    Create Your Own Rite of Passage, Send Your Son...\n",
              "4563    Jack Millos, Young Canucks Fan, Dances At Hock...\n",
              "5904    The Magic Backpack: 5 Must-Haves for Every Stu...\n",
              "6878    You Won't Believe Why These Parents Need A Sit...\n",
              "1170    Helicopter Parenting and the Olympics: The Ter...\n",
              "8026    'The Odd Life Of Timothy Green': Jennifer Garn...\n",
              "4141                Katie's Custody Day: Adoption at Last\n",
              "6418    \"A Doctor Prescribed My Son 140 Pain Pills in ...\n",
              "9157                     A Second Chance at Breastfeeding\n",
              "2020    Baby Loves Classic Rock, Especially The Beatle...\n",
              "1357    I Am Donating All of My Son's Birthday Present...\n",
              "4861    What to Expect During Your Teen's Senior Year ...\n",
              "6223               Tonsils and Adenoids and Tubes, Oh My!\n",
              "5927    Emma Ritter, Girl With Cystic Fibrosis, Is Abo...\n",
              "Name: headline, dtype: object"
            ]
          },
          "metadata": {}
        },
        {
          "output_type": "stream",
          "name": "stdout",
          "text": [
            "\n",
            "'ENVIRONMENT' predicted as 'ENTERTAINMENT' : 2 examples.\n"
          ]
        },
        {
          "output_type": "display_data",
          "data": {
            "text/plain": [
              "7422    Avon, Estee Lauder And Mary Kay Allegedly Test...\n",
              "31                   Greening the Grammys: It All Adds Up\n",
              "Name: headline, dtype: object"
            ]
          },
          "metadata": {}
        },
        {
          "output_type": "stream",
          "name": "stdout",
          "text": [
            "\n",
            "'WORLD NEWS' predicted as 'ENTERTAINMENT' : 3 examples.\n"
          ]
        },
        {
          "output_type": "display_data",
          "data": {
            "text/plain": [
              "3379    Tour Bus Bursts Into Flames After Crash In Ger...\n",
              "2004    Amid China-India Tensions, Indian Boxer Offers...\n",
              "3345    Two Israeli Policemen Shot Dead And Gunmen Kil...\n",
              "Name: headline, dtype: object"
            ]
          },
          "metadata": {}
        },
        {
          "output_type": "stream",
          "name": "stdout",
          "text": [
            "\n",
            "'COLLEGE' predicted as 'ENTERTAINMENT' : 2 examples.\n"
          ]
        },
        {
          "output_type": "display_data",
          "data": {
            "text/plain": [
              "2943    The #SleepRevolution College Tour Hits Over 30...\n",
              "4630    Data Complicates Student’s Claim That Columbia...\n",
              "Name: headline, dtype: object"
            ]
          },
          "metadata": {}
        },
        {
          "output_type": "stream",
          "name": "stdout",
          "text": [
            "\n",
            "'TECH' predicted as 'ENTERTAINMENT' : 9 examples.\n"
          ]
        },
        {
          "output_type": "display_data",
          "data": {
            "text/plain": [
              "7176    Beyond Spoilers: What the 2012 Olympics Taught...\n",
              "2734    'Gangnam Style' YouTube Views: Psy's Viral Hit...\n",
              "6224           Watch The Top 9 YouTube Videos Of The Week\n",
              "2640    AT&T Mobile Charging Effort Falls Flat In Red ...\n",
              "7382    Twitter Is Losing Customers And Its Stock Is P...\n",
              "7508    Armin Van Buuren, Luke Bryan Top List Of Most ...\n",
              "1333           Watch The Top 9 YouTube Videos Of The Week\n",
              "5359        Why Twitter's New 'Like' Button Is A Big Deal\n",
              "9430           Watch The Top 9 YouTube Videos Of The Week\n",
              "Name: headline, dtype: object"
            ]
          },
          "metadata": {}
        },
        {
          "output_type": "stream",
          "name": "stdout",
          "text": [
            "\n",
            "'RELIGION' predicted as 'ENTERTAINMENT' : 5 examples.\n"
          ]
        },
        {
          "output_type": "display_data",
          "data": {
            "text/plain": [
              "42          This Guy's Fate Is Completely In Jesus' Hands\n",
              "7359    Church Of Scotland Ministers Can Now Be In Sam...\n",
              "4955        Sobibor Mystery Pendant Sparks Family Reunion\n",
              "3625         The Other Rev. King: A Word from Mississippi\n",
              "1066                                A Pale Blue Christmas\n",
              "Name: headline, dtype: object"
            ]
          },
          "metadata": {}
        },
        {
          "output_type": "stream",
          "name": "stdout",
          "text": [
            "\n",
            "'DIVORCE' predicted as 'ENTERTAINMENT' : 3 examples.\n"
          ]
        },
        {
          "output_type": "display_data",
          "data": {
            "text/plain": [
              "158     Russell Brand Divorce: Says He Still Has 'Grea...\n",
              "1364    Is Heartbreak Harder On Women Or Men? New Surv...\n",
              "4446    This Restaurant Sign Knows Why You're Still Si...\n",
              "Name: headline, dtype: object"
            ]
          },
          "metadata": {}
        },
        {
          "output_type": "stream",
          "name": "stdout",
          "text": [
            "\n",
            "'THE WORLDPOST' predicted as 'ENTERTAINMENT' : 5 examples.\n"
          ]
        },
        {
          "output_type": "display_data",
          "data": {
            "text/plain": [
              "8451    Buildings Collapse As 6.6 Magnitude Earthquake...\n",
              "655     Goodyear’s Awesome New Spherical Tire Design F...\n",
              "8215    Russian Air Assault Hits Rebels, Helps Assad R...\n",
              "6830    Sting Reopens Bataclan Concert Hall One Year A...\n",
              "2600    Syrian Family’s Tragedy Goes Beyond Iconic Ima...\n",
              "Name: headline, dtype: object"
            ]
          },
          "metadata": {}
        },
        {
          "output_type": "stream",
          "name": "stdout",
          "text": [
            "\n",
            "'WOMEN' predicted as 'ENTERTAINMENT' : 10 examples.\n"
          ]
        },
        {
          "output_type": "display_data",
          "data": {
            "text/plain": [
              "6022    Time Unveiled 12 Stunning Covers Celebrating G...\n",
              "1437    I Accidentally Went on a Date With a Bigoted H...\n",
              "3505    Comedian Schools Male BBC Panel On Not Taking ...\n",
              "8079    This PAC Asks Straight White Men Running For O...\n",
              "3754    Listen To Justin Trudeau Passionately Make The...\n",
              "6327    The Harvey Weinstein Scandal Should Be A Messa...\n",
              "1691    Zoe Saldana Doesn't Get Why Everyone's Shocked...\n",
              "5143    Naomi Parker Fraley, Who Likely Inspired 'Rosi...\n",
              "1921    Pregnant Syrian-American Woman Debuts Fire Rap...\n",
              "2377    Famous Men Rally Behind Emma Watson's Feminism...\n",
              "Name: headline, dtype: object"
            ]
          },
          "metadata": {}
        },
        {
          "output_type": "stream",
          "name": "stdout",
          "text": [
            "\n",
            "'MONEY' predicted as 'ENTERTAINMENT' : 2 examples.\n"
          ]
        },
        {
          "output_type": "display_data",
          "data": {
            "text/plain": [
              "2585    Willow Tufano, Florida Teen, Buys Second Home\n",
              "2505             Kate Gosselin Loves Clipping Coupons\n",
              "Name: headline, dtype: object"
            ]
          },
          "metadata": {}
        },
        {
          "output_type": "stream",
          "name": "stdout",
          "text": [
            "\n",
            "'ARTS & CULTURE' predicted as 'ENTERTAINMENT' : 10 examples.\n"
          ]
        },
        {
          "output_type": "display_data",
          "data": {
            "text/plain": [
              "8185    Todrick Hall Discusses His Return To Broadway ...\n",
              "4579    Artist Imagines A Healthcare System That Doesn...\n",
              "144     A Mesmerizing 'Soundsuit' Memorializes Trayvon...\n",
              "7112    Netflix And Chill With 'Harry Potter' Characte...\n",
              "2002    These Are The Scars Of People Who Have Narrowl...\n",
              "8952    Emma Watson Is Hiding Feminist Books On The Train\n",
              "5514    Bruce Springsteen On Broadway? The Boss Eyes I...\n",
              "4707    A Theater Teacher Played 'Hamilton' For A Grou...\n",
              "72      This 19,000 Square-Foot Flower Carpet Is The U...\n",
              "4503    An Eerie Series That Examines Whether We Ever ...\n",
              "Name: headline, dtype: object"
            ]
          },
          "metadata": {}
        },
        {
          "output_type": "stream",
          "name": "stdout",
          "text": [
            "\n",
            "'BLACK VOICES' predicted as 'ENTERTAINMENT' : 26 examples.\n"
          ]
        },
        {
          "output_type": "display_data",
          "data": {
            "text/plain": [
              "521     Watch Nicki Minaj And Beyonce Prep For 'Feelin...\n",
              "9617    Can Taylor Swift Teach Us Anything About Fergu...\n",
              "5322    Watch Muhammad Ali Explain Why He Feels More F...\n",
              "8562           Song of Redemption: The Frank Morgan Story\n",
              "5167    'Barbershop: The Next Cut' Trailer: First Look...\n",
              "2933    Sink Your Teeth Into This Empowering Maxine Wa...\n",
              "8986    Patti LaBelle And Her YouTube Fan Have A Lot U...\n",
              "9182    Don Cheadle Defends Creative Liberties In Stor...\n",
              "5281                      The Whitewashing Of James Brown\n",
              "5753    Hollywood of the South: 'The Walking Dead,''Th...\n",
              "2724    Production, Casting Heat Up On Lee Daniels' TV...\n",
              "1002    Intellectual Property's Role In The Digital Re...\n",
              "3018    Tracee Ellis Ross And Anthony Anderson To Host...\n",
              "9692    Tyler Perry Joins Chloë Grace Moretz In 'Brain...\n",
              "5739    Read 'Death of a King: The Real Story of Dr. M...\n",
              "8602    Serena Williams U.S. Open Win Sets Up All-Amer...\n",
              "2625    Pam Grier On The Success Of Female Action Movi...\n",
              "2037                                       Now We're Mad?\n",
              "7642    Comedy Central Renews 'The Nightly Show With L...\n",
              "3299    Nia Long: Film And TV Should Look Like The Wor...\n",
              "874     Vanessa Williams Ancestry Traced Through Mail-...\n",
              "536     New York Playwright Fails To Block Opening Of ...\n",
              "9880                                       For the Record\n",
              "7922    Million-Dollar Wu-Tang Album Bought By Pharmac...\n",
              "2429    Each Of These Quadruplets Got Accepted Into Ha...\n",
              "5640    Dear Michelle, Thank You For Showing Me That I...\n",
              "Name: headline, dtype: object"
            ]
          },
          "metadata": {}
        },
        {
          "output_type": "stream",
          "name": "stdout",
          "text": [
            "\n",
            "'TRAVEL' predicted as 'ENTERTAINMENT' : 19 examples.\n"
          ]
        },
        {
          "output_type": "display_data",
          "data": {
            "text/plain": [
              "9366                             Two Months in Antarctica\n",
              "9892       San Francisco Highlights: Halfway to the Stars\n",
              "4912    If You're Scared of Ghosts (Like I Am!), This ...\n",
              "7986    Jennifer Aniston And Justin Theroux's Breathta...\n",
              "5286    The Renegades Return: Central Coast Small-Lot ...\n",
              "1035           Walking Alfred Wainwright's Coast to Coast\n",
              "7214              Christmas Markets Of Bolzano, Dolomites\n",
              "1082         A Guide To Disney World's 'Hidden Treasures'\n",
              "1768    Rihanna Barbados: Singer Stars In New Tourism ...\n",
              "4018    True Northern Italian Cuisine on NYC's Upper W...\n",
              "8238    Mount Fuji's 'Arrival Of Light' In All Its Ins...\n",
              "1112    Turns Out Coffee Is The Cruel Reason Your Flig...\n",
              "5212    Greece's Rock-Pinnacle Churches: Suspended in ...\n",
              "1315    Halloween at Tokyo Disneyland: Ghosts, Goblins...\n",
              "4425    Wai-O-Tapu Is Yet Another Reason New Zealand I...\n",
              "3459    A DC Tour Must-See: The George Washington Maso...\n",
              "6626      Walking With Polar Bears: The Next Great Safari\n",
              "3350    Where in the World Is the Best Place to Be in ...\n",
              "5065                        12 Top Picks in Princeton, NJ\n",
              "Name: headline, dtype: object"
            ]
          },
          "metadata": {}
        },
        {
          "output_type": "stream",
          "name": "stdout",
          "text": [
            "\n",
            "'GOOD NEWS' predicted as 'ENTERTAINMENT' : 5 examples.\n"
          ]
        },
        {
          "output_type": "display_data",
          "data": {
            "text/plain": [
              "5235    This Kitty's Disability Makes Her All The More...\n",
              "7149    Selfless Cops Chaperone Adorable Duck Family T...\n",
              "893     WATCH: Tiny Hockey Fan Hands Out Adorable Preg...\n",
              "8277    'Teddy Bear' Population Makes An Awesome Recovery\n",
              "5178    Teen Slays At Reminding Us That Not All Disabi...\n",
              "Name: headline, dtype: object"
            ]
          },
          "metadata": {}
        },
        {
          "output_type": "stream",
          "name": "stdout",
          "text": [
            "\n",
            "'MEDIA' predicted as 'ENTERTAINMENT' : 7 examples.\n"
          ]
        },
        {
          "output_type": "display_data",
          "data": {
            "text/plain": [
              "2284    Twitter Drags CNN Host Who Implied Indian-Amer...\n",
              "1835     Jim Bakker Claims 'Merry Christmas' Was Outlawed\n",
              "6987    Paris Review Editor Lorin Stein Resigns Amid S...\n",
              "2676    Tucker Carlson Invited Fabio On His Show, And ...\n",
              "5853    In Return To Fox News, Megyn Kelly Slams NBC O...\n",
              "9028    Reading Rainbow's All-Star Kickstarter Sprint ...\n",
              "1299      How (Not) to Represent Turner Syndrome in Media\n",
              "Name: headline, dtype: object"
            ]
          },
          "metadata": {}
        },
        {
          "output_type": "stream",
          "name": "stdout",
          "text": [
            "\n",
            "'SCIENCE' predicted as 'ENTERTAINMENT' : 4 examples.\n"
          ]
        },
        {
          "output_type": "display_data",
          "data": {
            "text/plain": [
              "7509               WATCH: Massive Flare Triggers Blackout\n",
              "1515    YIKES: Game-Playing Chimps Have It All Over Hu...\n",
              "8487    German Sounds Harsher Than Other Languages, An...\n",
              "2644    SpaceX Launches First Rocket Since Explosion, ...\n",
              "Name: headline, dtype: object"
            ]
          },
          "metadata": {}
        },
        {
          "output_type": "stream",
          "name": "stdout",
          "text": [
            "\n",
            "'WEIRD NEWS' predicted as 'ENTERTAINMENT' : 11 examples.\n"
          ]
        },
        {
          "output_type": "display_data",
          "data": {
            "text/plain": [
              "4678          Murder Victim Plays Dominos At His Own Wake\n",
              "8339    There Might Be Giants - Real Giants! Just Ask ...\n",
              "5667    Burglary Suspect Falls Through Restaurant Ceil...\n",
              "499     This Guy Hates Christmas, So His Friend Pulled...\n",
              "5883    Watch These Ferocious Lions Turn Into Playful ...\n",
              "8222    Chinese New Year Is A Boom Time For Fake Girlf...\n",
              "8671                               Honest Abe Had An STD?\n",
              "2305    Watch This Heroic Waitress Drag A Monster Goan...\n",
              "156            That’s Not A Dead Body, It’s Just A Zombie\n",
              "882     Gutsy Raccoon Gives New Meaning To 'Police Rid...\n",
              "4770                    New Zealand Weed Shortage Is Dire\n",
              "Name: headline, dtype: object"
            ]
          },
          "metadata": {}
        },
        {
          "output_type": "stream",
          "name": "stdout",
          "text": [
            "\n",
            "'ARTS' predicted as 'ENTERTAINMENT' : 2 examples.\n"
          ]
        },
        {
          "output_type": "display_data",
          "data": {
            "text/plain": [
              "146               Stage Door: Dry Powder, The Star Keeper\n",
              "6071    Artist Sends 99 Sad Critters Down China's 'Dea...\n",
              "Name: headline, dtype: object"
            ]
          },
          "metadata": {}
        },
        {
          "output_type": "stream",
          "name": "stdout",
          "text": [
            "\n",
            "'LATINO VOICES' predicted as 'ENTERTAINMENT' : 7 examples.\n"
          ]
        },
        {
          "output_type": "display_data",
          "data": {
            "text/plain": [
              "8894    Oscar Isaac Explains Viral Photo Of Him Eating...\n",
              "6924         Eva Longoria Gets 'Low' On 'Lip Sync Battle'\n",
              "174     911 Dispatcher Accused Of Hanging Up On Spanis...\n",
              "3645    Pedro Villanueva's Family Is Still Waiting For...\n",
              "6300    We're Living For These Twitter Reactions To Th...\n",
              "8635    U.S. Television Wakes Up To Growing Latino Aud...\n",
              "3662    Rosario Dawson Opens Up About Being Raped And ...\n",
              "Name: headline, dtype: object"
            ]
          },
          "metadata": {}
        },
        {
          "output_type": "stream",
          "name": "stdout",
          "text": [
            "\n",
            "'GREEN' predicted as 'ENTERTAINMENT' : 3 examples.\n"
          ]
        },
        {
          "output_type": "display_data",
          "data": {
            "text/plain": [
              "2663    Los Angeles-Area Wildfire Spreads, Motorist Fo...\n",
              "7216        Whales Just Got A New Ally: Anonymous Hackers\n",
              "1277    Dog Who Grew Up On A Chain Finally Gets A Chan...\n",
              "Name: headline, dtype: object"
            ]
          },
          "metadata": {}
        },
        {
          "output_type": "stream",
          "name": "stdout",
          "text": [
            "\n",
            "'STYLE' predicted as 'ENTERTAINMENT' : 7 examples.\n"
          ]
        },
        {
          "output_type": "display_data",
          "data": {
            "text/plain": [
              "4858    Zac Posen's Sweet Gesture Makes A Teen's Dream...\n",
              "3776    Ariana Grande Is Covering Her Boob With Chain ...\n",
              "5447    Viola Davis Is A Vision In Red At The Golden G...\n",
              "6678    William And Kate's Christmas Card Is All About...\n",
              "2400         From Emoticons to Emoji: The New Punctuation\n",
              "3723                    The Best Sweaters For $50 Or Less\n",
              "4948    Social Media's Most Touching Tributes To Bill ...\n",
              "Name: headline, dtype: object"
            ]
          },
          "metadata": {}
        },
        {
          "output_type": "stream",
          "name": "stdout",
          "text": [
            "\n",
            "'U.S. NEWS' predicted as 'ENTERTAINMENT' : 3 examples.\n"
          ]
        },
        {
          "output_type": "display_data",
          "data": {
            "text/plain": [
              "8128    Space Telescope Launched On Daring Quest To Be...\n",
              "6951    Duck Boat Survivor Who Lost 9 Relatives Recoun...\n",
              "5422    Reporter Gets Adorable Surprise From Her Boyfr...\n",
              "Name: headline, dtype: object"
            ]
          },
          "metadata": {}
        },
        {
          "output_type": "stream",
          "name": "stdout",
          "text": [
            "\n",
            "'CULTURE & ARTS' predicted as 'ENTERTAINMENT' : 7 examples.\n"
          ]
        },
        {
          "output_type": "display_data",
          "data": {
            "text/plain": [
              "6434    Carrie Mae Weems Explores Inequalities Embedde...\n",
              "5925    Artists Create Mesmerizing Miniature Worlds, A...\n",
              "2016              Sufi Pop Rocks the Asia Society (VIDEO)\n",
              "5364    First Nighter: Barbra Streisand, Julius Caesar...\n",
              "8174    Comedian Matt Graham Talks SNL, Scrabble Champ...\n",
              "1738    Star Wars Day: Artist Sean Starwars Celebrates...\n",
              "1615        Real and Persistent Struggles of Billy Elliot\n",
              "Name: headline, dtype: object"
            ]
          },
          "metadata": {}
        },
        {
          "output_type": "stream",
          "name": "stdout",
          "text": [
            "\n",
            "'FIFTY' predicted as 'ENTERTAINMENT' : 4 examples.\n"
          ]
        },
        {
          "output_type": "display_data",
          "data": {
            "text/plain": [
              "4644    How 'Sexiest Man' Chris Hemsworth Stacks Up Ag...\n",
              "6836    Watch Mom LOSE IT When Son Comes Home Early Af...\n",
              "6712     9 Rules Of Instagram That Were Made To Be Broken\n",
              "8116    These Vintage Ads Prove We Had No Idea What Th...\n",
              "Name: headline, dtype: object"
            ]
          },
          "metadata": {}
        },
        {
          "output_type": "stream",
          "name": "stdout",
          "text": [
            "\n",
            "'BUSINESS' predicted as 'WOMEN' : 2 examples.\n"
          ]
        },
        {
          "output_type": "display_data",
          "data": {
            "text/plain": [
              "5725    Women in Sales: How to Maintain (or Regain) Co...\n",
              "8831             Why Women Need To Stick Together At Work\n",
              "Name: headline, dtype: object"
            ]
          },
          "metadata": {}
        },
        {
          "output_type": "stream",
          "name": "stdout",
          "text": [
            "\n",
            "'WELLNESS' predicted as 'TRAVEL' : 3 examples.\n"
          ]
        },
        {
          "output_type": "display_data",
          "data": {
            "text/plain": [
              "7065      The Last Acceptable Prejudice in America\n",
              "1124    10 Things That Do Not Count As Working Out\n",
              "525      Why the World Needs More Spiritual Heroes\n",
              "Name: headline, dtype: object"
            ]
          },
          "metadata": {}
        },
        {
          "output_type": "stream",
          "name": "stdout",
          "text": [
            "\n",
            "'BUSINESS' predicted as 'TRAVEL' : 2 examples.\n"
          ]
        },
        {
          "output_type": "display_data",
          "data": {
            "text/plain": [
              "8311    How to Build a 6-Figure Business While Traveli...\n",
              "2417    Software That Helps Travelers and Companies Se...\n",
              "Name: headline, dtype: object"
            ]
          },
          "metadata": {}
        },
        {
          "output_type": "stream",
          "name": "stdout",
          "text": [
            "\n",
            "'QUEER VOICES' predicted as 'TRAVEL' : 2 examples.\n"
          ]
        },
        {
          "output_type": "display_data",
          "data": {
            "text/plain": [
              "883        'Angels In America': The Complete Oral History\n",
              "5793    Nate Berkus Has Perfect Response To Duggar Fam...\n",
              "Name: headline, dtype: object"
            ]
          },
          "metadata": {}
        },
        {
          "output_type": "stream",
          "name": "stdout",
          "text": [
            "\n",
            "'STYLE & BEAUTY' predicted as 'TRAVEL' : 2 examples.\n"
          ]
        },
        {
          "output_type": "display_data",
          "data": {
            "text/plain": [
              "281     Amazing Getaway to Portico Clubʼs, Casa Privad...\n",
              "7994    Pack Your Chanel! Karl Lagerfeld Is Designing ...\n",
              "Name: headline, dtype: object"
            ]
          },
          "metadata": {}
        },
        {
          "output_type": "stream",
          "name": "stdout",
          "text": [
            "\n",
            "'IMPACT' predicted as 'TRAVEL' : 2 examples.\n"
          ]
        },
        {
          "output_type": "display_data",
          "data": {
            "text/plain": [
              "6963    World Humanitarian Day 2013 Uses Social Media ...\n",
              "1108                  10 Donations You Haven't Considered\n",
              "Name: headline, dtype: object"
            ]
          },
          "metadata": {}
        },
        {
          "output_type": "stream",
          "name": "stdout",
          "text": [
            "\n",
            "'FOOD & DRINK' predicted as 'TRAVEL' : 5 examples.\n"
          ]
        },
        {
          "output_type": "display_data",
          "data": {
            "text/plain": [
              "7499    Sta. Rita Hills: Top Choices from One of Calif...\n",
              "6464                                  Top 10 Summer Beers\n",
              "5676                            Summer Very Berry Crumble\n",
              "5628                  The Best Baguettes In New York City\n",
              "3691             How To Cook The Perfect Steak Every Time\n",
              "Name: headline, dtype: object"
            ]
          },
          "metadata": {}
        },
        {
          "output_type": "stream",
          "name": "stdout",
          "text": [
            "\n",
            "'COMEDY' predicted as 'TRAVEL' : 2 examples.\n"
          ]
        },
        {
          "output_type": "display_data",
          "data": {
            "text/plain": [
              "4290       27 Adorable Animals In Baskets (PHOTOS)\n",
              "8350    How To Kill Your Movember Mustache (VIDEO)\n",
              "Name: headline, dtype: object"
            ]
          },
          "metadata": {}
        },
        {
          "output_type": "stream",
          "name": "stdout",
          "text": [
            "\n",
            "'PARENTING' predicted as 'TRAVEL' : 2 examples.\n"
          ]
        },
        {
          "output_type": "display_data",
          "data": {
            "text/plain": [
              "2070    I Was The Perfect Parent -- Before I Became One\n",
              "3822                                  Searching for Dad\n",
              "Name: headline, dtype: object"
            ]
          },
          "metadata": {}
        },
        {
          "output_type": "stream",
          "name": "stdout",
          "text": [
            "\n",
            "'ENTERTAINMENT' predicted as 'TRAVEL' : 3 examples.\n"
          ]
        },
        {
          "output_type": "display_data",
          "data": {
            "text/plain": [
              "6721    Joshua Radin Covers Paul Simon's 'America' For...\n",
              "9258                Searching for Searching for Sugar Man\n",
              "9449     The Ultimate Tucson, Arizona, Road Trip Playlist\n",
              "Name: headline, dtype: object"
            ]
          },
          "metadata": {}
        },
        {
          "output_type": "stream",
          "name": "stdout",
          "text": [
            "\n",
            "'WOMEN' predicted as 'TRAVEL' : 2 examples.\n"
          ]
        },
        {
          "output_type": "display_data",
          "data": {
            "text/plain": [
              "6984    I Donated My Eggs So I Could Travel The World\n",
              "8812            You'll Be Perfect (Starting Tomorrow)\n",
              "Name: headline, dtype: object"
            ]
          },
          "metadata": {}
        },
        {
          "output_type": "stream",
          "name": "stdout",
          "text": [
            "\n",
            "'LATINO VOICES' predicted as 'TRAVEL' : 2 examples.\n"
          ]
        },
        {
          "output_type": "display_data",
          "data": {
            "text/plain": [
              "4277    Swing Latino Takes Colombian Salsa To New Heig...\n",
              "2092    Shakira Postpones World Tour Again After Vocal...\n",
              "Name: headline, dtype: object"
            ]
          },
          "metadata": {}
        },
        {
          "output_type": "stream",
          "name": "stdout",
          "text": [
            "\n",
            "'CULTURE & ARTS' predicted as 'TRAVEL' : 3 examples.\n"
          ]
        },
        {
          "output_type": "display_data",
          "data": {
            "text/plain": [
              "5426    Julian Hibbard's 'Tales of an Unknown Aviator'...\n",
              "821     The Anonymous World Of Quilting, Viewed Throug...\n",
              "2196    Best of Toronto 2013: Mais Darwazah's My Love ...\n",
              "Name: headline, dtype: object"
            ]
          },
          "metadata": {}
        },
        {
          "output_type": "stream",
          "name": "stdout",
          "text": [
            "\n",
            "'POLITICS' predicted as 'MEDIA' : 2 examples.\n"
          ]
        },
        {
          "output_type": "display_data",
          "data": {
            "text/plain": [
              "4567    'Radicalized' GOP And 'Twisted People' On Fox ...\n",
              "1737    Fox News is Lying About Seattle’s 'Autonomous ...\n",
              "Name: headline, dtype: object"
            ]
          },
          "metadata": {}
        },
        {
          "output_type": "stream",
          "name": "stdout",
          "text": [
            "\n",
            "'COMEDY' predicted as 'MEDIA' : 2 examples.\n"
          ]
        },
        {
          "output_type": "display_data",
          "data": {
            "text/plain": [
              "2639    Larry Wilmore Destroys Fox News For Pushing My...\n",
              "1977              BEHOLD: '50 Fox News Lies In 6 Seconds'\n",
              "Name: headline, dtype: object"
            ]
          },
          "metadata": {}
        },
        {
          "output_type": "stream",
          "name": "stdout",
          "text": [
            "\n"
          ]
        }
      ]
    },
    {
      "cell_type": "code",
      "source": [
        "model.coef_"
      ],
      "metadata": {
        "colab": {
          "base_uri": "https://localhost:8080/"
        },
        "id": "qSrxenmLINcP",
        "outputId": "d587c981-b1e9-4613-c39e-bd8167012262"
      },
      "execution_count": 56,
      "outputs": [
        {
          "output_type": "execute_result",
          "data": {
            "text/plain": [
              "array([[-0.91349479, -0.19975888, -0.1302168 , ...,  0.66709555,\n",
              "        -0.19112689, -0.18070909],\n",
              "       [-0.65709594, -1.07330184, -0.11443791, ..., -0.29686773,\n",
              "         0.6325093 , -0.25490635],\n",
              "       [-0.32236075,  0.35719124, -0.03727057, ..., -0.09501241,\n",
              "        -0.04351691, -0.04864289],\n",
              "       ...,\n",
              "       [ 0.77687567, -0.31298016, -0.01604193, ..., -0.03875671,\n",
              "        -0.01991086, -0.02599573],\n",
              "       [-0.10124912, -0.2387623 , -0.01389856, ..., -0.02366232,\n",
              "        -0.01464111, -0.01567807],\n",
              "       [ 0.2494618 ,  0.93142671, -0.02551682, ..., -0.03628985,\n",
              "         0.53558072, -0.02414576]])"
            ]
          },
          "metadata": {},
          "execution_count": 56
        }
      ]
    },
    {
      "cell_type": "code",
      "source": [
        "import numpy as np\n",
        "\n",
        "for category, category_id in sorted(category_to_id.items()):\n",
        "    indices = np.argsort(model.coef_[category_id])\n",
        "    feature_names = np.array(tfidf.get_feature_names_out())[indices]\n",
        "    unigrams = [v for v in reversed(feature_names) if len(v.split(' ')) == 1][:N]\n",
        "    bigrams = [v for v in reversed(feature_names) if len(v.split(' ')) == 2][:N]\n",
        "\n",
        "    print(f\"\\n## '{category}':\")\n",
        "    print(\"  . Most correlated unigrams:\\n       . {}\".format('\\n       . '.join(unigrams)))\n",
        "    print(\"  . Most correlated bigrams:\\n       . {}\".format('\\n       . '.join(bigrams)))\n"
      ],
      "metadata": {
        "colab": {
          "base_uri": "https://localhost:8080/"
        },
        "id": "wH3QGDKHIXAC",
        "outputId": "a0493673-c3f3-43cc-f56c-5c9497aef232"
      },
      "execution_count": 57,
      "outputs": [
        {
          "output_type": "stream",
          "name": "stdout",
          "text": [
            "\n",
            "## 'ARTS':\n",
            "  . Most correlated unigrams:\n",
            "       . gallery\n",
            "       . art\n",
            "       . collection\n",
            "       . isn\n",
            "       . artist\n",
            "       . door\n",
            "       . broadway\n",
            "       . stage\n",
            "       . 15\n",
            "       . today\n",
            "  . Most correlated bigrams:\n",
            "       . middle east\n",
            "       . world cup\n",
            "       . new orleans\n",
            "       . new york\n",
            "       . gop senator\n",
            "       . friday morning\n",
            "       . trump lawyer\n",
            "       . obamacare repeal\n",
            "       . trump campaign\n",
            "       . trump immigration\n",
            "\n",
            "## 'ARTS & CULTURE':\n",
            "  . Most correlated unigrams:\n",
            "       . art\n",
            "       . reality\n",
            "       . feminist\n",
            "       . broadway\n",
            "       . book\n",
            "       . history\n",
            "       . slam\n",
            "       . artist\n",
            "       . genius\n",
            "       . death\n",
            "  . Most correlated bigrams:\n",
            "       . harry potter\n",
            "       . donald trump\n",
            "       . bruce springsteen\n",
            "       . gop debate\n",
            "       . mike pence\n",
            "       . 30 years\n",
            "       . las vegas\n",
            "       . years ago\n",
            "       . trump travel\n",
            "       . travel ban\n",
            "\n",
            "## 'BLACK VOICES':\n",
            "  . Most correlated unigrams:\n",
            "       . black\n",
            "       . chicago\n",
            "       . racist\n",
            "       . police\n",
            "       . african\n",
            "       . brown\n",
            "       . empire\n",
            "       . knowles\n",
            "       . powerful\n",
            "       . album\n",
            "  . Most correlated bigrams:\n",
            "       . kerry washington\n",
            "       . lives matter\n",
            "       . black women\n",
            "       . black history\n",
            "       . black lives\n",
            "       . black man\n",
            "       . colin kaepernick\n",
            "       . idris elba\n",
            "       . health care\n",
            "       . nicki minaj\n",
            "\n",
            "## 'BUSINESS':\n",
            "  . Most correlated unigrams:\n",
            "       . business\n",
            "       . jobs\n",
            "       . ceo\n",
            "       . uber\n",
            "       . marketing\n",
            "       . board\n",
            "       . sales\n",
            "       . krugman\n",
            "       . workers\n",
            "       . companies\n",
            "  . Most correlated bigrams:\n",
            "       . women business\n",
            "       . 24 wall\n",
            "       . wall st\n",
            "       . new york\n",
            "       . black friday\n",
            "       . elon musk\n",
            "       . york city\n",
            "       . wall street\n",
            "       . single mom\n",
            "       . want know\n",
            "\n",
            "## 'COLLEGE':\n",
            "  . Most correlated unigrams:\n",
            "       . college\n",
            "       . university\n",
            "       . know\n",
            "       . students\n",
            "       . leadership\n",
            "       . pakistan\n",
            "       . labor\n",
            "       . culture\n",
            "       . state\n",
            "       . ways\n",
            "  . Most correlated bigrams:\n",
            "       . sexual assault\n",
            "       . best way\n",
            "       . new york\n",
            "       . gop senator\n",
            "       . friday morning\n",
            "       . trump lawyer\n",
            "       . obamacare repeal\n",
            "       . trump attacks\n",
            "       . trump campaign\n",
            "       . trump immigration\n",
            "\n",
            "## 'COMEDY':\n",
            "  . Most correlated unigrams:\n",
            "       . snl\n",
            "       . colbert\n",
            "       . maher\n",
            "       . trump\n",
            "       . video\n",
            "       . daily\n",
            "       . jimmy\n",
            "       . donald\n",
            "       . conan\n",
            "       . comedy\n",
            "  . Most correlated bigrams:\n",
            "       . donald trump\n",
            "       . stephen colbert\n",
            "       . samantha bee\n",
            "       . seth meyers\n",
            "       . jimmy kimmel\n",
            "       . late night\n",
            "       . john oliver\n",
            "       . star wars\n",
            "       . conan brien\n",
            "       . jimmy fallon\n",
            "\n",
            "## 'CRIME':\n",
            "  . Most correlated unigrams:\n",
            "       . police\n",
            "       . man\n",
            "       . shooting\n",
            "       . suspect\n",
            "       . charged\n",
            "       . arrested\n",
            "       . accused\n",
            "       . cop\n",
            "       . killer\n",
            "       . dead\n",
            "  . Most correlated bigrams:\n",
            "       . police say\n",
            "       . year old\n",
            "       . video shows\n",
            "       . old girl\n",
            "       . new orleans\n",
            "       . gun control\n",
            "       . sexual assault\n",
            "       . harry potter\n",
            "       . high school\n",
            "       . school shooting\n",
            "\n",
            "## 'CULTURE & ARTS':\n",
            "  . Most correlated unigrams:\n",
            "       . imageblog\n",
            "       . week\n",
            "       . explores\n",
            "       . artist\n",
            "       . artists\n",
            "       . birthday\n",
            "       . photos\n",
            "       . san\n",
            "       . theater\n",
            "       . art\n",
            "  . Most correlated bigrams:\n",
            "       . women history\n",
            "       . history month\n",
            "       . black women\n",
            "       . mad men\n",
            "       . middle east\n",
            "       . star wars\n",
            "       . san francisco\n",
            "       . gop senator\n",
            "       . friday morning\n",
            "       . trump lawyer\n",
            "\n",
            "## 'DIVORCE':\n",
            "  . Most correlated unigrams:\n",
            "       . divorce\n",
            "       . divorced\n",
            "       . cheating\n",
            "       . single\n",
            "       . marriage\n",
            "       . ex\n",
            "       . split\n",
            "       . dating\n",
            "       . husband\n",
            "       . infidelity\n",
            "  . Most correlated bigrams:\n",
            "       . valentine day\n",
            "       . dating divorce\n",
            "       . single mom\n",
            "       . look like\n",
            "       . social media\n",
            "       . shades grey\n",
            "       . don let\n",
            "       . gwyneth paltrow\n",
            "       . best way\n",
            "       . survey finds\n",
            "\n",
            "## 'EDUCATION':\n",
            "  . Most correlated unigrams:\n",
            "       . school\n",
            "       . education\n",
            "       . teachers\n",
            "       . future\n",
            "       . schools\n",
            "       . taking\n",
            "       . teacher\n",
            "       . core\n",
            "       . racial\n",
            "       . learning\n",
            "  . Most correlated bigrams:\n",
            "       . betsy devos\n",
            "       . south korea\n",
            "       . civil rights\n",
            "       . gop tax\n",
            "       . student loan\n",
            "       . scott walker\n",
            "       . united states\n",
            "       . puerto rico\n",
            "       . mental health\n",
            "       . new york\n",
            "\n",
            "## 'ENTERTAINMENT':\n",
            "  . Most correlated unigrams:\n",
            "       . movie\n",
            "       . trailer\n",
            "       . kardashian\n",
            "       . movies\n",
            "       . jenner\n",
            "       . cosby\n",
            "       . thrones\n",
            "       . album\n",
            "       . disney\n",
            "       . kanye\n",
            "  . Most correlated bigrams:\n",
            "       . box office\n",
            "       . game thrones\n",
            "       . taylor swift\n",
            "       . kanye west\n",
            "       . new album\n",
            "       . american horror\n",
            "       . horror story\n",
            "       . channing tatum\n",
            "       . selena gomez\n",
            "       . kylie jenner\n",
            "\n",
            "## 'ENVIRONMENT':\n",
            "  . Most correlated unigrams:\n",
            "       . animal\n",
            "       . photos\n",
            "       . spill\n",
            "       . energy\n",
            "       . animals\n",
            "       . green\n",
            "       . oil\n",
            "       . winter\n",
            "       . video\n",
            "       . climate\n",
            "  . Most correlated bigrams:\n",
            "       . photos week\n",
            "       . didn know\n",
            "       . make want\n",
            "       . new zealand\n",
            "       . looks like\n",
            "       . ve seen\n",
            "       . new study\n",
            "       . new york\n",
            "       . climate change\n",
            "       . york city\n",
            "\n",
            "## 'FIFTY':\n",
            "  . Most correlated unigrams:\n",
            "       . retirement\n",
            "       . 50\n",
            "       . aging\n",
            "       . absolutely\n",
            "       . think\n",
            "       . 60\n",
            "       . need\n",
            "       . women\n",
            "       . thanksgiving\n",
            "       . prove\n",
            "  . Most correlated bigrams:\n",
            "       . 10 things\n",
            "       . year old\n",
            "       . gives birth\n",
            "       . easy ways\n",
            "       . just got\n",
            "       . things need\n",
            "       . new year\n",
            "       . father day\n",
            "       . survey finds\n",
            "       . real life\n",
            "\n",
            "## 'FOOD & DRINK':\n",
            "  . Most correlated unigrams:\n",
            "       . recipes\n",
            "       . food\n",
            "       . recipe\n",
            "       . best\n",
            "       . foods\n",
            "       . cooking\n",
            "       . beer\n",
            "       . bacon\n",
            "       . cocktail\n",
            "       . cook\n",
            "  . Most correlated bigrams:\n",
            "       . recipe day\n",
            "       . recipes photos\n",
            "       . cooking cuff\n",
            "       . taco bell\n",
            "       . fast food\n",
            "       . ice cream\n",
            "       . new zealand\n",
            "       . holiday season\n",
            "       . real life\n",
            "       . gluten free\n",
            "\n",
            "## 'GOOD NEWS':\n",
            "  . Most correlated unigrams:\n",
            "       . fan\n",
            "       . homeless\n",
            "       . woman\n",
            "       . makes\n",
            "       . camera\n",
            "       . help\n",
            "       . watch\n",
            "       . 000\n",
            "       . football\n",
            "       . surprise\n",
            "  . Most correlated bigrams:\n",
            "       . star wars\n",
            "       . world series\n",
            "       . years ago\n",
            "       . year old\n",
            "       . civil rights\n",
            "       . jimmy fallon\n",
            "       . super bowl\n",
            "       . gop senator\n",
            "       . friday morning\n",
            "       . trump attacks\n",
            "\n",
            "## 'GREEN':\n",
            "  . Most correlated unigrams:\n",
            "       . california\n",
            "       . dog\n",
            "       . climate\n",
            "       . pit\n",
            "       . fossil\n",
            "       . hurricane\n",
            "       . state\n",
            "       . water\n",
            "       . pollution\n",
            "       . cities\n",
            "  . Most correlated bigrams:\n",
            "       . climate change\n",
            "       . video shows\n",
            "       . just got\n",
            "       . elon musk\n",
            "       . memorial day\n",
            "       . los angeles\n",
            "       . chris christie\n",
            "       . puerto rico\n",
            "       . year old\n",
            "       . new york\n",
            "\n",
            "## 'HEALTHY LIVING':\n",
            "  . Most correlated unigrams:\n",
            "       . sleep\n",
            "       . health\n",
            "       . ways\n",
            "       . zika\n",
            "       . healthy\n",
            "       . disorder\n",
            "       . habits\n",
            "       . cancer\n",
            "       . work\n",
            "       . doctors\n",
            "  . Most correlated bigrams:\n",
            "       . mental health\n",
            "       . gps guide\n",
            "       . things know\n",
            "       . healthy ways\n",
            "       . don let\n",
            "       . breast cancer\n",
            "       . mental illness\n",
            "       . 10 ways\n",
            "       . demi lovato\n",
            "       . new year\n",
            "\n",
            "## 'HOME & LIVING':\n",
            "  . Most correlated unigrams:\n",
            "       . photos\n",
            "       . home\n",
            "       . ideas\n",
            "       . craft\n",
            "       . diy\n",
            "       . homes\n",
            "       . house\n",
            "       . outdoor\n",
            "       . spring\n",
            "       . netflix\n",
            "  . Most correlated bigrams:\n",
            "       . craft day\n",
            "       . diy ideas\n",
            "       . finds photos\n",
            "       . ebay vintage\n",
            "       . roundup ebay\n",
            "       . weekly roundup\n",
            "       . ryan gosling\n",
            "       . ellen degeneres\n",
            "       . real life\n",
            "       . mad men\n",
            "\n",
            "## 'IMPACT':\n",
            "  . Most correlated unigrams:\n",
            "       . homeless\n",
            "       . giving\n",
            "       . global\n",
            "       . refugees\n",
            "       . help\n",
            "       . conflict\n",
            "       . food\n",
            "       . wake\n",
            "       . girls\n",
            "       . poverty\n",
            "  . Most correlated bigrams:\n",
            "       . high school\n",
            "       . sexual assault\n",
            "       . hurricane sandy\n",
            "       . march madness\n",
            "       . memorial day\n",
            "       . 20 years\n",
            "       . state union\n",
            "       . open letter\n",
            "       . world cup\n",
            "       . black history\n",
            "\n",
            "## 'LATINO VOICES':\n",
            "  . Most correlated unigrams:\n",
            "       . latino\n",
            "       . latinos\n",
            "       . woman\n",
            "       . puerto\n",
            "       . low\n",
            "       . dance\n",
            "       . oscar\n",
            "       . immigrant\n",
            "       . activists\n",
            "       . grammys\n",
            "  . Most correlated bigrams:\n",
            "       . puerto rico\n",
            "       . wants play\n",
            "       . wants make\n",
            "       . black history\n",
            "       . history month\n",
            "       . samantha bee\n",
            "       . fashion week\n",
            "       . donald trump\n",
            "       . gop senator\n",
            "       . friday morning\n",
            "\n",
            "## 'MEDIA':\n",
            "  . Most correlated unigrams:\n",
            "       . news\n",
            "       . media\n",
            "       . cnn\n",
            "       . trump\n",
            "       . fox\n",
            "       . journalism\n",
            "       . host\n",
            "       . claims\n",
            "       . msnbc\n",
            "       . andrew\n",
            "  . Most correlated bigrams:\n",
            "       . fox news\n",
            "       . donald trump\n",
            "       . york times\n",
            "       . anderson cooper\n",
            "       . town hall\n",
            "       . huffington post\n",
            "       . white house\n",
            "       . new york\n",
            "       . iran deal\n",
            "       . gop debate\n",
            "\n",
            "## 'MONEY':\n",
            "  . Most correlated unigrams:\n",
            "       . credit\n",
            "       . debt\n",
            "       . money\n",
            "       . financial\n",
            "       . tax\n",
            "       . making\n",
            "       . customers\n",
            "       . prices\n",
            "       . pay\n",
            "       . warning\n",
            "  . Most correlated bigrams:\n",
            "       . health care\n",
            "       . 10 best\n",
            "       . survey finds\n",
            "       . valentine day\n",
            "       . san francisco\n",
            "       . student loan\n",
            "       . black friday\n",
            "       . study finds\n",
            "       . need know\n",
            "       . mental health\n",
            "\n",
            "## 'PARENTING':\n",
            "  . Most correlated unigrams:\n",
            "       . kids\n",
            "       . baby\n",
            "       . mom\n",
            "       . children\n",
            "       . pregnancy\n",
            "       . parents\n",
            "       . parenting\n",
            "       . moms\n",
            "       . kid\n",
            "       . child\n",
            "  . Most correlated bigrams:\n",
            "       . open letter\n",
            "       . year old\n",
            "       . baby names\n",
            "       . stay home\n",
            "       . note day\n",
            "       . kid note\n",
            "       . cute kid\n",
            "       . little girl\n",
            "       . things learned\n",
            "       . moms dads\n",
            "\n",
            "## 'PARENTS':\n",
            "  . Most correlated unigrams:\n",
            "       . kids\n",
            "       . mom\n",
            "       . parenting\n",
            "       . parents\n",
            "       . baby\n",
            "       . toddler\n",
            "       . daughter\n",
            "       . breastfeeding\n",
            "       . parent\n",
            "       . moms\n",
            "  . Most correlated bigrams:\n",
            "       . father day\n",
            "       . baby names\n",
            "       . parenting tweets\n",
            "       . women history\n",
            "       . little girl\n",
            "       . mother day\n",
            "       . second child\n",
            "       . said twitter\n",
            "       . twitter week\n",
            "       . tweets moms\n",
            "\n",
            "## 'POLITICS':\n",
            "  . Most correlated unigrams:\n",
            "       . trump\n",
            "       . gop\n",
            "       . obama\n",
            "       . republicans\n",
            "       . democrats\n",
            "       . clinton\n",
            "       . senate\n",
            "       . republican\n",
            "       . house\n",
            "       . obamacare\n",
            "  . Most correlated bigrams:\n",
            "       . ted cruz\n",
            "       . huffpost hill\n",
            "       . paul ryan\n",
            "       . supreme court\n",
            "       . sunday roundup\n",
            "       . morning email\n",
            "       . health care\n",
            "       . need know\n",
            "       . hillary clinton\n",
            "       . white house\n",
            "\n",
            "## 'QUEER VOICES':\n",
            "  . Most correlated unigrams:\n",
            "       . gay\n",
            "       . lgbt\n",
            "       . queer\n",
            "       . transgender\n",
            "       . trans\n",
            "       . lgbtq\n",
            "       . pride\n",
            "       . lesbian\n",
            "       . drag\n",
            "       . sex\n",
            "  . Most correlated bigrams:\n",
            "       . drag race\n",
            "       . marriage equality\n",
            "       . anti lgbt\n",
            "       . rupaul drag\n",
            "       . caitlyn jenner\n",
            "       . supreme court\n",
            "       . president obama\n",
            "       . mike pence\n",
            "       . north carolina\n",
            "       . lgbt rights\n",
            "\n",
            "## 'RELIGION':\n",
            "  . Most correlated unigrams:\n",
            "       . pope\n",
            "       . church\n",
            "       . religious\n",
            "       . faith\n",
            "       . god\n",
            "       . spiritual\n",
            "       . catholic\n",
            "       . francis\n",
            "       . meditation\n",
            "       . gay\n",
            "  . Most correlated bigrams:\n",
            "       . daily meditation\n",
            "       . pope francis\n",
            "       . gay marriage\n",
            "       . climate change\n",
            "       . father day\n",
            "       . holiday season\n",
            "       . memorial day\n",
            "       . middle east\n",
            "       . video shows\n",
            "       . open letter\n",
            "\n",
            "## 'SCIENCE':\n",
            "  . Most correlated unigrams:\n",
            "       . earth\n",
            "       . science\n",
            "       . moon\n",
            "       . space\n",
            "       . study\n",
            "       . sky\n",
            "       . planet\n",
            "       . nasa\n",
            "       . scientists\n",
            "       . evolution\n",
            "  . Most correlated bigrams:\n",
            "       . study shows\n",
            "       . study suggests\n",
            "       . new study\n",
            "       . study finds\n",
            "       . harry potter\n",
            "       . elon musk\n",
            "       . don want\n",
            "       . gop senator\n",
            "       . friday morning\n",
            "       . trump attacks\n",
            "\n",
            "## 'SPORTS':\n",
            "  . Most correlated unigrams:\n",
            "       . nfl\n",
            "       . sports\n",
            "       . soccer\n",
            "       . coach\n",
            "       . league\n",
            "       . win\n",
            "       . curry\n",
            "       . olympic\n",
            "       . player\n",
            "       . nba\n",
            "  . Most correlated bigrams:\n",
            "       . world cup\n",
            "       . super bowl\n",
            "       . lebron james\n",
            "       . hall fame\n",
            "       . domestic violence\n",
            "       . president obama\n",
            "       . march madness\n",
            "       . world series\n",
            "       . new york\n",
            "       . high school\n",
            "\n",
            "## 'STYLE':\n",
            "  . Most correlated unigrams:\n",
            "       . fashion\n",
            "       . style\n",
            "       . beauty\n",
            "       . hair\n",
            "       . line\n",
            "       . designer\n",
            "       . chic\n",
            "       . way\n",
            "       . week\n",
            "       . italian\n",
            "  . Most correlated bigrams:\n",
            "       . golden globes\n",
            "       . street style\n",
            "       . ariana grande\n",
            "       . worst dressed\n",
            "       . fashion week\n",
            "       . carrie underwood\n",
            "       . new year\n",
            "       . caitlyn jenner\n",
            "       . style evolution\n",
            "       . best dressed\n",
            "\n",
            "## 'STYLE & BEAUTY':\n",
            "  . Most correlated unigrams:\n",
            "       . photos\n",
            "       . fashion\n",
            "       . photo\n",
            "       . style\n",
            "       . dress\n",
            "       . beauty\n",
            "       . model\n",
            "       . hair\n",
            "       . makeup\n",
            "       . wear\n",
            "  . Most correlated bigrams:\n",
            "       . fashion week\n",
            "       . kate middleton\n",
            "       . photos poll\n",
            "       . best dressed\n",
            "       . prince harry\n",
            "       . look day\n",
            "       . michelle obama\n",
            "       . vintage clothing\n",
            "       . clothing finds\n",
            "       . dressed list\n",
            "\n",
            "## 'TASTE':\n",
            "  . Most correlated unigrams:\n",
            "       . recipes\n",
            "       . make\n",
            "       . food\n",
            "       . pumpkin\n",
            "       . cuff\n",
            "       . eat\n",
            "       . summer\n",
            "       . grill\n",
            "       . cooking\n",
            "       . recipe\n",
            "  . Most correlated bigrams:\n",
            "       . cooking cuff\n",
            "       . ice cream\n",
            "       . taco bell\n",
            "       . look like\n",
            "       . gluten free\n",
            "       . 10 ways\n",
            "       . north carolina\n",
            "       . memorial day\n",
            "       . didn know\n",
            "       . years ago\n",
            "\n",
            "## 'TECH':\n",
            "  . Most correlated unigrams:\n",
            "       . facebook\n",
            "       . apple\n",
            "       . online\n",
            "       . iphone\n",
            "       . google\n",
            "       . tech\n",
            "       . youtube\n",
            "       . twitter\n",
            "       . watch\n",
            "       . videos\n",
            "  . Most correlated bigrams:\n",
            "       . valentine day\n",
            "       . big deal\n",
            "       . elon musk\n",
            "       . day video\n",
            "       . climate change\n",
            "       . las vegas\n",
            "       . need know\n",
            "       . social media\n",
            "       . gop senator\n",
            "       . friday morning\n",
            "\n",
            "## 'THE WORLDPOST':\n",
            "  . Most correlated unigrams:\n",
            "       . china\n",
            "       . russian\n",
            "       . turkey\n",
            "       . france\n",
            "       . russia\n",
            "       . refugee\n",
            "       . brexit\n",
            "       . aleppo\n",
            "       . south\n",
            "       . says\n",
            "  . Most correlated bigrams:\n",
            "       . south korea\n",
            "       . police say\n",
            "       . north korea\n",
            "       . trump administration\n",
            "       . fake news\n",
            "       . united states\n",
            "       . saudi arabia\n",
            "       . death toll\n",
            "       . middle east\n",
            "       . trump presidency\n",
            "\n",
            "## 'TRAVEL':\n",
            "  . Most correlated unigrams:\n",
            "       . travel\n",
            "       . photos\n",
            "       . traveling\n",
            "       . vacation\n",
            "       . hotel\n",
            "       . airport\n",
            "       . tsa\n",
            "       . flight\n",
            "       . places\n",
            "       . destinations\n",
            "  . Most correlated bigrams:\n",
            "       . travel zen\n",
            "       . weekly travel\n",
            "       . new orleans\n",
            "       . things know\n",
            "       . san francisco\n",
            "       . things learned\n",
            "       . need know\n",
            "       . 10 best\n",
            "       . 10 things\n",
            "       . year eve\n",
            "\n",
            "## 'U.S. NEWS':\n",
            "  . Most correlated unigrams:\n",
            "       . collapse\n",
            "       . migrants\n",
            "       . police\n",
            "       . covid\n",
            "       . dead\n",
            "       . died\n",
            "       . miami\n",
            "       . 19\n",
            "       . california\n",
            "       . death\n",
            "  . Most correlated bigrams:\n",
            "       . covid 19\n",
            "       . death toll\n",
            "       . san francisco\n",
            "       . north carolina\n",
            "       . mike pence\n",
            "       . britney spears\n",
            "       . right wing\n",
            "       . anti lgbtq\n",
            "       . police officer\n",
            "       . gun control\n",
            "\n",
            "## 'WEDDINGS':\n",
            "  . Most correlated unigrams:\n",
            "       . wedding\n",
            "       . marriage\n",
            "       . weddings\n",
            "       . marry\n",
            "       . bride\n",
            "       . proposal\n",
            "       . wife\n",
            "       . bridal\n",
            "       . engagement\n",
            "       . couples\n",
            "  . Most correlated bigrams:\n",
            "       . big day\n",
            "       . don want\n",
            "       . say yes\n",
            "       . high school\n",
            "       . social media\n",
            "       . wedding guest\n",
            "       . 11 year\n",
            "       . valentine day\n",
            "       . golden globes\n",
            "       . really wants\n",
            "\n",
            "## 'WEIRD NEWS':\n",
            "  . Most correlated unigrams:\n",
            "       . drunk\n",
            "       . weird\n",
            "       . allegedly\n",
            "       . cat\n",
            "       . real\n",
            "       . subway\n",
            "       . shark\n",
            "       . cops\n",
            "       . man\n",
            "       . dog\n",
            "  . Most correlated bigrams:\n",
            "       . real life\n",
            "       . look like\n",
            "       . video shows\n",
            "       . new zealand\n",
            "       . 10 best\n",
            "       . holiday season\n",
            "       . federal judge\n",
            "       . wedding guest\n",
            "       . big deal\n",
            "       . little girl\n",
            "\n",
            "## 'WELLNESS':\n",
            "  . Most correlated unigrams:\n",
            "       . fitness\n",
            "       . sleep\n",
            "       . study\n",
            "       . workout\n",
            "       . health\n",
            "       . yoga\n",
            "       . fda\n",
            "       . healthy\n",
            "       . weight\n",
            "       . cancer\n",
            "  . Most correlated bigrams:\n",
            "       . new year\n",
            "       . weight loss\n",
            "       . gps guide\n",
            "       . prostate cancer\n",
            "       . heart disease\n",
            "       . lost weight\n",
            "       . weekly meditations\n",
            "       . healthy sex\n",
            "       . meditations healthy\n",
            "       . study suggests\n",
            "\n",
            "## 'WOMEN':\n",
            "  . Most correlated unigrams:\n",
            "       . women\n",
            "       . abortion\n",
            "       . feminism\n",
            "       . woman\n",
            "       . feminist\n",
            "       . men\n",
            "       . harassment\n",
            "       . work\n",
            "       . male\n",
            "       . sexual\n",
            "  . Most correlated bigrams:\n",
            "       . tweets women\n",
            "       . women week\n",
            "       . funniest tweets\n",
            "       . birth control\n",
            "       . 20 funniest\n",
            "       . sexual harassment\n",
            "       . planned parenthood\n",
            "       . hillary clinton\n",
            "       . donald trump\n",
            "       . anti abortion\n",
            "\n",
            "## 'WORLD NEWS':\n",
            "  . Most correlated unigrams:\n",
            "       . attack\n",
            "       . trump\n",
            "       . saudi\n",
            "       . korea\n",
            "       . president\n",
            "       . china\n",
            "       . leaders\n",
            "       . deadly\n",
            "       . brazil\n",
            "       . iran\n",
            "  . Most correlated bigrams:\n",
            "       . north korea\n",
            "       . prime minister\n",
            "       . hong kong\n",
            "       . covid 19\n",
            "       . middle east\n",
            "       . pope francis\n",
            "       . world cup\n",
            "       . death toll\n",
            "       . saudi arabia\n",
            "       . new zealand\n",
            "\n",
            "## 'WORLDPOST':\n",
            "  . Most correlated unigrams:\n",
            "       . isis\n",
            "       . iraq\n",
            "       . foreign\n",
            "       . hamas\n",
            "       . military\n",
            "       . washington\n",
            "       . asia\n",
            "       . troops\n",
            "       . cuba\n",
            "       . battle\n",
            "  . Most correlated bigrams:\n",
            "       . week photos\n",
            "       . hong kong\n",
            "       . look day\n",
            "       . north korea\n",
            "       . 30 years\n",
            "       . 10 things\n",
            "       . old girl\n",
            "       . year old\n",
            "       . friday morning\n",
            "       . gop senator\n"
          ]
        }
      ]
    },
    {
      "cell_type": "code",
      "source": [
        "df_test = pd.read_json(\"/content/drive/My Drive/test.jsonl\", lines=True)"
      ],
      "metadata": {
        "id": "q0_OPk_EIrgY"
      },
      "execution_count": 58,
      "outputs": []
    },
    {
      "cell_type": "code",
      "source": [
        "test_features = tfidf.transform(df_test.headline.tolist())\n",
        "\n",
        "Y_pred = model.predict(test_features)\n",
        "\n",
        "Y_pred"
      ],
      "metadata": {
        "colab": {
          "base_uri": "https://localhost:8080/"
        },
        "id": "Ic47XkTqJM9_",
        "outputId": "d587fbe9-652e-4eba-a828-0c97b539f707"
      },
      "execution_count": 59,
      "outputs": [
        {
          "output_type": "execute_result",
          "data": {
            "text/plain": [
              "array([16, 10, 16, ..., 10,  1,  1])"
            ]
          },
          "metadata": {},
          "execution_count": 59
        }
      ]
    },
    {
      "cell_type": "code",
      "source": [
        "Y_pred_name =[]\n",
        "for cat_id in Y_pred :\n",
        "    Y_pred_name.append(id_to_category[cat_id])"
      ],
      "metadata": {
        "id": "qN25B0IeJXLW"
      },
      "execution_count": 60,
      "outputs": []
    },
    {
      "cell_type": "code",
      "source": [
        "Y_pred_name"
      ],
      "metadata": {
        "colab": {
          "base_uri": "https://localhost:8080/"
        },
        "id": "jXOuj4bTJY5i",
        "outputId": "087ea260-5849-4218-8f59-acd05d2619c4"
      },
      "execution_count": 61,
      "outputs": [
        {
          "output_type": "execute_result",
          "data": {
            "text/plain": [
              "['ENTERTAINMENT',\n",
              " 'STYLE & BEAUTY',\n",
              " 'ENTERTAINMENT',\n",
              " 'WELLNESS',\n",
              " 'POLITICS',\n",
              " 'ENTERTAINMENT',\n",
              " 'POLITICS',\n",
              " 'POLITICS',\n",
              " 'FOOD & DRINK',\n",
              " 'POLITICS',\n",
              " 'TRAVEL',\n",
              " 'PARENTING',\n",
              " 'STYLE & BEAUTY',\n",
              " 'POLITICS',\n",
              " 'POLITICS',\n",
              " 'ENTERTAINMENT',\n",
              " 'PARENTING',\n",
              " 'COMEDY',\n",
              " 'ENTERTAINMENT',\n",
              " 'POLITICS',\n",
              " 'POLITICS',\n",
              " 'ENTERTAINMENT',\n",
              " 'POLITICS',\n",
              " 'WELLNESS',\n",
              " 'ENTERTAINMENT',\n",
              " 'ENTERTAINMENT',\n",
              " 'WELLNESS',\n",
              " 'ENTERTAINMENT',\n",
              " 'ENTERTAINMENT',\n",
              " 'TRAVEL',\n",
              " 'CRIME',\n",
              " 'ENTERTAINMENT',\n",
              " 'POLITICS',\n",
              " 'ENTERTAINMENT',\n",
              " 'WELLNESS',\n",
              " 'ENTERTAINMENT',\n",
              " 'ENTERTAINMENT',\n",
              " 'TRAVEL',\n",
              " 'ENTERTAINMENT',\n",
              " 'MEDIA',\n",
              " 'QUEER VOICES',\n",
              " 'POLITICS',\n",
              " 'ENTERTAINMENT',\n",
              " 'WELLNESS',\n",
              " 'WELLNESS',\n",
              " 'POLITICS',\n",
              " 'POLITICS',\n",
              " 'WELLNESS',\n",
              " 'HOME & LIVING',\n",
              " 'WEDDINGS',\n",
              " 'POLITICS',\n",
              " 'FOOD & DRINK',\n",
              " 'ENTERTAINMENT',\n",
              " 'TRAVEL',\n",
              " 'ENTERTAINMENT',\n",
              " 'POLITICS',\n",
              " 'WELLNESS',\n",
              " 'BUSINESS',\n",
              " 'STYLE & BEAUTY',\n",
              " 'POLITICS',\n",
              " 'WEDDINGS',\n",
              " 'ENTERTAINMENT',\n",
              " 'HEALTHY LIVING',\n",
              " 'ENTERTAINMENT',\n",
              " 'ENTERTAINMENT',\n",
              " 'WELLNESS',\n",
              " 'POLITICS',\n",
              " 'POLITICS',\n",
              " 'TRAVEL',\n",
              " 'POLITICS',\n",
              " 'POLITICS',\n",
              " 'POLITICS',\n",
              " 'POLITICS',\n",
              " 'POLITICS',\n",
              " 'ENTERTAINMENT',\n",
              " 'ENTERTAINMENT',\n",
              " 'WELLNESS',\n",
              " 'POLITICS',\n",
              " 'ENTERTAINMENT',\n",
              " 'WELLNESS',\n",
              " 'ENTERTAINMENT',\n",
              " 'ENTERTAINMENT',\n",
              " 'WELLNESS',\n",
              " 'ENTERTAINMENT',\n",
              " 'POLITICS',\n",
              " 'POLITICS',\n",
              " 'WELLNESS',\n",
              " 'POLITICS',\n",
              " 'WELLNESS',\n",
              " 'STYLE & BEAUTY',\n",
              " 'WELLNESS',\n",
              " 'POLITICS',\n",
              " 'ENTERTAINMENT',\n",
              " 'PARENTING',\n",
              " 'WELLNESS',\n",
              " 'POLITICS',\n",
              " 'POLITICS',\n",
              " 'ENTERTAINMENT',\n",
              " 'POLITICS',\n",
              " 'PARENTING',\n",
              " 'WELLNESS',\n",
              " 'ENTERTAINMENT',\n",
              " 'STYLE & BEAUTY',\n",
              " 'POLITICS',\n",
              " 'ENTERTAINMENT',\n",
              " 'WELLNESS',\n",
              " 'WELLNESS',\n",
              " 'MEDIA',\n",
              " 'ENTERTAINMENT',\n",
              " 'POLITICS',\n",
              " 'TRAVEL',\n",
              " 'POLITICS',\n",
              " 'WELLNESS',\n",
              " 'POLITICS',\n",
              " 'POLITICS',\n",
              " 'POLITICS',\n",
              " 'POLITICS',\n",
              " 'ENTERTAINMENT',\n",
              " 'ENTERTAINMENT',\n",
              " 'POLITICS',\n",
              " 'POLITICS',\n",
              " 'PARENTING',\n",
              " 'TRAVEL',\n",
              " 'WELLNESS',\n",
              " 'PARENTING',\n",
              " 'WELLNESS',\n",
              " 'PARENTING',\n",
              " 'POLITICS',\n",
              " 'ENTERTAINMENT',\n",
              " 'STYLE & BEAUTY',\n",
              " 'RELIGION',\n",
              " 'ENTERTAINMENT',\n",
              " 'POLITICS',\n",
              " 'CRIME',\n",
              " 'SPORTS',\n",
              " 'ENTERTAINMENT',\n",
              " 'CRIME',\n",
              " 'WELLNESS',\n",
              " 'WELLNESS',\n",
              " 'ENTERTAINMENT',\n",
              " 'POLITICS',\n",
              " 'STYLE & BEAUTY',\n",
              " 'POLITICS',\n",
              " 'CRIME',\n",
              " 'ENTERTAINMENT',\n",
              " 'POLITICS',\n",
              " 'WELLNESS',\n",
              " 'WELLNESS',\n",
              " 'STYLE & BEAUTY',\n",
              " 'PARENTING',\n",
              " 'WELLNESS',\n",
              " 'POLITICS',\n",
              " 'POLITICS',\n",
              " 'ENTERTAINMENT',\n",
              " 'POLITICS',\n",
              " 'ENTERTAINMENT',\n",
              " 'POLITICS',\n",
              " 'ENTERTAINMENT',\n",
              " 'WELLNESS',\n",
              " 'POLITICS',\n",
              " 'PARENTING',\n",
              " 'ENTERTAINMENT',\n",
              " 'POLITICS',\n",
              " 'TRAVEL',\n",
              " 'TRAVEL',\n",
              " 'POLITICS',\n",
              " 'WELLNESS',\n",
              " 'WELLNESS',\n",
              " 'TRAVEL',\n",
              " 'TRAVEL',\n",
              " 'POLITICS',\n",
              " 'FOOD & DRINK',\n",
              " 'POLITICS',\n",
              " 'WELLNESS',\n",
              " 'WELLNESS',\n",
              " 'STYLE & BEAUTY',\n",
              " 'WELLNESS',\n",
              " 'ENTERTAINMENT',\n",
              " 'POLITICS',\n",
              " 'POLITICS',\n",
              " 'QUEER VOICES',\n",
              " 'WELLNESS',\n",
              " 'POLITICS',\n",
              " 'WELLNESS',\n",
              " 'POLITICS',\n",
              " 'POLITICS',\n",
              " 'POLITICS',\n",
              " 'POLITICS',\n",
              " 'POLITICS',\n",
              " 'POLITICS',\n",
              " 'POLITICS',\n",
              " 'TRAVEL',\n",
              " 'POLITICS',\n",
              " 'ENTERTAINMENT',\n",
              " 'POLITICS',\n",
              " 'WELLNESS',\n",
              " 'PARENTING',\n",
              " 'WELLNESS',\n",
              " 'HOME & LIVING',\n",
              " 'POLITICS',\n",
              " 'POLITICS',\n",
              " 'WOMEN',\n",
              " 'ENTERTAINMENT',\n",
              " 'WELLNESS',\n",
              " 'POLITICS',\n",
              " 'CRIME',\n",
              " 'PARENTING',\n",
              " 'COMEDY',\n",
              " 'ENTERTAINMENT',\n",
              " 'WELLNESS',\n",
              " 'ENTERTAINMENT',\n",
              " 'POLITICS',\n",
              " 'POLITICS',\n",
              " 'POLITICS',\n",
              " 'POLITICS',\n",
              " 'POLITICS',\n",
              " 'POLITICS',\n",
              " 'POLITICS',\n",
              " 'STYLE & BEAUTY',\n",
              " 'POLITICS',\n",
              " 'FOOD & DRINK',\n",
              " 'POLITICS',\n",
              " 'ENTERTAINMENT',\n",
              " 'ENTERTAINMENT',\n",
              " 'POLITICS',\n",
              " 'ENTERTAINMENT',\n",
              " 'POLITICS',\n",
              " 'POLITICS',\n",
              " 'POLITICS',\n",
              " 'ENTERTAINMENT',\n",
              " 'ENTERTAINMENT',\n",
              " 'PARENTING',\n",
              " 'ENTERTAINMENT',\n",
              " 'POLITICS',\n",
              " 'ENTERTAINMENT',\n",
              " 'POLITICS',\n",
              " 'WELLNESS',\n",
              " 'ENTERTAINMENT',\n",
              " 'POLITICS',\n",
              " 'ENTERTAINMENT',\n",
              " 'POLITICS',\n",
              " 'ENTERTAINMENT',\n",
              " 'WELLNESS',\n",
              " 'ENTERTAINMENT',\n",
              " 'WELLNESS',\n",
              " 'WELLNESS',\n",
              " 'STYLE & BEAUTY',\n",
              " 'STYLE & BEAUTY',\n",
              " 'ENTERTAINMENT',\n",
              " 'TRAVEL',\n",
              " 'WELLNESS',\n",
              " 'PARENTING',\n",
              " 'WELLNESS',\n",
              " 'POLITICS',\n",
              " 'WELLNESS',\n",
              " 'QUEER VOICES',\n",
              " 'WELLNESS',\n",
              " 'WELLNESS',\n",
              " 'WELLNESS',\n",
              " 'ENTERTAINMENT',\n",
              " 'SCIENCE',\n",
              " 'WELLNESS',\n",
              " 'ENTERTAINMENT',\n",
              " 'FOOD & DRINK',\n",
              " 'POLITICS',\n",
              " 'POLITICS',\n",
              " 'POLITICS',\n",
              " 'PARENTING',\n",
              " 'WELLNESS',\n",
              " 'POLITICS',\n",
              " 'POLITICS',\n",
              " 'POLITICS',\n",
              " 'ENTERTAINMENT',\n",
              " 'WELLNESS',\n",
              " 'POLITICS',\n",
              " 'POLITICS',\n",
              " 'TRAVEL',\n",
              " 'FOOD & DRINK',\n",
              " 'STYLE & BEAUTY',\n",
              " 'WELLNESS',\n",
              " 'POLITICS',\n",
              " 'POLITICS',\n",
              " 'ENTERTAINMENT',\n",
              " 'THE WORLDPOST',\n",
              " 'WELLNESS',\n",
              " 'BLACK VOICES',\n",
              " 'ENTERTAINMENT',\n",
              " 'TRAVEL',\n",
              " 'WELLNESS',\n",
              " 'ENTERTAINMENT',\n",
              " 'POLITICS',\n",
              " 'POLITICS',\n",
              " 'WELLNESS',\n",
              " 'WELLNESS',\n",
              " 'POLITICS',\n",
              " 'POLITICS',\n",
              " 'POLITICS',\n",
              " 'ENTERTAINMENT',\n",
              " 'DIVORCE',\n",
              " 'POLITICS',\n",
              " 'WELLNESS',\n",
              " 'ENTERTAINMENT',\n",
              " 'WELLNESS',\n",
              " 'SPORTS',\n",
              " 'BLACK VOICES',\n",
              " 'DIVORCE',\n",
              " 'WEDDINGS',\n",
              " 'POLITICS',\n",
              " 'POLITICS',\n",
              " 'QUEER VOICES',\n",
              " 'POLITICS',\n",
              " 'POLITICS',\n",
              " 'POLITICS',\n",
              " 'TRAVEL',\n",
              " 'POLITICS',\n",
              " 'POLITICS',\n",
              " 'WELLNESS',\n",
              " 'WELLNESS',\n",
              " 'WELLNESS',\n",
              " 'WELLNESS',\n",
              " 'PARENTING',\n",
              " 'POLITICS',\n",
              " 'WELLNESS',\n",
              " 'BLACK VOICES',\n",
              " 'ENTERTAINMENT',\n",
              " 'POLITICS',\n",
              " 'POLITICS',\n",
              " 'POLITICS',\n",
              " 'WELLNESS',\n",
              " 'WOMEN',\n",
              " 'POLITICS',\n",
              " 'POLITICS',\n",
              " 'POLITICS',\n",
              " 'PARENTING',\n",
              " 'POLITICS',\n",
              " 'POLITICS',\n",
              " 'POLITICS',\n",
              " 'WELLNESS',\n",
              " 'POLITICS',\n",
              " 'WELLNESS',\n",
              " 'STYLE & BEAUTY',\n",
              " 'WELLNESS',\n",
              " 'ENTERTAINMENT',\n",
              " 'POLITICS',\n",
              " 'POLITICS',\n",
              " 'POLITICS',\n",
              " 'QUEER VOICES',\n",
              " 'ENTERTAINMENT',\n",
              " 'WELLNESS',\n",
              " 'POLITICS',\n",
              " 'POLITICS',\n",
              " 'WELLNESS',\n",
              " 'STYLE & BEAUTY',\n",
              " 'FOOD & DRINK',\n",
              " 'POLITICS',\n",
              " 'POLITICS',\n",
              " 'WELLNESS',\n",
              " 'WELLNESS',\n",
              " 'POLITICS',\n",
              " 'PARENTING',\n",
              " 'WELLNESS',\n",
              " 'POLITICS',\n",
              " 'FOOD & DRINK',\n",
              " 'ENTERTAINMENT',\n",
              " 'POLITICS',\n",
              " 'PARENTING',\n",
              " 'WELLNESS',\n",
              " 'WELLNESS',\n",
              " 'FOOD & DRINK',\n",
              " 'WELLNESS',\n",
              " 'ENTERTAINMENT',\n",
              " 'ENTERTAINMENT',\n",
              " 'TRAVEL',\n",
              " 'WELLNESS',\n",
              " 'POLITICS',\n",
              " 'POLITICS',\n",
              " 'WELLNESS',\n",
              " 'WELLNESS',\n",
              " 'STYLE & BEAUTY',\n",
              " 'HEALTHY LIVING',\n",
              " 'TRAVEL',\n",
              " 'POLITICS',\n",
              " 'POLITICS',\n",
              " 'STYLE & BEAUTY',\n",
              " 'POLITICS',\n",
              " 'COMEDY',\n",
              " 'QUEER VOICES',\n",
              " 'HEALTHY LIVING',\n",
              " 'POLITICS',\n",
              " 'POLITICS',\n",
              " 'POLITICS',\n",
              " 'WELLNESS',\n",
              " 'POLITICS',\n",
              " 'POLITICS',\n",
              " 'QUEER VOICES',\n",
              " 'WELLNESS',\n",
              " 'POLITICS',\n",
              " 'WEDDINGS',\n",
              " 'POLITICS',\n",
              " 'POLITICS',\n",
              " 'POLITICS',\n",
              " 'THE WORLDPOST',\n",
              " 'PARENTING',\n",
              " 'BLACK VOICES',\n",
              " 'POLITICS',\n",
              " 'CRIME',\n",
              " 'POLITICS',\n",
              " 'POLITICS',\n",
              " 'ENTERTAINMENT',\n",
              " 'WELLNESS',\n",
              " 'WELLNESS',\n",
              " 'POLITICS',\n",
              " 'ENTERTAINMENT',\n",
              " 'POLITICS',\n",
              " 'FOOD & DRINK',\n",
              " 'ENTERTAINMENT',\n",
              " 'ENTERTAINMENT',\n",
              " 'ENTERTAINMENT',\n",
              " 'POLITICS',\n",
              " 'POLITICS',\n",
              " 'PARENTING',\n",
              " 'POLITICS',\n",
              " 'ENTERTAINMENT',\n",
              " 'POLITICS',\n",
              " 'POLITICS',\n",
              " 'POLITICS',\n",
              " 'POLITICS',\n",
              " 'POLITICS',\n",
              " 'SPORTS',\n",
              " 'QUEER VOICES',\n",
              " 'FOOD & DRINK',\n",
              " 'WELLNESS',\n",
              " 'BUSINESS',\n",
              " 'POLITICS',\n",
              " 'POLITICS',\n",
              " 'QUEER VOICES',\n",
              " 'POLITICS',\n",
              " 'WELLNESS',\n",
              " 'ENTERTAINMENT',\n",
              " 'ENTERTAINMENT',\n",
              " 'TRAVEL',\n",
              " 'POLITICS',\n",
              " 'STYLE & BEAUTY',\n",
              " 'TRAVEL',\n",
              " 'POLITICS',\n",
              " 'TRAVEL',\n",
              " 'PARENTING',\n",
              " 'ENTERTAINMENT',\n",
              " 'IMPACT',\n",
              " 'POLITICS',\n",
              " 'PARENTING',\n",
              " 'POLITICS',\n",
              " 'PARENTING',\n",
              " 'WELLNESS',\n",
              " 'POLITICS',\n",
              " 'POLITICS',\n",
              " 'STYLE & BEAUTY',\n",
              " 'FOOD & DRINK',\n",
              " 'FOOD & DRINK',\n",
              " 'POLITICS',\n",
              " 'TRAVEL',\n",
              " 'TRAVEL',\n",
              " 'ENTERTAINMENT',\n",
              " 'FOOD & DRINK',\n",
              " 'BUSINESS',\n",
              " 'STYLE & BEAUTY',\n",
              " 'ENTERTAINMENT',\n",
              " 'ENTERTAINMENT',\n",
              " 'ENTERTAINMENT',\n",
              " 'ENTERTAINMENT',\n",
              " 'POLITICS',\n",
              " 'WELLNESS',\n",
              " 'WELLNESS',\n",
              " 'POLITICS',\n",
              " 'WELLNESS',\n",
              " 'POLITICS',\n",
              " 'POLITICS',\n",
              " 'POLITICS',\n",
              " 'ENTERTAINMENT',\n",
              " 'ENTERTAINMENT',\n",
              " 'WELLNESS',\n",
              " 'CRIME',\n",
              " 'WELLNESS',\n",
              " 'TRAVEL',\n",
              " 'POLITICS',\n",
              " 'POLITICS',\n",
              " 'POLITICS',\n",
              " 'WELLNESS',\n",
              " 'ENTERTAINMENT',\n",
              " 'PARENTING',\n",
              " 'WELLNESS',\n",
              " 'WELLNESS',\n",
              " 'SPORTS',\n",
              " 'WELLNESS',\n",
              " 'POLITICS',\n",
              " 'WELLNESS',\n",
              " 'POLITICS',\n",
              " 'TRAVEL',\n",
              " 'STYLE & BEAUTY',\n",
              " 'POLITICS',\n",
              " 'POLITICS',\n",
              " 'POLITICS',\n",
              " 'PARENTING',\n",
              " 'WELLNESS',\n",
              " 'WELLNESS',\n",
              " 'PARENTING',\n",
              " 'POLITICS',\n",
              " 'POLITICS',\n",
              " 'WOMEN',\n",
              " 'WELLNESS',\n",
              " 'PARENTING',\n",
              " 'ENTERTAINMENT',\n",
              " 'POLITICS',\n",
              " 'ENTERTAINMENT',\n",
              " 'PARENTING',\n",
              " 'WELLNESS',\n",
              " 'ENTERTAINMENT',\n",
              " 'ENTERTAINMENT',\n",
              " 'TRAVEL',\n",
              " 'SCIENCE',\n",
              " 'PARENTING',\n",
              " 'POLITICS',\n",
              " 'WELLNESS',\n",
              " 'STYLE & BEAUTY',\n",
              " 'TRAVEL',\n",
              " 'PARENTING',\n",
              " 'HEALTHY LIVING',\n",
              " 'STYLE & BEAUTY',\n",
              " 'POLITICS',\n",
              " 'POLITICS',\n",
              " 'WELLNESS',\n",
              " 'SPORTS',\n",
              " 'ENTERTAINMENT',\n",
              " 'WELLNESS',\n",
              " 'WELLNESS',\n",
              " 'HOME & LIVING',\n",
              " 'ENTERTAINMENT',\n",
              " 'ENTERTAINMENT',\n",
              " 'STYLE & BEAUTY',\n",
              " 'STYLE & BEAUTY',\n",
              " 'ENTERTAINMENT',\n",
              " 'POLITICS',\n",
              " 'BLACK VOICES',\n",
              " 'HOME & LIVING',\n",
              " 'POLITICS',\n",
              " 'PARENTING',\n",
              " 'ENTERTAINMENT',\n",
              " 'WEDDINGS',\n",
              " 'POLITICS',\n",
              " 'ENTERTAINMENT',\n",
              " 'ENTERTAINMENT',\n",
              " 'STYLE & BEAUTY',\n",
              " 'QUEER VOICES',\n",
              " 'POLITICS',\n",
              " 'POLITICS',\n",
              " 'POLITICS',\n",
              " 'CRIME',\n",
              " 'CRIME',\n",
              " 'FOOD & DRINK',\n",
              " 'STYLE & BEAUTY',\n",
              " 'WELLNESS',\n",
              " 'POLITICS',\n",
              " 'STYLE & BEAUTY',\n",
              " 'TRAVEL',\n",
              " 'POLITICS',\n",
              " 'POLITICS',\n",
              " 'POLITICS',\n",
              " 'WELLNESS',\n",
              " 'POLITICS',\n",
              " 'POLITICS',\n",
              " 'POLITICS',\n",
              " 'THE WORLDPOST',\n",
              " 'POLITICS',\n",
              " 'POLITICS',\n",
              " 'STYLE & BEAUTY',\n",
              " 'ENTERTAINMENT',\n",
              " 'STYLE & BEAUTY',\n",
              " 'ENTERTAINMENT',\n",
              " 'WELLNESS',\n",
              " 'ENTERTAINMENT',\n",
              " 'POLITICS',\n",
              " 'ENTERTAINMENT',\n",
              " 'POLITICS',\n",
              " 'ENTERTAINMENT',\n",
              " 'POLITICS',\n",
              " 'WEDDINGS',\n",
              " 'POLITICS',\n",
              " 'THE WORLDPOST',\n",
              " 'WOMEN',\n",
              " 'POLITICS',\n",
              " 'WELLNESS',\n",
              " 'ENTERTAINMENT',\n",
              " 'WELLNESS',\n",
              " 'POLITICS',\n",
              " 'WELLNESS',\n",
              " 'POLITICS',\n",
              " 'WEDDINGS',\n",
              " 'WELLNESS',\n",
              " 'POLITICS',\n",
              " 'POLITICS',\n",
              " 'ENTERTAINMENT',\n",
              " 'POLITICS',\n",
              " 'POLITICS',\n",
              " 'WELLNESS',\n",
              " 'WEDDINGS',\n",
              " 'STYLE & BEAUTY',\n",
              " 'WEDDINGS',\n",
              " 'POLITICS',\n",
              " 'BUSINESS',\n",
              " 'POLITICS',\n",
              " 'WELLNESS',\n",
              " 'STYLE & BEAUTY',\n",
              " 'WELLNESS',\n",
              " 'POLITICS',\n",
              " 'WELLNESS',\n",
              " 'POLITICS',\n",
              " 'ENTERTAINMENT',\n",
              " 'WELLNESS',\n",
              " 'PARENTING',\n",
              " 'POLITICS',\n",
              " 'POLITICS',\n",
              " 'SPORTS',\n",
              " 'WELLNESS',\n",
              " 'TRAVEL',\n",
              " 'WELLNESS',\n",
              " 'STYLE & BEAUTY',\n",
              " 'POLITICS',\n",
              " 'POLITICS',\n",
              " 'ENTERTAINMENT',\n",
              " 'POLITICS',\n",
              " 'STYLE & BEAUTY',\n",
              " 'STYLE & BEAUTY',\n",
              " 'PARENTING',\n",
              " 'POLITICS',\n",
              " 'POLITICS',\n",
              " 'ENTERTAINMENT',\n",
              " 'WELLNESS',\n",
              " 'WELLNESS',\n",
              " 'DIVORCE',\n",
              " 'POLITICS',\n",
              " 'POLITICS',\n",
              " 'TRAVEL',\n",
              " 'WELLNESS',\n",
              " 'POLITICS',\n",
              " 'ENTERTAINMENT',\n",
              " 'ENTERTAINMENT',\n",
              " 'POLITICS',\n",
              " 'ENTERTAINMENT',\n",
              " 'WELLNESS',\n",
              " 'WELLNESS',\n",
              " 'ENTERTAINMENT',\n",
              " 'POLITICS',\n",
              " 'WELLNESS',\n",
              " 'POLITICS',\n",
              " 'POLITICS',\n",
              " 'WELLNESS',\n",
              " 'TRAVEL',\n",
              " 'POLITICS',\n",
              " 'BLACK VOICES',\n",
              " 'POLITICS',\n",
              " 'POLITICS',\n",
              " 'POLITICS',\n",
              " 'POLITICS',\n",
              " 'POLITICS',\n",
              " 'POLITICS',\n",
              " 'WEDDINGS',\n",
              " 'WELLNESS',\n",
              " 'ENTERTAINMENT',\n",
              " 'WELLNESS',\n",
              " 'POLITICS',\n",
              " 'STYLE & BEAUTY',\n",
              " 'POLITICS',\n",
              " 'TRAVEL',\n",
              " 'TRAVEL',\n",
              " 'WELLNESS',\n",
              " 'PARENTING',\n",
              " 'ENTERTAINMENT',\n",
              " 'WELLNESS',\n",
              " 'STYLE & BEAUTY',\n",
              " 'ENTERTAINMENT',\n",
              " 'POLITICS',\n",
              " 'POLITICS',\n",
              " 'ENTERTAINMENT',\n",
              " 'POLITICS',\n",
              " 'WELLNESS',\n",
              " 'FOOD & DRINK',\n",
              " 'POLITICS',\n",
              " 'PARENTING',\n",
              " 'ENTERTAINMENT',\n",
              " 'POLITICS',\n",
              " 'POLITICS',\n",
              " 'POLITICS',\n",
              " 'POLITICS',\n",
              " 'ENTERTAINMENT',\n",
              " 'POLITICS',\n",
              " 'ENTERTAINMENT',\n",
              " 'POLITICS',\n",
              " 'POLITICS',\n",
              " 'POLITICS',\n",
              " 'WELLNESS',\n",
              " 'ENTERTAINMENT',\n",
              " 'ENTERTAINMENT',\n",
              " 'POLITICS',\n",
              " 'WELLNESS',\n",
              " 'WELLNESS',\n",
              " 'WELLNESS',\n",
              " 'POLITICS',\n",
              " 'TRAVEL',\n",
              " 'TRAVEL',\n",
              " 'ENTERTAINMENT',\n",
              " 'POLITICS',\n",
              " 'TRAVEL',\n",
              " 'CRIME',\n",
              " 'POLITICS',\n",
              " 'WELLNESS',\n",
              " 'POLITICS',\n",
              " 'WELLNESS',\n",
              " 'POLITICS',\n",
              " 'POLITICS',\n",
              " 'TRAVEL',\n",
              " 'TRAVEL',\n",
              " 'POLITICS',\n",
              " 'WELLNESS',\n",
              " 'STYLE & BEAUTY',\n",
              " 'POLITICS',\n",
              " 'POLITICS',\n",
              " 'POLITICS',\n",
              " 'POLITICS',\n",
              " 'ENTERTAINMENT',\n",
              " 'WELLNESS',\n",
              " 'WELLNESS',\n",
              " 'POLITICS',\n",
              " 'ENTERTAINMENT',\n",
              " 'POLITICS',\n",
              " 'POLITICS',\n",
              " 'WELLNESS',\n",
              " 'ENTERTAINMENT',\n",
              " 'POLITICS',\n",
              " 'POLITICS',\n",
              " 'ENTERTAINMENT',\n",
              " 'POLITICS',\n",
              " 'PARENTING',\n",
              " 'TRAVEL',\n",
              " 'WELLNESS',\n",
              " 'ENTERTAINMENT',\n",
              " 'FOOD & DRINK',\n",
              " 'TRAVEL',\n",
              " 'POLITICS',\n",
              " 'POLITICS',\n",
              " 'FOOD & DRINK',\n",
              " 'POLITICS',\n",
              " 'PARENTING',\n",
              " 'WORLD NEWS',\n",
              " 'POLITICS',\n",
              " 'ENTERTAINMENT',\n",
              " 'WELLNESS',\n",
              " 'BUSINESS',\n",
              " 'ENTERTAINMENT',\n",
              " 'ENTERTAINMENT',\n",
              " 'WELLNESS',\n",
              " 'POLITICS',\n",
              " 'POLITICS',\n",
              " 'ENTERTAINMENT',\n",
              " 'WELLNESS',\n",
              " 'HEALTHY LIVING',\n",
              " 'ENTERTAINMENT',\n",
              " 'SPORTS',\n",
              " 'ENTERTAINMENT',\n",
              " 'PARENTING',\n",
              " 'POLITICS',\n",
              " 'POLITICS',\n",
              " 'POLITICS',\n",
              " 'POLITICS',\n",
              " 'WELLNESS',\n",
              " 'WELLNESS',\n",
              " 'POLITICS',\n",
              " 'POLITICS',\n",
              " 'POLITICS',\n",
              " 'WELLNESS',\n",
              " 'WELLNESS',\n",
              " 'ENTERTAINMENT',\n",
              " 'POLITICS',\n",
              " 'WELLNESS',\n",
              " 'POLITICS',\n",
              " 'QUEER VOICES',\n",
              " 'DIVORCE',\n",
              " 'POLITICS',\n",
              " 'POLITICS',\n",
              " 'ENTERTAINMENT',\n",
              " 'WELLNESS',\n",
              " 'ENTERTAINMENT',\n",
              " 'WELLNESS',\n",
              " 'PARENTING',\n",
              " 'POLITICS',\n",
              " 'WELLNESS',\n",
              " 'SPORTS',\n",
              " 'POLITICS',\n",
              " 'PARENTING',\n",
              " 'POLITICS',\n",
              " 'POLITICS',\n",
              " 'WELLNESS',\n",
              " 'PARENTING',\n",
              " 'POLITICS',\n",
              " 'WEDDINGS',\n",
              " 'THE WORLDPOST',\n",
              " 'POLITICS',\n",
              " 'POLITICS',\n",
              " 'WELLNESS',\n",
              " 'TRAVEL',\n",
              " 'WELLNESS',\n",
              " 'TRAVEL',\n",
              " 'POLITICS',\n",
              " 'ENTERTAINMENT',\n",
              " 'QUEER VOICES',\n",
              " 'WOMEN',\n",
              " 'STYLE & BEAUTY',\n",
              " 'POLITICS',\n",
              " 'POLITICS',\n",
              " 'TRAVEL',\n",
              " 'PARENTING',\n",
              " 'POLITICS',\n",
              " 'POLITICS',\n",
              " 'POLITICS',\n",
              " 'STYLE & BEAUTY',\n",
              " 'WELLNESS',\n",
              " 'POLITICS',\n",
              " 'HOME & LIVING',\n",
              " 'POLITICS',\n",
              " 'PARENTING',\n",
              " 'PARENTING',\n",
              " 'POLITICS',\n",
              " 'QUEER VOICES',\n",
              " 'ENTERTAINMENT',\n",
              " 'ENTERTAINMENT',\n",
              " 'FOOD & DRINK',\n",
              " 'POLITICS',\n",
              " 'ENTERTAINMENT',\n",
              " 'ENTERTAINMENT',\n",
              " 'FOOD & DRINK',\n",
              " 'POLITICS',\n",
              " 'POLITICS',\n",
              " 'POLITICS',\n",
              " 'TRAVEL',\n",
              " 'POLITICS',\n",
              " 'WELLNESS',\n",
              " 'WELLNESS',\n",
              " 'WELLNESS',\n",
              " 'POLITICS',\n",
              " 'WELLNESS',\n",
              " 'DIVORCE',\n",
              " 'POLITICS',\n",
              " 'PARENTS',\n",
              " 'POLITICS',\n",
              " 'DIVORCE',\n",
              " 'ENTERTAINMENT',\n",
              " 'POLITICS',\n",
              " 'ENTERTAINMENT',\n",
              " 'ENTERTAINMENT',\n",
              " 'POLITICS',\n",
              " 'POLITICS',\n",
              " 'TRAVEL',\n",
              " 'POLITICS',\n",
              " 'ENTERTAINMENT',\n",
              " 'PARENTING',\n",
              " 'WEDDINGS',\n",
              " 'POLITICS',\n",
              " 'WEDDINGS',\n",
              " 'POLITICS',\n",
              " 'STYLE & BEAUTY',\n",
              " 'POLITICS',\n",
              " 'ENTERTAINMENT',\n",
              " 'POLITICS',\n",
              " 'POLITICS',\n",
              " 'QUEER VOICES',\n",
              " 'ENTERTAINMENT',\n",
              " 'STYLE & BEAUTY',\n",
              " 'ENTERTAINMENT',\n",
              " 'ENTERTAINMENT',\n",
              " 'WEDDINGS',\n",
              " 'POLITICS',\n",
              " 'WELLNESS',\n",
              " 'ENVIRONMENT',\n",
              " 'POLITICS',\n",
              " 'POLITICS',\n",
              " 'POLITICS',\n",
              " 'TRAVEL',\n",
              " 'STYLE & BEAUTY',\n",
              " 'POLITICS',\n",
              " 'POLITICS',\n",
              " 'WELLNESS',\n",
              " 'QUEER VOICES',\n",
              " 'POLITICS',\n",
              " 'ENTERTAINMENT',\n",
              " 'POLITICS',\n",
              " 'POLITICS',\n",
              " 'POLITICS',\n",
              " 'TRAVEL',\n",
              " 'WELLNESS',\n",
              " 'POLITICS',\n",
              " 'POLITICS',\n",
              " 'PARENTING',\n",
              " 'POLITICS',\n",
              " 'HEALTHY LIVING',\n",
              " 'SPORTS',\n",
              " 'ENTERTAINMENT',\n",
              " 'ENTERTAINMENT',\n",
              " 'POLITICS',\n",
              " 'STYLE & BEAUTY',\n",
              " 'POLITICS',\n",
              " 'ENTERTAINMENT',\n",
              " 'POLITICS',\n",
              " 'ENTERTAINMENT',\n",
              " 'POLITICS',\n",
              " 'PARENTING',\n",
              " 'WELLNESS',\n",
              " 'POLITICS',\n",
              " 'WELLNESS',\n",
              " 'ENTERTAINMENT',\n",
              " 'POLITICS',\n",
              " 'STYLE & BEAUTY',\n",
              " 'POLITICS',\n",
              " 'POLITICS',\n",
              " 'ENTERTAINMENT',\n",
              " 'POLITICS',\n",
              " 'POLITICS',\n",
              " 'POLITICS',\n",
              " 'ENTERTAINMENT',\n",
              " 'STYLE & BEAUTY',\n",
              " 'ENTERTAINMENT',\n",
              " 'POLITICS',\n",
              " 'WELLNESS',\n",
              " 'ENTERTAINMENT',\n",
              " 'TRAVEL',\n",
              " 'TRAVEL',\n",
              " 'WOMEN',\n",
              " 'STYLE & BEAUTY',\n",
              " 'POLITICS',\n",
              " 'POLITICS',\n",
              " 'POLITICS',\n",
              " 'SPORTS',\n",
              " 'POLITICS',\n",
              " 'POLITICS',\n",
              " 'QUEER VOICES',\n",
              " 'WELLNESS',\n",
              " 'PARENTING',\n",
              " 'STYLE & BEAUTY',\n",
              " 'POLITICS',\n",
              " 'POLITICS',\n",
              " 'BUSINESS',\n",
              " 'POLITICS',\n",
              " 'POLITICS',\n",
              " 'POLITICS',\n",
              " 'POLITICS',\n",
              " 'POLITICS',\n",
              " 'POLITICS',\n",
              " 'WELLNESS',\n",
              " 'PARENTING',\n",
              " 'ENTERTAINMENT',\n",
              " 'CRIME',\n",
              " 'POLITICS',\n",
              " 'DIVORCE',\n",
              " 'POLITICS',\n",
              " 'STYLE & BEAUTY',\n",
              " 'POLITICS',\n",
              " 'POLITICS',\n",
              " 'POLITICS',\n",
              " 'WELLNESS',\n",
              " 'POLITICS',\n",
              " 'WELLNESS',\n",
              " 'POLITICS',\n",
              " 'WELLNESS',\n",
              " 'QUEER VOICES',\n",
              " 'STYLE & BEAUTY',\n",
              " 'MEDIA',\n",
              " 'WELLNESS',\n",
              " 'HOME & LIVING',\n",
              " 'POLITICS',\n",
              " 'ENTERTAINMENT',\n",
              " 'ENTERTAINMENT',\n",
              " 'WELLNESS',\n",
              " 'WELLNESS',\n",
              " 'POLITICS',\n",
              " 'ENTERTAINMENT',\n",
              " 'ENTERTAINMENT',\n",
              " 'TRAVEL',\n",
              " 'WELLNESS',\n",
              " 'WELLNESS',\n",
              " 'POLITICS',\n",
              " 'POLITICS',\n",
              " 'PARENTING',\n",
              " 'ENTERTAINMENT',\n",
              " 'FOOD & DRINK',\n",
              " 'WELLNESS',\n",
              " 'POLITICS',\n",
              " 'WELLNESS',\n",
              " 'WELLNESS',\n",
              " 'QUEER VOICES',\n",
              " 'ENTERTAINMENT',\n",
              " 'ENTERTAINMENT',\n",
              " 'ENTERTAINMENT',\n",
              " ...]"
            ]
          },
          "metadata": {},
          "execution_count": 61
        }
      ]
    },
    {
      "cell_type": "code",
      "source": [
        "df_train.groupby(\"category\").category_id.count().plot.bar(ylim=0)"
      ],
      "metadata": {
        "colab": {
          "base_uri": "https://localhost:8080/",
          "height": 574
        },
        "id": "NI98httLJb-Y",
        "outputId": "6c1a5e0d-4c4d-41c7-9ede-a720984977cc"
      },
      "execution_count": 62,
      "outputs": [
        {
          "output_type": "execute_result",
          "data": {
            "text/plain": [
              "<Axes: xlabel='category'>"
            ]
          },
          "metadata": {},
          "execution_count": 62
        },
        {
          "output_type": "display_data",
          "data": {
            "text/plain": [
              "<Figure size 640x480 with 1 Axes>"
            ],
            "image/png": "[encoded data removed]"
          },
          "metadata": {}
        }
      ]
    },
    {
      "cell_type": "code",
      "source": [
        "tfidf = TfidfVectorizer(sublinear_tf=True, min_df=5, norm='l2', encoding='latin-1', ngram_range=(1, 2), stop_words='english')\n",
        "features = tfidf.fit_transform(df_train.headline).toarray()\n",
        "labels = df_train.category_id"
      ],
      "metadata": {
        "id": "gkGvLJr6JiO0"
      },
      "execution_count": 63,
      "outputs": []
    },
    {
      "cell_type": "code",
      "source": [
        "import numpy as np\n",
        "\n",
        "for category, category_id in sorted(category_to_id.items()):\n",
        "    indices = np.argsort(model.coef_[category_id])\n",
        "    feature_names = np.array(tfidf.get_feature_names_out())[indices]  # Access vocabulary directly\n",
        "    unigrams = [v for v in reversed(feature_names) if len(v.split(' ')) == 1][:N]\n",
        "    bigrams = [v for v in reversed(feature_names) if len(v.split(' ')) == 2][:N]\n",
        "\n",
        "    print(f\"\\n## '{category}':\")\n",
        "    print(\"  . Most correlated unigrams:\\n       . {}\".format('\\n       . '.join(unigrams)))\n",
        "    print(\"  . Most correlated bigrams:\\n       . {}\".format('\\n       . '.join(bigrams)))\n"
      ],
      "metadata": {
        "colab": {
          "base_uri": "https://localhost:8080/"
        },
        "id": "2DEm4UxBJs86",
        "outputId": "b5d62e37-5255-4120-9eb5-3c7bf2949e1d"
      },
      "execution_count": 66,
      "outputs": [
        {
          "output_type": "stream",
          "name": "stdout",
          "text": [
            "\n",
            "## 'business':\n",
            "  . Most correlated unigrams:\n",
            "       . fitness\n",
            "       . sleep\n",
            "       . study\n",
            "       . workout\n",
            "       . health\n",
            "       . yoga\n",
            "       . fda\n",
            "       . healthy\n",
            "       . weight\n",
            "       . cancer\n",
            "  . Most correlated bigrams:\n",
            "       . new year\n",
            "       . weight loss\n",
            "       . gps guide\n",
            "       . prostate cancer\n",
            "       . heart disease\n",
            "       . lost weight\n",
            "       . weekly meditations\n",
            "       . healthy sex\n",
            "       . meditations healthy\n",
            "       . study suggests\n",
            "\n",
            "## 'entertainment':\n",
            "  . Most correlated unigrams:\n",
            "       . isis\n",
            "       . iraq\n",
            "       . foreign\n",
            "       . hamas\n",
            "       . military\n",
            "       . washington\n",
            "       . asia\n",
            "       . troops\n",
            "       . cuba\n",
            "       . battle\n",
            "  . Most correlated bigrams:\n",
            "       . week photos\n",
            "       . hong kong\n",
            "       . look day\n",
            "       . north korea\n",
            "       . 30 years\n",
            "       . 10 things\n",
            "       . old girl\n",
            "       . year old\n",
            "       . friday morning\n",
            "       . gop senator\n",
            "\n",
            "## 'politics':\n",
            "  . Most correlated unigrams:\n",
            "       . kids\n",
            "       . mom\n",
            "       . parenting\n",
            "       . parents\n",
            "       . baby\n",
            "       . toddler\n",
            "       . daughter\n",
            "       . breastfeeding\n",
            "       . parent\n",
            "       . moms\n",
            "  . Most correlated bigrams:\n",
            "       . father day\n",
            "       . baby names\n",
            "       . parenting tweets\n",
            "       . women history\n",
            "       . little girl\n",
            "       . mother day\n",
            "       . second child\n",
            "       . said twitter\n",
            "       . twitter week\n",
            "       . tweets moms\n",
            "\n",
            "## 'sport':\n",
            "  . Most correlated unigrams:\n",
            "       . business\n",
            "       . jobs\n",
            "       . ceo\n",
            "       . uber\n",
            "       . marketing\n",
            "       . board\n",
            "       . sales\n",
            "       . krugman\n",
            "       . workers\n",
            "       . companies\n",
            "  . Most correlated bigrams:\n",
            "       . women business\n",
            "       . 24 wall\n",
            "       . wall st\n",
            "       . new york\n",
            "       . black friday\n",
            "       . elon musk\n",
            "       . york city\n",
            "       . wall street\n",
            "       . single mom\n",
            "       . want know\n",
            "\n",
            "## 'tech':\n",
            "  . Most correlated unigrams:\n",
            "       . trump\n",
            "       . gop\n",
            "       . obama\n",
            "       . republicans\n",
            "       . democrats\n",
            "       . clinton\n",
            "       . senate\n",
            "       . republican\n",
            "       . house\n",
            "       . obamacare\n",
            "  . Most correlated bigrams:\n",
            "       . ted cruz\n",
            "       . huffpost hill\n",
            "       . paul ryan\n",
            "       . supreme court\n",
            "       . sunday roundup\n",
            "       . morning email\n",
            "       . health care\n",
            "       . need know\n",
            "       . hillary clinton\n",
            "       . white house\n"
          ]
        }
      ]
    }
  ]
}